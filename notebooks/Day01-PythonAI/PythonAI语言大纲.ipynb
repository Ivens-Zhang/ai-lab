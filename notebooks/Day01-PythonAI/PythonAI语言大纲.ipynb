{
 "cells": [
  {
   "cell_type": "markdown",
   "metadata": {},
   "source": [
    "# AIPython课程大纲"
   ]
  },
  {
   "cell_type": "markdown",
   "metadata": {},
   "source": [
    "### 讲师：丁力斌\n",
    "***\n",
    "微软仪电创新院特聘讲师、南洋万邦开发工程师、培训中心讲师，曾担任MES开发工程师。       \n",
    "软件工程硕士，证书有JAVA软件工程师（工信部），微软DP认证、微软仪电AI认证等。项目有南洋优课系统、云讲堂、锂电池MES系统等，目前工作领域有Python、Web、SQL、NoSQL、AI等。\n",
    "***"
   ]
  },
  {
   "cell_type": "markdown",
   "metadata": {
    "ExecuteTime": {
     "end_time": "2019-10-30T07:23:41.021312Z",
     "start_time": "2019-10-30T07:23:41.017364Z"
    }
   },
   "source": [
    "### 微软AI资深工程师：Bartuer老师"
   ]
  },
  {
   "cell_type": "markdown",
   "metadata": {},
   "source": [
    "### [专家连线VIDEO](https://aivideo.blob.core.chinacloudapi.cn/asset-2bae6825-7623-4fb8-9a78-437d26a0ff73/丁力斌batter.mp4?sv=2017-04-17&sr=c&si=d4f1e13a-fd0d-4d76-b51e-b606bebbd9b3&sig=jZYznA1XaznbTzcxg8Gr54a7hGst2MDb1qvbftVEmEU%3D&st=2019-10-28T06%3A47%3A04Z&se=2119-10-28T06%3A47%3A04Z)![avatar](https://aivideo.blob.core.chinacloudapi.cn/asset-c7fdd064-1f07-4fdb-afd5-d1317b1ac351/WechatIMG447.jpeg?sv=2017-04-17&sr=c&si=be10e066-6770-4fb8-a27d-540456a51927&sig=KylUaj6gPei6ib97i2Yt134mnoEHi2iVTqkCOyKvZS4%3D&st=2019-10-30T07%3A20%3A34Z&se=2119-10-30T07%3A20%3A34Z)"
   ]
  },
  {
   "cell_type": "markdown",
   "metadata": {},
   "source": [
    "### [Python语言基础_01编程环境](./Python语言基础_01编程环境.ipynb)"
   ]
  },
  {
   "cell_type": "markdown",
   "metadata": {},
   "source": [
    "### [Python语言基础_02数据类型](./Python语言基础_02数据类型.ipynb)"
   ]
  },
  {
   "cell_type": "markdown",
   "metadata": {},
   "source": [
    "### [Python语言基础_03循环语句](./Python语言基础_03循环语句.ipynb)"
   ]
  },
  {
   "cell_type": "markdown",
   "metadata": {},
   "source": [
    "### [Python语言基础_04函数类库](./Python语言基础_04函数类库.ipynb)"
   ]
  },
  {
   "cell_type": "markdown",
   "metadata": {},
   "source": [
    "### [Python语言基础_05Numpy](./Python语言基础_05Numpy.ipynb)"
   ]
  },
  {
   "cell_type": "markdown",
   "metadata": {},
   "source": [
    "### [Python语言基础_06Pandas](./Python语言基础_06Pandas.ipynb)"
   ]
  },
  {
   "cell_type": "markdown",
   "metadata": {},
   "source": [
    "### [Python语言基础_07Matplotlib](./Python语言基础_07Matplotlib.ipynb)"
   ]
  },
  {
   "cell_type": "markdown",
   "metadata": {
    "ExecuteTime": {
     "end_time": "2019-10-30T07:32:39.475367Z",
     "start_time": "2019-10-30T07:32:39.468328Z"
    }
   },
   "source": [
    "### [ Python语言案例_01Trump](./Python语言案例_01Trump.ipynb)"
   ]
  },
  {
   "cell_type": "markdown",
   "metadata": {
    "ExecuteTime": {
     "end_time": "2019-10-30T07:32:41.578528Z",
     "start_time": "2019-10-30T07:32:41.575793Z"
    }
   },
   "source": [
    "### [Python语言案例_02Titanic](./Python语言案例_02Titanic.ipynb)"
   ]
  },
  {
   "cell_type": "markdown",
   "metadata": {
    "ExecuteTime": {
     "end_time": "2019-10-30T07:32:42.845454Z",
     "start_time": "2019-10-30T07:32:42.842690Z"
    }
   },
   "source": [
    "### [Python语言案例_03starbucks](./Python语言案例_03starbucks.ipynb)"
   ]
  },
  {
   "cell_type": "markdown",
   "metadata": {
    "ExecuteTime": {
     "end_time": "2019-10-30T07:35:49.215265Z",
     "start_time": "2019-10-30T07:35:49.212860Z"
    }
   },
   "source": [
    "### [Python语言案例_04BSGpm2.5](./Python语言案例_04BSGPM2.5.ipynb)"
   ]
  },
  {
   "cell_type": "markdown",
   "metadata": {},
   "source": [
    "## 致  谢\n",
    "__感谢微软亚研院老师们的大力支持，本教案中很多题材源于Bartuer老师的提供和整改。__"
   ]
  }
 ],
 "metadata": {
  "kernelspec": {
   "display_name": "Python 3",
   "language": "python",
   "name": "python3"
  },
  "language_info": {
   "codemirror_mode": {
    "name": "ipython",
    "version": 3
   },
   "file_extension": ".py",
   "mimetype": "text/x-python",
   "name": "python",
   "nbconvert_exporter": "python",
   "pygments_lexer": "ipython3",
   "version": "3.7.1"
  }
 },
 "nbformat": 4,
 "nbformat_minor": 2
}
