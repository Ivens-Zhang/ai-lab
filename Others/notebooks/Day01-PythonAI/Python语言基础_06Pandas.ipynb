{
 "cells": [
  {
   "cell_type": "markdown",
   "metadata": {},
   "source": [
    "# Pandas\n",
    "\n",
    "[Pandas的功能](http://pandas.pydata.org)     \n",
    "Pandas提供了高级数据结构和数据操作工具，它是使Python成为强大而高效的数据处理环境的重要因素之一。\n",
    "\n",
    "Numpy能够帮助我们处理数值，但是pandas除了处理数值之外(基于numpy)，还能够帮助我们处理其他类型的数据，提供了大量能够快速便捷地处理数据的函数和方法。\n",
    "\n"
   ]
  },
  {
   "cell_type": "markdown",
   "metadata": {},
   "source": [
    "### Pandas的数据结构\n",
    " - Series，一维，带标签的数组，List元素可以是不同的数据类型，Series只允许存储相同的数据类型。    \n",
    " - DataFrame，二维，Series容器   \n",
    " - Panel，三维（扩展）   "
   ]
  },
  {
   "cell_type": "code",
   "execution_count": 26,
   "metadata": {
    "ExecuteTime": {
     "end_time": "2019-11-19T08:26:55.081418Z",
     "start_time": "2019-11-19T08:26:55.078336Z"
    }
   },
   "outputs": [],
   "source": [
    "import numpy as np\n",
    "import pandas as pd"
   ]
  },
  {
   "cell_type": "markdown",
   "metadata": {},
   "source": [
    "####  Series\n",
    "Series是一种类似于一维数组的对象，能够保存任何数据类型（整数，字符串，浮点数，Python对象等）。   \n",
    "由一组数据以及一组与之对应的索引组成，索引(index)在左，数据(values)在右。"
   ]
  },
  {
   "cell_type": "code",
   "execution_count": 35,
   "metadata": {
    "ExecuteTime": {
     "end_time": "2019-11-19T08:30:04.700957Z",
     "start_time": "2019-11-19T08:30:04.694122Z"
    }
   },
   "outputs": [
    {
     "name": "stdout",
     "output_type": "stream",
     "text": [
      "<class 'pandas.core.series.Series'>\n",
      "lilei        1.7\n",
      "hanmeimei    1.6\n",
      "xiaoming     1.5\n",
      "dtype: float64\n",
      "Index(['lilei', 'hanmeimei', 'xiaoming'], dtype='object')\n"
     ]
    }
   ],
   "source": [
    "name_data = {\"lilei\": 1.70, \"hanmeimei\": 1.60, \"xiaoming\": 1.50}\n",
    "ser_obj_obj = pd.Series(name_data)\n",
    "print(type(ser_obj_obj))\n",
    "print(ser_obj_obj.head())\n",
    "print(ser_obj_obj.index)"
   ]
  },
  {
   "cell_type": "markdown",
   "metadata": {},
   "source": [
    "#### DataFrame\n",
    "DataFrame是一个二维标记数据结构，类似多维数组/表格数据，它含有一组有序的列，每列可以是不同类型的值。     \n",
    "DataFrame既有行索引也有列索引，它可以被看做是由Series组成的字典（共用同一个索引），数据是以二维结构存放的。\n",
    "\n",
    "     \n",
    " \n",
    "  \n"
   ]
  },
  {
   "cell_type": "code",
   "execution_count": 36,
   "metadata": {
    "ExecuteTime": {
     "end_time": "2019-11-19T08:30:09.768141Z",
     "start_time": "2019-11-19T08:30:09.744181Z"
    }
   },
   "outputs": [
    {
     "name": "stdout",
     "output_type": "stream",
     "text": [
      "   A          B    C       D\n",
      "0  1 2019-01-01  1.0  Python\n",
      "1  1 2019-01-01  1.0    Java\n",
      "2  1 2019-01-01  1.0     C++\n",
      "3  1 2019-01-01  1.0       C\n",
      "0    Python\n",
      "1      Java\n",
      "2       C++\n",
      "3         C\n",
      "Name: D, dtype: object\n",
      "<class 'pandas.core.series.Series'>\n",
      "\n",
      "\n",
      "   A          B    C       D    I\n",
      "0  1 2019-01-01  1.0  Python  6.0\n",
      "1  1 2019-01-01  1.0    Java  6.0\n",
      "2  1 2019-01-01  1.0     C++  6.0\n",
      "3  1 2019-01-01  1.0       C  6.0\n",
      "   A          B    C       D\n",
      "0  1 2019-01-01  1.0  Python\n",
      "1  1 2019-01-01  1.0    Java\n",
      "2  1 2019-01-01  1.0     C++\n",
      "3  1 2019-01-01  1.0       C\n"
     ]
    }
   ],
   "source": [
    "import numpy as np\n",
    "dict_data = {'A': 1, \n",
    "             'B': pd.Timestamp('2019'),\n",
    "             'C': pd.Series(1, index=list(range(4)),dtype='float32'),\n",
    "             'D': [\"Python\",\"Java\",\"C++\",\"C\"],\n",
    "             }\n",
    "df_obj2 = pd.DataFrame(dict_data)\n",
    "print(df_obj2)\n",
    "\n",
    "# 通过列索引获取列数据\n",
    "print(df_obj2['D'])\n",
    "print(type(df_obj2['D']))\n",
    "print( '\\n'*1 )\n",
    "\n",
    "# 增加列\n",
    "df_obj2['I'] = df_obj2['C'] +  5\n",
    "print(df_obj2.head())\n",
    "# 删除列\n",
    "del(df_obj2['I'] )\n",
    "print(df_obj2.head())"
   ]
  },
  {
   "cell_type": "markdown",
   "metadata": {},
   "source": [
    "### Pandas的索引操作"
   ]
  },
  {
   "cell_type": "code",
   "execution_count": 37,
   "metadata": {
    "ExecuteTime": {
     "end_time": "2019-11-19T08:30:11.322481Z",
     "start_time": "2019-11-19T08:30:11.312161Z"
    }
   },
   "outputs": [
    {
     "ename": "TypeError",
     "evalue": "Index does not support mutable operations",
     "output_type": "error",
     "traceback": [
      "\u001b[0;31m---------------------------------------------------------------------------\u001b[0m",
      "\u001b[0;31mTypeError\u001b[0m                                 Traceback (most recent call last)",
      "\u001b[0;32m<ipython-input-37-6367894e76d8>\u001b[0m in \u001b[0;36m<module>\u001b[0;34m\u001b[0m\n\u001b[1;32m      1\u001b[0m \u001b[0;31m# 索引对象不可变\u001b[0m\u001b[0;34m\u001b[0m\u001b[0;34m\u001b[0m\u001b[0;34m\u001b[0m\u001b[0m\n\u001b[0;32m----> 2\u001b[0;31m \u001b[0mdf_obj2\u001b[0m\u001b[0;34m.\u001b[0m\u001b[0mindex\u001b[0m\u001b[0;34m[\u001b[0m\u001b[0;36m0\u001b[0m\u001b[0;34m]\u001b[0m \u001b[0;34m=\u001b[0m \u001b[0;36m2\u001b[0m\u001b[0;34m\u001b[0m\u001b[0;34m\u001b[0m\u001b[0m\n\u001b[0m",
      "\u001b[0;32m~/workspaces/3Ding/lib/python3.7/site-packages/pandas/core/indexes/base.py\u001b[0m in \u001b[0;36m__setitem__\u001b[0;34m(self, key, value)\u001b[0m\n\u001b[1;32m   4258\u001b[0m \u001b[0;34m\u001b[0m\u001b[0m\n\u001b[1;32m   4259\u001b[0m     \u001b[0;32mdef\u001b[0m \u001b[0m__setitem__\u001b[0m\u001b[0;34m(\u001b[0m\u001b[0mself\u001b[0m\u001b[0;34m,\u001b[0m \u001b[0mkey\u001b[0m\u001b[0;34m,\u001b[0m \u001b[0mvalue\u001b[0m\u001b[0;34m)\u001b[0m\u001b[0;34m:\u001b[0m\u001b[0;34m\u001b[0m\u001b[0;34m\u001b[0m\u001b[0m\n\u001b[0;32m-> 4260\u001b[0;31m         \u001b[0;32mraise\u001b[0m \u001b[0mTypeError\u001b[0m\u001b[0;34m(\u001b[0m\u001b[0;34m\"Index does not support mutable operations\"\u001b[0m\u001b[0;34m)\u001b[0m\u001b[0;34m\u001b[0m\u001b[0;34m\u001b[0m\u001b[0m\n\u001b[0m\u001b[1;32m   4261\u001b[0m \u001b[0;34m\u001b[0m\u001b[0m\n\u001b[1;32m   4262\u001b[0m     \u001b[0;32mdef\u001b[0m \u001b[0m__getitem__\u001b[0m\u001b[0;34m(\u001b[0m\u001b[0mself\u001b[0m\u001b[0;34m,\u001b[0m \u001b[0mkey\u001b[0m\u001b[0;34m)\u001b[0m\u001b[0;34m:\u001b[0m\u001b[0;34m\u001b[0m\u001b[0;34m\u001b[0m\u001b[0m\n",
      "\u001b[0;31mTypeError\u001b[0m: Index does not support mutable operations"
     ]
    }
   ],
   "source": [
    "# 索引对象不可变\n",
    "df_obj2.index[0] = 2"
   ]
  },
  {
   "cell_type": "code",
   "execution_count": 50,
   "metadata": {
    "ExecuteTime": {
     "end_time": "2019-11-19T08:37:52.550729Z",
     "start_time": "2019-11-19T08:37:52.541302Z"
    }
   },
   "outputs": [
    {
     "name": "stdout",
     "output_type": "stream",
     "text": [
      "name_data\n",
      "lilei         1.7\n",
      "hanmeimei     1.6\n",
      "xiaoming     15.0\n",
      "Name: name_data, dtype: float64\n",
      "1.7\n",
      "1.7\n",
      "\n",
      "\n",
      "name_data\n",
      "lilei        1.7\n",
      "hanmeimei    1.6\n",
      "Name: name_data, dtype: float64\n",
      "\n",
      "\n",
      "name_data\n",
      "lilei        1.7\n",
      "lilei        1.7\n",
      "xiaoming    15.0\n",
      "Name: name_data, dtype: float64\n"
     ]
    }
   ],
   "source": [
    "#Series索引\n",
    "print(ser_obj.head())\n",
    "# 行索引\n",
    "print(ser_obj[\"lilei\"])\n",
    "print(ser_obj[0])\n",
    "print( '\\n'*1 )\n",
    "# 切片索引\n",
    "print(ser_obj[0:2])\n",
    "print( '\\n'*1 )\n",
    "# 不连续索引\n",
    "print(ser_obj[[0, 0, 2]])"
   ]
  },
  {
   "cell_type": "code",
   "execution_count": 52,
   "metadata": {
    "ExecuteTime": {
     "end_time": "2019-11-19T08:47:51.208521Z",
     "start_time": "2019-11-19T08:47:51.192041Z"
    }
   },
   "outputs": [
    {
     "name": "stdout",
     "output_type": "stream",
     "text": [
      "   A          B    C       D\n",
      "0  1 2019-01-01  1.0  Python\n",
      "1  1 2019-01-01  1.0    Java\n",
      "2  1 2019-01-01  1.0     C++\n",
      "3  1 2019-01-01  1.0       C\n",
      "0    1\n",
      "1    1\n",
      "2    1\n",
      "3    1\n",
      "Name: A, dtype: int64\n",
      "<class 'pandas.core.series.Series'>\n",
      "   A\n",
      "0  1\n",
      "1  1\n",
      "2  1\n",
      "3  1\n",
      "<class 'pandas.core.frame.DataFrame'>\n",
      "   A       D\n",
      "0  1  Python\n",
      "1  1    Java\n",
      "2  1     C++\n",
      "3  1       C\n"
     ]
    }
   ],
   "source": [
    "#DataFrame索引\n",
    "import numpy as np\n",
    "print(df_obj2.head())\n",
    "# 列索引\n",
    "print(df_obj2['A']) # 返回Series类型\n",
    "print(type(df_obj2['A'])) \n",
    "print(df_obj2[['A']]) # 返回DataFrame类型\n",
    "print(type(df_obj2[['A']])) \n",
    "# 不连续索引\n",
    "print(df_obj2[['A','D']])"
   ]
  },
  {
   "cell_type": "markdown",
   "metadata": {},
   "source": [
    "### Pandas的数据计算"
   ]
  },
  {
   "cell_type": "code",
   "execution_count": 102,
   "metadata": {},
   "outputs": [
    {
     "name": "stdout",
     "output_type": "stream",
     "text": [
      "          a         b         c         d\n",
      "0 -0.128458 -0.239049  1.268771 -0.483132\n",
      "1  0.610187  0.011347 -0.220402 -0.725317\n",
      "2  0.383537 -1.509982 -0.945710  1.057704\n",
      "3 -0.240553 -0.774224  0.778547 -1.486289\n",
      "4 -0.372635  0.550255 -0.226011 -1.246501\n"
     ]
    }
   ],
   "source": [
    "import numpy as np\n",
    "import pandas as pd\n",
    "df_obj = pd.DataFrame(np.random.randn(5,4), columns = ['a', 'b', 'c', 'd'])\n",
    "print(df_obj)"
   ]
  },
  {
   "cell_type": "code",
   "execution_count": 106,
   "metadata": {},
   "outputs": [
    {
     "name": "stdout",
     "output_type": "stream",
     "text": [
      "a    0.252078\n",
      "b   -1.961653\n",
      "c    0.655194\n",
      "d   -2.883534\n",
      "dtype: float64\n",
      "a    5\n",
      "b    5\n",
      "c    5\n",
      "d    5\n",
      "dtype: int64\n",
      "\n",
      "\n",
      "              a         b         c         d\n",
      "count  5.000000  5.000000  5.000000  5.000000\n",
      "mean   0.050416 -0.392331  0.131039 -0.576707\n",
      "std    0.424248  0.785797  0.883754  0.997259\n",
      "min   -0.372635 -1.509982 -0.945710 -1.486289\n",
      "25%   -0.240553 -0.774224 -0.226011 -1.246501\n",
      "50%   -0.128458 -0.239049 -0.220402 -0.725317\n",
      "75%    0.383537  0.011347  0.778547 -0.483132\n",
      "max    0.610187  0.550255  1.268771  1.057704\n"
     ]
    }
   ],
   "source": [
    "#常用的计算axis=0 按列统计，axis=1按行统计\n",
    "print(df_obj.sum())\n",
    "print(df_obj.count())\n",
    "print( '\\n'*1 )\n",
    "#describe 产生多个统计数据\n",
    "print(df_obj.describe())"
   ]
  },
  {
   "cell_type": "code",
   "execution_count": 141,
   "metadata": {},
   "outputs": [
    {
     "name": "stdout",
     "output_type": "stream",
     "text": [
      "          0         1        2\n",
      "0  1.650403 -0.204041  0.99448\n",
      "1  1.000000  2.000000      NaN\n",
      "2       NaN  4.000000      NaN\n",
      "3  1.000000  2.000000  3.00000\n",
      "       0      1      2\n",
      "0  False  False  False\n",
      "1  False  False   True\n",
      "2   True  False   True\n",
      "3  False  False  False\n",
      "          0         1        2\n",
      "0  1.650403 -0.204041  0.99448\n",
      "3  1.000000  2.000000  3.00000\n",
      "          1\n",
      "0 -0.204041\n",
      "1  2.000000\n",
      "2  4.000000\n",
      "3  2.000000\n",
      "           0         1         2\n",
      "0   1.650403 -0.204041   0.99448\n",
      "1   1.000000  2.000000 -99.00000\n",
      "2 -99.000000  4.000000 -99.00000\n",
      "3   1.000000  2.000000   3.00000\n"
     ]
    }
   ],
   "source": [
    "#处理缺失数据\n",
    "df_data = pd.DataFrame([np.random.randn(3), [1., 2., np.nan],\n",
    "                       [np.nan, 4., np.nan], [1., 2., 3.]])\n",
    "print(df_data.head())\n",
    "# isnull\n",
    "print(df_data.isnull())\n",
    "# dropna根据axis轴方向，丢弃包含NaN的行或列\n",
    "print(df_data.dropna())\n",
    "print(df_data.dropna(axis=1))#指定行列\n",
    "# fillna填充缺失数据\n",
    "print(df_data.fillna(-99.))"
   ]
  },
  {
   "cell_type": "markdown",
   "metadata": {},
   "source": [
    "### Pandas的分组聚合"
   ]
  },
  {
   "cell_type": "code",
   "execution_count": 131,
   "metadata": {},
   "outputs": [
    {
     "name": "stdout",
     "output_type": "stream",
     "text": [
      "  key1   key2     data1     data2\n",
      "0    a    one  0.800854  1.254107\n",
      "1    b    one -0.359615  1.339783\n",
      "2    a    two  0.663312 -0.952899\n",
      "3    b  three  2.199351 -1.179059\n",
      "4    a    two -0.182035 -0.007730\n",
      "5    b    two -0.003307 -0.397958\n",
      "6    a    one  0.508948 -1.067804\n",
      "7    a  three  0.067674  1.520381\n"
     ]
    }
   ],
   "source": [
    "import pandas as pd\n",
    "import numpy as np\n",
    "\n",
    "dict_obj = {'key1' : ['a', 'b', 'a', 'b', \n",
    "                      'a', 'b', 'a', 'a'],\n",
    "            'key2' : ['one', 'one', 'two', 'three',\n",
    "                      'two', 'two', 'one', 'three'],\n",
    "            'data1': np.random.randn(8),\n",
    "            'data2': np.random.randn(8)}\n",
    "df_obj = pd.DataFrame(dict_obj)\n",
    "print(df_obj)"
   ]
  },
  {
   "cell_type": "code",
   "execution_count": 132,
   "metadata": {},
   "outputs": [
    {
     "name": "stdout",
     "output_type": "stream",
     "text": [
      "a\n",
      "  key1   key2     data1     data2\n",
      "0    a    one  0.800854  1.254107\n",
      "2    a    two  0.663312 -0.952899\n",
      "4    a    two -0.182035 -0.007730\n",
      "6    a    one  0.508948 -1.067804\n",
      "7    a  three  0.067674  1.520381\n",
      "b\n",
      "  key1   key2     data1     data2\n",
      "1    b    one -0.359615  1.339783\n",
      "3    b  three  2.199351 -1.179059\n",
      "5    b    two -0.003307 -0.397958\n",
      "\n",
      "\n",
      "a\n",
      "0    0.800854\n",
      "2    0.663312\n",
      "4   -0.182035\n",
      "6    0.508948\n",
      "7    0.067674\n",
      "Name: data1, dtype: float64\n",
      "b\n",
      "1   -0.359615\n",
      "3    2.199351\n",
      "5   -0.003307\n",
      "Name: data1, dtype: float64\n"
     ]
    }
   ],
   "source": [
    "# 分组运算\n",
    "# 单层分组，根据key1\n",
    "grouped1 = df_obj.groupby('key1')\n",
    "for group_name, group_data in grouped1:\n",
    "    print(group_name)\n",
    "    print(group_data)\n",
    "print( '\\n'*1 )\n",
    "# 多层分组，根据data1\n",
    "grouped2 = df_obj['data1'].groupby(df_obj['key1'])\n",
    "for group_name, group_data in grouped2:\n",
    "    print(group_name)\n",
    "    print(group_data)"
   ]
  },
  {
   "cell_type": "code",
   "execution_count": 135,
   "metadata": {},
   "outputs": [
    {
     "name": "stdout",
     "output_type": "stream",
     "text": [
      "         data1     data2\n",
      "key1                    \n",
      "a     1.858752  0.746056\n",
      "b     1.836428 -0.237235\n",
      "         data1     data2\n",
      "key1                    \n",
      "a     0.371750  0.149211\n",
      "b     0.612143 -0.079078\n"
     ]
    }
   ],
   "source": [
    "#聚合 (aggregation)常用于对分组后的数据进行计算\n",
    "print(df_obj.groupby('key1').sum())\n",
    "print(df_obj.groupby('key1').mean())"
   ]
  },
  {
   "cell_type": "code",
   "execution_count": 134,
   "metadata": {},
   "outputs": [
    {
     "name": "stdout",
     "output_type": "stream",
     "text": [
      "         data1     data2\n",
      "key1                    \n",
      "a     0.982890  2.588186\n",
      "b     2.558966  2.518842\n",
      "         data1     data2\n",
      "key1                    \n",
      "a     0.982890  2.588186\n",
      "b     2.558966  2.518842\n"
     ]
    }
   ],
   "source": [
    "# 自定义聚合函数grouped.agg(func)\n",
    "def peak_range(df):\n",
    "    \"\"\"\n",
    "        返回数值范围\n",
    "    \"\"\"\n",
    "    #print type(df) #参数为索引所对应的记录\n",
    "    return df.max() - df.min()\n",
    "\n",
    "print(df_obj.groupby('key1').agg(peak_range))\n",
    "print(df_obj.groupby('key1').agg(lambda df : df.max() - df.min()))"
   ]
  },
  {
   "cell_type": "markdown",
   "metadata": {},
   "source": [
    "### Pandas的数值重构"
   ]
  },
  {
   "cell_type": "code",
   "execution_count": 136,
   "metadata": {},
   "outputs": [
    {
     "name": "stdout",
     "output_type": "stream",
     "text": [
      "  key  data1\n",
      "0   b      9\n",
      "1   a      9\n",
      "2   a      4\n",
      "3   c      3\n",
      "4   a      7\n",
      "5   a      6\n",
      "6   a      4\n",
      "  key  data2\n",
      "0   a      2\n",
      "1   b      4\n",
      "2   c      0\n",
      "  key  data1  data2\n",
      "0   b      9      4\n",
      "1   a      9      2\n",
      "2   a      4      2\n",
      "3   a      7      2\n",
      "4   a      6      2\n",
      "5   a      4      2\n",
      "6   c      3      0\n"
     ]
    }
   ],
   "source": [
    "import pandas as pd\n",
    "import numpy as np\n",
    "\n",
    "df_obj1 = pd.DataFrame({'key': ['b', 'a', 'a', 'c', 'a', 'a', 'a'],\n",
    "                        'data1' : np.random.randint(0,10,7)})\n",
    "df_obj2 = pd.DataFrame({'key': ['a', 'b', 'c'],\n",
    "                        'data2' : np.random.randint(0,10,3)})\n",
    "\n",
    "print(df_obj1)\n",
    "print(df_obj2)\n",
    "# on显示指定“外键”\n",
    "print(pd.merge(df_obj1, df_obj2, on='key'))"
   ]
  },
  {
   "cell_type": "code",
   "execution_count": 137,
   "metadata": {},
   "outputs": [
    {
     "name": "stdout",
     "output_type": "stream",
     "text": [
      "0    False\n",
      "1    False\n",
      "2    False\n",
      "3    False\n",
      "4    False\n",
      "5    False\n",
      "6     True\n",
      "dtype: bool\n",
      "  key  data1\n",
      "0   b      9\n",
      "1   a      9\n",
      "2   a      4\n",
      "3   c      3\n",
      "4   a      7\n",
      "5   a      6\n"
     ]
    }
   ],
   "source": [
    "#duplicated() 返回布尔型Series表示每行是否为重复行\n",
    "print(df_obj1.duplicated())\n",
    "#drop_duplicates() 过滤重复行\n",
    "print(df_obj1.drop_duplicates())"
   ]
  },
  {
   "cell_type": "code",
   "execution_count": 138,
   "metadata": {},
   "outputs": [
    {
     "name": "stdout",
     "output_type": "stream",
     "text": [
      "  key  data1\n",
      "0   b      9\n",
      "1   a      9\n",
      "2   a      4\n",
      "3   c   -100\n",
      "4   a      7\n",
      "5   a      6\n",
      "6   a      4\n",
      "  key  data1\n",
      "0   b      9\n",
      "1   a      9\n",
      "2   a      4\n",
      "3   c   -100\n",
      "4   a      7\n",
      "5   a      6\n",
      "6   a      4\n",
      "  key  data1\n",
      "0   b      9\n",
      "1   a      9\n",
      "2   a      4\n",
      "3   c   -100\n",
      "4   a      7\n",
      "5   a      6\n",
      "6   a      4\n"
     ]
    }
   ],
   "source": [
    "# 单个值替换单个值\n",
    "print(df_obj1.replace(3, -100))\n",
    "\n",
    "# 多个值替换一个值\n",
    "print(df_obj1.replace([3, 5], -100))\n",
    "\n",
    "# 多个值替换多个值\n",
    "print(df_obj1.replace([3, 5], [-100, -200]))"
   ]
  }
 ],
 "metadata": {
  "kernelspec": {
   "display_name": "Python 3",
   "language": "python",
   "name": "python3"
  },
  "language_info": {
   "codemirror_mode": {
    "name": "ipython",
    "version": 3
   },
   "file_extension": ".py",
   "mimetype": "text/x-python",
   "name": "python",
   "nbconvert_exporter": "python",
   "pygments_lexer": "ipython3",
   "version": "3.7.1"
  }
 },
 "nbformat": 4,
 "nbformat_minor": 2
}
