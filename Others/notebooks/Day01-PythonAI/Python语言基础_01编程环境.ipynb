{
 "cells": [
  {
   "cell_type": "markdown",
   "metadata": {
    "slideshow": {
     "slide_type": "slide"
    }
   },
   "source": [
    "# 编程环境"
   ]
  },
  {
   "cell_type": "markdown",
   "metadata": {
    "slideshow": {
     "slide_type": "slide"
    }
   },
   "source": [
    "\n",
    "## Python语言简介"
   ]
  },
  {
   "cell_type": "markdown",
   "metadata": {
    "slideshow": {
     "slide_type": "slide"
    }
   },
   "source": [
    "### [Guido Van Rossum吉多·范罗苏姆](https://gvanrossum.github.io/)是[Python](https://www.python.org/)的作者![avatar](http://bazhou.blob.core.windows.net/learning/mpp/guido.jpg)\n"
   ]
  },
  {
   "cell_type": "markdown",
   "metadata": {
    "slideshow": {
     "slide_type": "subslide"
    }
   },
   "source": [
    ">他在[stackoverflow](https://stackoverflow.com/users/818274/guido-van-rossum)和[github](https://github.com/gvanrossum)上非常活跃，他的[twitter](https://twitter.com/gvanrossum)更新很勤。\n",
    "\n",
    "![Guido_twitter](http://bazhou.blob.core.windows.net/learning/mpp/guido_tweet_996.png)"
   ]
  },
  {
   "cell_type": "markdown",
   "metadata": {},
   "source": [
    "## Python为什么适合人工智能开发？"
   ]
  },
  {
   "cell_type": "markdown",
   "metadata": {},
   "source": [
    "Python 是一种简单、易读、易记又功能强大的编程语言，提供了高效的数据结构，简单有效的面向对象编程。    \n",
    "使用者更专注于编程逻辑，而不是困惑于晦涩的语法细节上。     \n",
    "Python 除了高性能之外，凭借着 NumPy、SciPy 等优秀的数值计算、统计分析库，在数据科学领域占有不可动摇的地位。    \n",
    "常用的人工智能框架如Caffe、TensorFlow、Theano 等都提供了Python接口。"
   ]
  },
  {
   "cell_type": "markdown",
   "metadata": {},
   "source": [
    "特点：  \n",
    "简单易学、免费开源、高层语言、可移植性强、面向对象、可扩展性、可嵌入型、丰富的库、规范的代码等。"
   ]
  },
  {
   "cell_type": "markdown",
   "metadata": {
    "slideshow": {
     "slide_type": "slide"
    }
   },
   "source": [
    "- 抛开Python的[前世、今生和未来](http://bazhou.blob.core.windows.net/learning/mpp/python-past-present-and-future-with-guido-van-rossum.mp3) 第一个现实问题是：版本。\n",
    "- Python有两个大版本：2和 3。注意两个版本兼容性有点问题，在这里我们用的是Python 3。        \n",
    "只安装了 Python 2.x 的读者建议另外安装一下 Python 3.x。"
   ]
  },
  {
   "cell_type": "markdown",
   "metadata": {
    "slideshow": {
     "slide_type": "subslide"
    }
   },
   "source": [
    "### 我们使用Python[3.6](https://docs.python.org/3/whatsnew/3.6.html)![py3ver](http://bazhou.blob.core.windows.net/learning/mpp/py3ver.gif)"
   ]
  },
  {
   "cell_type": "markdown",
   "metadata": {},
   "source": [
    "•\tPython扩展包: 安装方法 python -m pip install <此处替换为扩展报名>   \n",
    "numpy   \n",
    "pandas   \n",
    "matplotlib    \n",
    "tensorflow   \n"
   ]
  },
  {
   "cell_type": "markdown",
   "metadata": {},
   "source": [
    "### Anaconda\n",
    "  \n",
    "[Anaconda官方网站](https://www.anaconda.com/distribution/)"
   ]
  },
  {
   "cell_type": "markdown",
   "metadata": {},
   "source": [
    "Anaconda 是一个用于科学计算的 Python 发行版，支持 Linux, Mac, Windows 系统，提供了包管理与环境管理的功能，很方便地解决多版本 python 并存、切换以及各种第三方包安装问题。Anaconda 是适用于企业级大数据分析的 Python 工具。其包含了720 多个数据科学相关的开源包，在数据可视化、机器学 习、深度学习等多方面都有涉及。\n",
    "Anaconda 有如下特性将极大方便开发者的使用:\n",
    "1. 安装完了 Anaconda 就不需要再安装 Python了，且 python 版本会在下载时进行选择。\n",
    "2. 开发时，有时需要不同的框架进行支撑，只需要对 anaconda 添加虚拟环境，就可以在不同环境中完成开发，而不需要顾及兼容性等问题，可以为特殊项目配置相应的环境，方便管理。"
   ]
  },
  {
   "cell_type": "markdown",
   "metadata": {},
   "source": [
    "![image.png](https://fxrgdiag292.blob.core.chinacloudapi.cn/asset-9a61fa54-692e-40c7-9345-8e4d03ec3ff5/Anaconda1.jpg?sv=2017-04-17&sr=c&si=71654690-5000-4136-9ef3-2ab34a80ec27&sig=k2BQEg6zPinms9AQafiyoF8oZnedYTbs1OaLIW1tMns%3D&st=2019-09-20T03%3A01%3A18Z&se=2119-09-20T03%3A01%3A18Z)"
   ]
  },
  {
   "cell_type": "markdown",
   "metadata": {
    "slideshow": {
     "slide_type": "slide"
    }
   },
   "source": [
    "## Jupyter\n",
    "\n",
    "[命名](https://news.ycombinator.com/item?id=16978364)\n",
    ">jupyter notebook:一款编程/文档/笔记/展示软件\n",
    "\n",
    "- jupyter notebook ：启动命令"
   ]
  },
  {
   "cell_type": "markdown",
   "metadata": {},
   "source": [
    " ![image.png](https://fxrgdiag292.blob.core.chinacloudapi.cn/asset-0a616115-885e-44f5-8288-86ddc18ddb47/jupyter1.jpg?sv=2017-04-17&sr=c&si=062fc217-3931-4ac9-b026-6151af6aea7d&sig=yELVTqbh%2B1a0RDThYU2h7nNQKqegjvjTXoM2hXrVd0s%3D&st=2019-09-20T03%3A02%3A24Z&se=2119-09-20T03%3A02%3A24Z)"
   ]
  },
  {
   "cell_type": "markdown",
   "metadata": {},
   "source": [
    "#### 命令模式\n",
    "- Shift-Enter : 运行本单元，选中下个单元\n",
    "- Ctrl-Enter : 运行本单元\n",
    "- Y : 单元转入code状态\n",
    "-  M : 单元转入markdown状态"
   ]
  },
  {
   "cell_type": "markdown",
   "metadata": {},
   "source": [
    "#### 编辑模式\n",
    "- Tab : 代码补全或缩进\n",
    "- Shift-Tab : 提示\n",
    "- Ctrl-A : 全选\n",
    "- Ctrl-S : 存盘\n",
    "- Ctrl-Z : 复原\n"
   ]
  },
  {
   "cell_type": "code",
   "execution_count": 6,
   "metadata": {
    "slideshow": {
     "slide_type": "subslide"
    }
   },
   "outputs": [
    {
     "name": "stdout",
     "output_type": "stream",
     "text": [
      "hello world\n"
     ]
    }
   ],
   "source": [
    "print(\"hello world\")"
   ]
  }
 ],
 "metadata": {
  "celltoolbar": "Slideshow",
  "kernelspec": {
   "display_name": "Python 3",
   "language": "python",
   "name": "python3"
  },
  "language_info": {
   "codemirror_mode": {
    "name": "ipython",
    "version": 3
   },
   "file_extension": ".py",
   "mimetype": "text/x-python",
   "name": "python",
   "nbconvert_exporter": "python",
   "pygments_lexer": "ipython3",
   "version": "3.9.2"
  },
  "livereveal": {
   "scroll": true
  },
  "rise": {
   "enable_chalkboard": true
  }
 },
 "nbformat": 4,
 "nbformat_minor": 2
}
