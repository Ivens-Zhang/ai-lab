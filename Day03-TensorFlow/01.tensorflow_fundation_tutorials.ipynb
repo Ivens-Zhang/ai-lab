{
 "cells": [
  {
   "cell_type": "markdown",
   "metadata": {
    "heading_collapsed": "false",
    "tags": []
   },
   "source": [
    "<br>\n",
    "<br>\n",
    "<center>\n",
    "    \n",
    "# 人工智能高阶人才培训班\n",
    "\n",
    "<br>\n",
    "\n",
    "> ## 第三课：深度学习基础设施与工具(1)\n",
    "</center>\n",
    "<img src='../static/img/logo.jpg' align='right' style=\"width:260px;height:80 px\"/>\n",
    "<br>"
   ]
  },
  {
   "cell_type": "markdown",
   "metadata": {},
   "source": [
    "![](img/tensorflow.jpeg)"
   ]
  },
  {
   "cell_type": "code",
   "execution_count": null,
   "metadata": {},
   "outputs": [],
   "source": [
    "### 我们在本次实践中，将会使用到的知识点如下：\n",
    "* 1. numpy,pandas,matplotlib基础科学计算库\n",
    "* 2. tensorflow，keras深度学习库\n",
    "* 3. 线性回归，逻辑回归，神经网络等"
   ]
  },
  {
   "cell_type": "markdown",
   "metadata": {
    "tags": []
   },
   "source": [
    "## Part 1 TensorFlow基础"
   ]
  },
  {
   "cell_type": "markdown",
   "metadata": {
    "heading_collapsed": "true"
   },
   "source": [
    "### 1.1 TensorFlow的安装"
   ]
  },
  {
   "cell_type": "markdown",
   "metadata": {
    "Collapsed": "false"
   },
   "source": [
    "```python\n",
    "# Current stable release for CPU-only\n",
    "pip install tensorflow==2.0.0\n",
    "\n",
    "# Preview nightly build for CPU-only (unstable)\n",
    "pip install tf-nightly\n",
    "\n",
    "# Install TensorFlow 2.0 GPU version\n",
    "pip install tensorflow-gpu==2.0.0\n",
    "```"
   ]
  },
  {
   "cell_type": "markdown",
   "metadata": {
    "heading_collapsed": "false"
   },
   "source": [
    "### 1.2查看版本"
   ]
  },
  {
   "cell_type": "code",
   "execution_count": 383,
   "metadata": {
    "heading_collapsed": "false",
    "hidden": true
   },
   "outputs": [
    {
     "data": {
      "text/plain": [
       "'2.4.1'"
      ]
     },
     "execution_count": 383,
     "metadata": {},
     "output_type": "execute_result"
    }
   ],
   "source": [
    "import tensorflow as tf\n",
    "tf.__version__"
   ]
  },
  {
   "cell_type": "markdown",
   "metadata": {
    "heading_collapsed": "true"
   },
   "source": [
    "### 1.3 Hello World"
   ]
  },
  {
   "cell_type": "code",
   "execution_count": 384,
   "metadata": {
    "Collapsed": "false"
   },
   "outputs": [
    {
     "name": "stdout",
     "output_type": "stream",
     "text": [
      "tf.Tensor(b'Hello, TensorFlow!', shape=(), dtype=string)\n"
     ]
    }
   ],
   "source": [
    "# Create a constant op\n",
    "# This op is added as a node to the default graph\n",
    "hello = tf.constant(\"Hello, TensorFlow!\")\n",
    "#\n",
    "print(hello)"
   ]
  },
  {
   "cell_type": "markdown",
   "metadata": {
    "Collapsed": "false"
   },
   "source": [
    "> b’String’  ‘b’ indicates Bytes literals.  http://stackoverflow.com/questions/6269765/"
   ]
  },
  {
   "cell_type": "code",
   "execution_count": 385,
   "metadata": {
    "Collapsed": "false"
   },
   "outputs": [
    {
     "name": "stdout",
     "output_type": "stream",
     "text": [
      "tf.Tensor([[4.]], shape=(1, 1), dtype=float32)\n"
     ]
    }
   ],
   "source": [
    "x = [[2.]]\n",
    "m = tf.square(x)\n",
    "print(m)"
   ]
  },
  {
   "cell_type": "markdown",
   "metadata": {
    "Collapsed": "false"
   },
   "source": [
    "调用`.numpy`方法可以实现tensor和ndarray之间转换"
   ]
  },
  {
   "cell_type": "code",
   "execution_count": 386,
   "metadata": {
    "Collapsed": "false"
   },
   "outputs": [
    {
     "data": {
      "text/plain": [
       "array([[4.]], dtype=float32)"
      ]
     },
     "execution_count": 386,
     "metadata": {},
     "output_type": "execute_result"
    }
   ],
   "source": [
    "m.numpy()"
   ]
  },
  {
   "cell_type": "code",
   "execution_count": 387,
   "metadata": {
    "Collapsed": "false"
   },
   "outputs": [
    {
     "name": "stdout",
     "output_type": "stream",
     "text": [
      "a * b = \n",
      " [[ 8  9]\n",
      " [18 19]]\n"
     ]
    }
   ],
   "source": [
    "a = tf.constant([[1, 2],\n",
    "                 [3, 4]])\n",
    "\n",
    "b = tf.constant([[2, 1],\n",
    "                 [3, 4]])\n",
    "\n",
    "ab = tf.matmul(a, b)\n",
    "\n",
    "print('a * b = \\n', ab.numpy())"
   ]
  },
  {
   "cell_type": "markdown",
   "metadata": {
    "heading_collapsed": "false"
   },
   "source": [
    "### 1.4 EveryThing is Tensor\n",
    "> 在人工智能领域只有一种类型数据，它的名字叫做『Tensor』"
   ]
  },
  {
   "cell_type": "markdown",
   "metadata": {
    "heading_collapsed": "false"
   },
   "source": [
    "![](img/tensor_rank.png)"
   ]
  },
  {
   "cell_type": "markdown",
   "metadata": {
    "heading_collapsed": "false"
   },
   "source": [
    "#### 1. 标量（0D 张量）\n",
    "仅包含一个数字的张量叫作标量（scalar，也叫标量张量、零维张量、0D 张量）。"
   ]
  },
  {
   "cell_type": "code",
   "execution_count": 388,
   "metadata": {
    "heading_collapsed": "false"
   },
   "outputs": [
    {
     "data": {
      "text/plain": [
       "array(888)"
      ]
     },
     "execution_count": 388,
     "metadata": {},
     "output_type": "execute_result"
    }
   ],
   "source": [
    "import numpy as np\n",
    "x = np.array(888)\n",
    "x"
   ]
  },
  {
   "cell_type": "code",
   "execution_count": 389,
   "metadata": {
    "heading_collapsed": "false"
   },
   "outputs": [
    {
     "data": {
      "text/plain": [
       "0"
      ]
     },
     "execution_count": 389,
     "metadata": {},
     "output_type": "execute_result"
    }
   ],
   "source": [
    "x.ndim"
   ]
  },
  {
   "cell_type": "markdown",
   "metadata": {
    "heading_collapsed": "false"
   },
   "source": [
    "#### 2. 向量(1D 张量)\n",
    "数字组成的数组叫作向量（vector）或一维张量（1D 张量）"
   ]
  },
  {
   "cell_type": "code",
   "execution_count": 390,
   "metadata": {
    "heading_collapsed": "false"
   },
   "outputs": [
    {
     "name": "stdout",
     "output_type": "stream",
     "text": [
      "[12  3  6 14  7]\n",
      "1\n"
     ]
    }
   ],
   "source": [
    "x = np.array([12, 3, 6, 14, 7])\n",
    "print(x)\n",
    "print(x.ndim)"
   ]
  },
  {
   "cell_type": "markdown",
   "metadata": {
    "heading_collapsed": "false"
   },
   "source": [
    "#### 3. 矩阵(2D 张量)\n",
    "向量组成的数组叫作矩阵（matrix）或二维张量（2D 张量）。"
   ]
  },
  {
   "cell_type": "code",
   "execution_count": 391,
   "metadata": {
    "heading_collapsed": "false"
   },
   "outputs": [
    {
     "name": "stdout",
     "output_type": "stream",
     "text": [
      "2\n"
     ]
    }
   ],
   "source": [
    "x = np.array([\n",
    "    [5, 78, 2, 34, 0],\n",
    "    [6, 79, 3, 35, 1], \n",
    "    [7, 80, 4, 36, 2]])\n",
    "print(x.ndim)"
   ]
  },
  {
   "cell_type": "markdown",
   "metadata": {
    "heading_collapsed": "false"
   },
   "source": [
    "#### 4. 3D张量与更高维张量\n",
    "将多个矩阵组合成一个新的数组，可以得到一个 3D 张量，你可以将其直观地理解为数字组成的立方体。"
   ]
  },
  {
   "cell_type": "code",
   "execution_count": 392,
   "metadata": {
    "heading_collapsed": "false"
   },
   "outputs": [
    {
     "name": "stdout",
     "output_type": "stream",
     "text": [
      "3\n",
      "(3, 3, 5)\n"
     ]
    }
   ],
   "source": [
    "x = np.array([[[5, 78, 2, 34, 0],\n",
    "               [6, 79, 3, 35, 1], \n",
    "               [7, 80, 4, 36, 2]], \n",
    "              [[5, 78, 2, 34, 0], \n",
    "               [6, 79, 3, 35, 1], \n",
    "               [7, 80, 4, 36, 2]],\n",
    "              [[5, 78, 2, 34, 0],\n",
    "               [6, 79, 3, 35, 1], \n",
    "               [7, 80, 4, 36, 2]]])\n",
    "print(x.ndim)\n",
    "print(x.shape)"
   ]
  },
  {
   "cell_type": "markdown",
   "metadata": {
    "heading_collapsed": "false"
   },
   "source": [
    "张量是由以下三个关键属性来定义的: \n",
    "\n",
    " 轴的个数（阶）。例如，3D 张量有 3 个轴，矩阵有 2 个轴。这在 Numpy 等 Python 库中 也叫张量的 `ndim`。\n",
    "\n",
    " 形状。这是一个整数元组，表示张量沿每个轴的维度大小（元素个数）。例如，前面矩阵示例的形状为(3, 5)，3D 张量示例的形状为(3, 3, 5)。向量的形状只包含一个元素，比如 (5,)，而标量的形状为空，即 ()。\n",
    "\n",
    " 数据类型（在 Python 库中通常叫作 dtype）。这是张量中所包含数据的类型，例如，张量的类型可以是 float32、uint8、float64 等。在极少数情况下，你可能会遇到字符\n",
    "（char）张量。注意，Numpy（以及大多数其他库）中不存在字符串张量，因为张量存储在预先分配的连续内存段中，而字符串的长度是可变的，无法用这种方式存储。"
   ]
  },
  {
   "cell_type": "markdown",
   "metadata": {
    "heading_collapsed": "false"
   },
   "source": [
    "#### 现实世界中的数据张量\n",
    "- 向量数据：2D 张量，形状为 (samples, features)。\n",
    "\n",
    "- 时间序列数据或序列数据：3D 张量，形状为 (samples, timesteps, features)。 \n",
    "\n",
    "- 图像：4D张量，形状为(samples, height, width, channels)或(samples, channels, height, width)。\n",
    "\n",
    "- 视频：5D张量，形状为(samples, frames, height, width, channels)或(samples, frames, channels, height, width)。"
   ]
  },
  {
   "cell_type": "markdown",
   "metadata": {
    "tags": []
   },
   "source": [
    "##### 向量数据\n",
    "这是最常见的数据。对于这种数据集，每个数据点都被编码为一个向量，因此一个数据批量就被编码为 2D 张量（即向量组成的数组），其中第一个轴是样本轴，第二个轴是特征轴。\n",
    "\n",
    "我们来看两个例子。 \n",
    "\n",
    "- 人口统计数据集，其中包括每个人的年龄、邮编和收入。每个人可以表示为包含 3 个值 的向量，而整个数据集包含 100 000 个人，因此可以存储在形状为 (100000, 3) 的 2D 张量中。\n",
    "\n",
    "- 文本文档数据集，我们将每个文档表示为每个单词在其中出现的次数（字典中包含 20 000 个常见单词）。每个文档可以被编码为包含 20 000 个值的向量（每个值对应于 字典中每个单词的出现次数），整个数据集包含 500 个文档，因此可以存储在形状为 (500, 20000) 的张量中。"
   ]
  },
  {
   "cell_type": "markdown",
   "metadata": {
    "heading_collapsed": "false"
   },
   "source": [
    "##### 时间序列数据或序列数据\n",
    "![111111](img/time_serial_data.png)\n",
    "\n",
    "**举例**：\n",
    "- 股票价格数据集。每一分钟，我们将股票的当前价格、前一分钟的最高价格和前一分钟 的最低价格保存下来。因此每分钟被编码为一个 3D 向量，整个交易日被编码为一个形 状为(390, 3)的 2D 张量（一个交易日有 390 分钟），而 250 天的数据则可以保存在一 个形状为(250, 390, 3)的 3D 张量中。这里每个样本是一天的股票数据。\n",
    "\n",
    "- 推文数据集。我们将每条推文编码为 280 个字符组成的序列，而每个字符又来自于 128 个字符组成的字母表。在这种情况下，每个字符可以被编码为大小为 128 的二进制向量 （只有在该字符对应的索引位置取值为 1，其他元素都为 0）。那么每条推文可以被编码 为一个形状为 (280, 128) 的 2D 张量，而包含 100 万条推文的数据集则可以存储在一 个形状为 (1000000, 280, 128) 的张量中。"
   ]
  },
  {
   "cell_type": "markdown",
   "metadata": {
    "heading_collapsed": "false"
   },
   "source": [
    "##### 图像数据\n",
    "![](img/image_data.png)\n",
    "\n",
    "**举例**：\n",
    "\n",
    "如果图像大小为 256×256，那么 128 张灰度图像组成的批 量可以保存在一个形状为(128, 256, 256, 1)的张量中，而 128 张彩色图像组成的批量则可以保存在一个形状为(128, 256, 256, 3)的张量中。"
   ]
  },
  {
   "cell_type": "code",
   "execution_count": 393,
   "metadata": {
    "heading_collapsed": "false"
   },
   "outputs": [],
   "source": [
    "from sklearn.datasets import load_digits\n",
    "digits = load_digits()"
   ]
  },
  {
   "cell_type": "code",
   "execution_count": 394,
   "metadata": {
    "heading_collapsed": "false"
   },
   "outputs": [
    {
     "name": "stdout",
     "output_type": "stream",
     "text": [
      "images shape: (1797, 8, 8)\n",
      "targets shape: (1797,)\n"
     ]
    }
   ],
   "source": [
    "print(\"images shape: %s\" % str(digits.images.shape))\n",
    "print(\"targets shape: %s\" % str(digits.target.shape))"
   ]
  },
  {
   "cell_type": "code",
   "execution_count": 395,
   "metadata": {
    "heading_collapsed": "false"
   },
   "outputs": [],
   "source": [
    "img = digits.images[0]"
   ]
  },
  {
   "cell_type": "code",
   "execution_count": 396,
   "metadata": {
    "heading_collapsed": "false"
   },
   "outputs": [
    {
     "data": {
      "image/png": "[encoded data removed]",
      "text/plain": [
       "<Figure size 288x288 with 1 Axes>"
      ]
     },
     "metadata": {
      "needs_background": "light"
     },
     "output_type": "display_data"
    }
   ],
   "source": [
    "import matplotlib.pyplot as plt\n",
    "%matplotlib inline\n",
    "plt.matshow(img, cmap=plt.cm.Greys);"
   ]
  },
  {
   "cell_type": "code",
   "execution_count": 397,
   "metadata": {
    "heading_collapsed": "false"
   },
   "outputs": [
    {
     "data": {
      "text/plain": [
       "(8, 8)"
      ]
     },
     "execution_count": 397,
     "metadata": {},
     "output_type": "execute_result"
    }
   ],
   "source": [
    "img.shape"
   ]
  },
  {
   "cell_type": "code",
   "execution_count": 398,
   "metadata": {
    "heading_collapsed": "false"
   },
   "outputs": [
    {
     "data": {
      "text/plain": [
       "array([[ 0.,  0.,  5., 13.,  9.,  1.,  0.,  0.],\n",
       "       [ 0.,  0., 13., 15., 10., 15.,  5.,  0.],\n",
       "       [ 0.,  3., 15.,  2.,  0., 11.,  8.,  0.],\n",
       "       [ 0.,  4., 12.,  0.,  0.,  8.,  8.,  0.],\n",
       "       [ 0.,  5.,  8.,  0.,  0.,  9.,  8.,  0.],\n",
       "       [ 0.,  4., 11.,  0.,  1., 12.,  7.,  0.],\n",
       "       [ 0.,  2., 14.,  5., 10., 12.,  0.,  0.],\n",
       "       [ 0.,  0.,  6., 13., 10.,  0.,  0.,  0.]])"
      ]
     },
     "execution_count": 398,
     "metadata": {},
     "output_type": "execute_result"
    }
   ],
   "source": [
    "img"
   ]
  },
  {
   "cell_type": "markdown",
   "metadata": {
    "heading_collapsed": "false"
   },
   "source": [
    "**数据批量的概念（Batch Size）**"
   ]
  },
  {
   "cell_type": "code",
   "execution_count": 399,
   "metadata": {
    "heading_collapsed": "false"
   },
   "outputs": [],
   "source": [
    "batch01 = digits.images[:128]\n",
    "batch02 = digits.images[128:256]"
   ]
  },
  {
   "cell_type": "code",
   "execution_count": 400,
   "metadata": {
    "heading_collapsed": "false"
   },
   "outputs": [],
   "source": [
    "from PIL import Image\n",
    "color_img = Image.open(\"img/cxy-logo.png\")"
   ]
  },
  {
   "cell_type": "code",
   "execution_count": 401,
   "metadata": {
    "heading_collapsed": "false"
   },
   "outputs": [
    {
     "data": {
      "text/plain": [
       "<matplotlib.image.AxesImage at 0x7f58dd683a60>"
      ]
     },
     "execution_count": 401,
     "metadata": {},
     "output_type": "execute_result"
    },
    {
     "data": {
      "image/png": "[encoded data removed]",
      "text/plain": [
       "<Figure size 432x288 with 1 Axes>"
      ]
     },
     "metadata": {
      "needs_background": "light"
     },
     "output_type": "display_data"
    }
   ],
   "source": [
    "plt.imshow(color_img)"
   ]
  },
  {
   "cell_type": "code",
   "execution_count": 402,
   "metadata": {
    "heading_collapsed": "false"
   },
   "outputs": [
    {
     "data": {
      "text/plain": [
       "(1080, 1080, 4)"
      ]
     },
     "execution_count": 402,
     "metadata": {},
     "output_type": "execute_result"
    }
   ],
   "source": [
    "import numpy as np\n",
    "color_img = np.array(color_img)\n",
    "color_img.shape"
   ]
  },
  {
   "cell_type": "markdown",
   "metadata": {
    "tags": []
   },
   "source": [
    "##### 视频数据\n",
    "\n",
    "视频可以看作一系列帧， 每一帧都是一张彩色图像。由于每一帧都可以保存在一个形状为 (height, width, color_ depth) 的 3D 张量中，因此一系列帧可以保存在一个形状为 (frames, height, width, color_depth) 的 4D 张量中，而不同视频组成的批量则可以保存在一个 5D 张量中，其形状为 (samples, frames, height, width, color_depth)。"
   ]
  },
  {
   "cell_type": "markdown",
   "metadata": {
    "heading_collapsed": "false"
   },
   "source": [
    "**举例**：\n",
    "一个以每秒 4 帧采样的 60 秒视频片段，视频尺寸为 144×256，这个\n",
    "视频共有 240 帧。4 个这样的视频片段组成的批量将保存在形状为(4, 240, 144, 256, 3) 的张量中。总共有 106 168 320 个值！如果张量的数据类型（dtype）是 float32，每个值都是 32 位，那么这个张量共有 405MB。"
   ]
  },
  {
   "cell_type": "markdown",
   "metadata": {
    "tags": []
   },
   "source": [
    "#### TensorFlow中的数据表示"
   ]
  },
  {
   "cell_type": "markdown",
   "metadata": {
    "heading_collapsed": "false"
   },
   "source": [
    "> tf.constant creates a tf.Tensor from a fixed value\n",
    "> you can read more here:\n",
    ">  https://www.tensorflow.org/api_docs/python/tf/constant"
   ]
  },
  {
   "cell_type": "code",
   "execution_count": 403,
   "metadata": {
    "heading_collapsed": "false"
   },
   "outputs": [
    {
     "name": "stdout",
     "output_type": "stream",
     "text": [
      "tf.Tensor(4, shape=(), dtype=int32)\n",
      "tf.Tensor([1 2 3], shape=(3,), dtype=int32)\n",
      "tf.Tensor(\n",
      "[[1 2]\n",
      " [3 4]\n",
      " [5 6]], shape=(3, 2), dtype=int32)\n",
      "tf.Tensor(\n",
      "[[[0 0]\n",
      "  [0 1]\n",
      "  [0 2]]\n",
      "\n",
      " [[1 0]\n",
      "  [1 1]\n",
      "  [1 2]]\n",
      "\n",
      " [[2 0]\n",
      "  [2 1]\n",
      "  [2 2]]], shape=(3, 3, 2), dtype=int32)\n"
     ]
    }
   ],
   "source": [
    "# 0-D tensor (scalar)\n",
    "t_0d_py = 4\n",
    "\n",
    "# 1-D tensor (vector)\n",
    "t_1d_py = [1, 2, 3]\n",
    "\n",
    "# 2-D tensor (matrix)\n",
    "t_2d_py = [[1, 2], \n",
    "           [3, 4], \n",
    "           [5, 6]]\n",
    "\n",
    "# 3-D tensor\n",
    "t_3d_py = [[[0, 0], [0, 1], [0, 2]],\n",
    "           [[1, 0], [1, 1], [1, 2]],\n",
    "           [[2, 0], [2, 1], [2, 2]]]\n",
    "\n",
    "python_defined_tensors = [t_0d_py, t_1d_py, t_2d_py, t_3d_py]\n",
    "\n",
    "for pdt in python_defined_tensors:\n",
    "    print(tf.constant(pdt))"
   ]
  },
  {
   "cell_type": "markdown",
   "metadata": {
    "tags": []
   },
   "source": [
    "#### 联想：NumPy Arrays\n",
    "tensorflow中的`Tensor`和`numpy.array`定义的矩阵是等价的"
   ]
  },
  {
   "cell_type": "code",
   "execution_count": 404,
   "metadata": {
    "heading_collapsed": "false"
   },
   "outputs": [
    {
     "name": "stdout",
     "output_type": "stream",
     "text": [
      "tf.Tensor(4, shape=(), dtype=int32)\n",
      "tf.Tensor([1 2 3], shape=(3,), dtype=int64)\n",
      "tf.Tensor(\n",
      "[[1. 2.]\n",
      " [3. 4.]\n",
      " [5. 6.]], shape=(3, 2), dtype=float32)\n",
      "tf.Tensor(\n",
      "[[[0 0]\n",
      "  [0 1]\n",
      "  [0 2]]\n",
      "\n",
      " [[1 0]\n",
      "  [1 1]\n",
      "  [1 2]]\n",
      "\n",
      " [[2 0]\n",
      "  [2 1]\n",
      "  [2 2]]], shape=(3, 3, 2), dtype=int32)\n"
     ]
    }
   ],
   "source": [
    "import numpy as np\n",
    "# 0-D tensor (scalar)\n",
    "t_0d_np = np.array(4, dtype=np.int32)\n",
    "\n",
    "# 1-D tensor (vector)\n",
    "t_1d_np = np.array([1, 2, 3], dtype=np.int64)\n",
    "\n",
    "# 2-D tensor (matrix)\n",
    "t_2d_np = np.array([[1, 2], \n",
    "                    [3, 4], \n",
    "                    [5, 6]],\n",
    "                   dtype=np.float32)\n",
    "\n",
    "# 3-D tensor\n",
    "t_3d_np = np.array([[[0, 0], [0, 1], [0, 2]],\n",
    "                    [[1, 0], [1, 1], [1, 2]],\n",
    "                    [[2, 0], [2, 1], [2, 2]]],\n",
    "                   dtype=np.int32)\n",
    "\n",
    "numpy_defined_tensors = [t_0d_np, t_1d_np, t_2d_np, t_3d_np]\n",
    "\n",
    "for ndt in numpy_defined_tensors:\n",
    "    print(tf.constant(ndt))"
   ]
  },
  {
   "cell_type": "markdown",
   "metadata": {
    "heading_collapsed": "true"
   },
   "source": [
    "#### 关于数据类型\n",
    "\n",
    "通常，建议在TensorFlow中使用`np.array`（或`np.asarray`）手动定义张量的值。这样做的主要原因是，您可以指定希望使用其表示值的确切数据类型（`dtype`）。TensorFlow与NumPy紧密集成，大多数TensorFlow数据类型具有对应的NumPy `dtype`。\n",
    "\n",
    "\n",
    "TensorFlow中数据类型 | 对应的NumPy中数据类型 | 描述\n",
    "--- | --- | ---\n",
    "`tf.float32` | `np.float32` | 32 bit floating point.\n",
    "`tf.float64` | `np.float64` | 64 bit floating point.\n",
    "`tf.int8` | `np.int8` | 8 bit signed integer.\n",
    "`tf.int16` | `np.int16` | 16 bit signed integer.\n",
    "`tf.int32` | `np.int32` | 32 bit signed integer.\n",
    "`tf.int64` | `np.int64` | 64 bit signed integer.\n",
    "`tf.uint8` | `np.uint8` | 8 bit unsigned integer.\n",
    "`tf.string` | N/A | String type, as byte array\n",
    "`tf.bool` | `np.bool` | Boolean.\n",
    "`tf.complex64` | `np.complex64` | Complex number made of two 32 bit floating point numbers: real and imaginary parts.\n",
    "`tf.qint8` | N/A | 8 bit signed integer used in quantized Ops.\n",
    "`tf.qint32` | N/A | 32 bit signed integer used in quantized Ops.\n",
    "`tf.quint8` | N/A | 8 bit unsigned integer used in quantized Ops.\n"
   ]
  },
  {
   "cell_type": "code",
   "execution_count": 405,
   "metadata": {
    "Collapsed": "false"
   },
   "outputs": [
    {
     "name": "stderr",
     "output_type": "stream",
     "text": [
      "<ipython-input-405-20f5057ff7a2>:9: DeprecationWarning: `np.bool` is a deprecated alias for the builtin `bool`. To silence this warning, use `bool` by itself. Doing this will not modify any behavior and is safe. If you specifically wanted the numpy scalar type, use `np.bool_` here.\n",
      "Deprecated in NumPy 1.20; for more details and guidance: https://numpy.org/devdocs/release/1.20.0-notes.html#deprecations\n",
      "  tf.bool == np.bool and\n"
     ]
    },
    {
     "data": {
      "text/plain": [
       "True"
      ]
     },
     "execution_count": 405,
     "metadata": {},
     "output_type": "execute_result"
    }
   ],
   "source": [
    "# Just to show that they are equivalent\n",
    "(tf.float32 == np.float32 and\n",
    " tf.float64 == np.float64 and\n",
    " tf.int8 == np.int8 and\n",
    " tf.int16 == np.int16 and\n",
    " tf.int32 == np.int32 and\n",
    " tf.int64 == np.int64 and\n",
    " tf.uint8 == np.uint8 and\n",
    " tf.bool == np.bool and\n",
    " tf.complex64 == np.complex64)"
   ]
  },
  {
   "cell_type": "markdown",
   "metadata": {
    "Collapsed": "false"
   },
   "source": [
    "> 特别地，`np.array()`中不支持string类型，当需要定义string类型输入时，使用python的列表。"
   ]
  },
  {
   "cell_type": "code",
   "execution_count": 406,
   "metadata": {
    "Collapsed": "false"
   },
   "outputs": [],
   "source": [
    "tf_string_tensor = [b\"first\", b\"second\", b\"third\"]"
   ]
  },
  {
   "cell_type": "markdown",
   "metadata": {
    "heading_collapsed": "true"
   },
   "source": [
    "#### 常量与变量\n",
    "*   `tf.constant`, 创建一个常量张量，常量中的值是不可变的。 \n",
    "*   `tf.Variable `, 此方法封装了一个可变张量，稍后可以使用assign对其进行更改\n"
   ]
  },
  {
   "cell_type": "markdown",
   "metadata": {
    "Collapsed": "false"
   },
   "source": [
    "创建一个常量"
   ]
  },
  {
   "cell_type": "code",
   "execution_count": 407,
   "metadata": {
    "Collapsed": "false"
   },
   "outputs": [
    {
     "name": "stdout",
     "output_type": "stream",
     "text": [
      "tf.Tensor([[2 3]], shape=(1, 2), dtype=int32)\n"
     ]
    }
   ],
   "source": [
    "a = tf.constant([[2,3]])\n",
    "print(a)"
   ]
  },
  {
   "cell_type": "markdown",
   "metadata": {
    "Collapsed": "false"
   },
   "source": [
    "常量无法被修改"
   ]
  },
  {
   "cell_type": "code",
   "execution_count": 408,
   "metadata": {
    "Collapsed": "false"
   },
   "outputs": [
    {
     "name": "stdout",
     "output_type": "stream",
     "text": [
      "Exception raised \n"
     ]
    }
   ],
   "source": [
    "try:\n",
    "  a.assign(2.)\n",
    "except:\n",
    "  print('Exception raised ')"
   ]
  },
  {
   "cell_type": "code",
   "execution_count": 409,
   "metadata": {
    "Collapsed": "false"
   },
   "outputs": [
    {
     "name": "stdout",
     "output_type": "stream",
     "text": [
      "Old value for v = 5.0\n",
      "New value for v = 2.0\n"
     ]
    }
   ],
   "source": [
    "v = tf.Variable(5.)\n",
    "\n",
    "print('Old value for v =', v.numpy())\n",
    "v.assign(2.)\n",
    "print('New value for v =', v.numpy())"
   ]
  },
  {
   "cell_type": "markdown",
   "metadata": {
    "Collapsed": "false"
   },
   "source": [
    "你可以像python变量一样，进行快速的递增、递减操作"
   ]
  },
  {
   "cell_type": "code",
   "execution_count": 410,
   "metadata": {
    "Collapsed": "false"
   },
   "outputs": [
    {
     "name": "stdout",
     "output_type": "stream",
     "text": [
      "value     :  2.0\n",
      "increment :  3.0\n",
      "decrement :  2.0\n"
     ]
    }
   ],
   "source": [
    "v.assign(2.)\n",
    "print('value     : ', v.numpy())\n",
    "print('increment : ', v.assign_add(1.).numpy())\n",
    "print('decrement : ', v.assign_sub(1.).numpy())"
   ]
  },
  {
   "cell_type": "code",
   "execution_count": 411,
   "metadata": {
    "Collapsed": "false",
    "scrolled": true
   },
   "outputs": [
    {
     "name": "stdout",
     "output_type": "stream",
     "text": [
      "name  :  Variable:0\n",
      "type  :  <dtype: 'float32'>\n",
      "shape :  ()\n",
      "device:  /job:localhost/replica:0/task:0/device:CPU:0\n"
     ]
    }
   ],
   "source": [
    "print('name  : ', v.name)\n",
    "print('type  : ', v.dtype)\n",
    "print('shape : ', v.shape)\n",
    "print('device: ', v.device)"
   ]
  },
  {
   "cell_type": "markdown",
   "metadata": {
    "heading_collapsed": "false",
    "tags": []
   },
   "source": [
    "##### 扩展\n",
    "最常用的常量定义，比如定义全一或者全零的矩阵,使用`tf.ones`和`tf.zeros`"
   ]
  },
  {
   "cell_type": "code",
   "execution_count": 412,
   "metadata": {
    "Collapsed": "false"
   },
   "outputs": [
    {
     "name": "stdout",
     "output_type": "stream",
     "text": [
      "tf.Tensor(\n",
      "[[1.]\n",
      " [1.]], shape=(2, 1), dtype=float32)\n",
      "tf.Tensor(\n",
      "[[0.]\n",
      " [0.]], shape=(2, 1), dtype=float32)\n"
     ]
    }
   ],
   "source": [
    "print(tf.ones(shape=(2, 1)))\n",
    "print(tf.zeros(shape=(2, 1)))"
   ]
  },
  {
   "cell_type": "markdown",
   "metadata": {
    "Collapsed": "false"
   },
   "source": [
    "定义随机的常量数组，通过随机函数中的一些常用分布"
   ]
  },
  {
   "cell_type": "code",
   "execution_count": 413,
   "metadata": {
    "Collapsed": "false"
   },
   "outputs": [
    {
     "data": {
      "text/plain": [
       "<tf.Tensor: shape=(2, 2), dtype=float32, numpy=\n",
       "array([[ 2.1616616 ,  0.35031787],\n",
       "       [-1.3430948 ,  0.18725738]], dtype=float32)>"
      ]
     },
     "execution_count": 413,
     "metadata": {},
     "output_type": "execute_result"
    }
   ],
   "source": [
    "tf.random.normal(shape=(2, 2), mean=0., stddev=1.)"
   ]
  },
  {
   "cell_type": "code",
   "execution_count": 414,
   "metadata": {
    "Collapsed": "false"
   },
   "outputs": [
    {
     "data": {
      "text/plain": [
       "<tf.Tensor: shape=(2, 2), dtype=int32, numpy=\n",
       "array([[3, 2],\n",
       "       [5, 1]], dtype=int32)>"
      ]
     },
     "execution_count": 414,
     "metadata": {},
     "output_type": "execute_result"
    }
   ],
   "source": [
    "tf.random.uniform(shape=(2, 2), minval=0, maxval=10, dtype='int32')"
   ]
  },
  {
   "cell_type": "markdown",
   "metadata": {
    "heading_collapsed": "true"
   },
   "source": [
    "### 1.5 计算图"
   ]
  },
  {
   "cell_type": "markdown",
   "metadata": {
    "Collapsed": "false"
   },
   "source": [
    "TensorFlow API中的主要构造是“计算图”。计算图是说明通过多个操作的数据流的简便方法。这是一个基本示例，显示了将两个数字相加的计算图：\n",
    "<img src=\"./img/01.png\" width=40%/>\n",
    "\n",
    "\n",
    "箭头表示流经图形的数据（在这种情况下为数字7、3和10），而节点表示某种形式的计算（在此情况下为加法）。 我们可以将这些计算中的多个链接在一起，以形成更复杂的数据转换：\n",
    "\n",
    "<img src=\"./img/02.png\" width=60%/>\n",
    "\n",
    "此处，数字3和7被发送到加法运算和乘法运算。然后将这两者的输出发送到减法运算。有几种方法可以说明上述操作。\n",
    "\n",
    "* 我们可以将其显示为单线数学方程式，使用括号显示操作顺序：\n",
    "$$\n",
    "output = \\left( 3 + 7 \\right) - \\left( 3 \\times 7 \\right) = -11\n",
    "$$\n",
    "\n",
    "* 我们还可以将单独的操作定义为数学函数：\n",
    "\n",
    "$$\n",
    "\\begin{split}\n",
    "a(x, y) &= x + y \\\\\n",
    "b(x, y) &= x \\times y \\\\\n",
    "c(x, y) &= a(x, y) - b(x, y) \\\\ \\\\\n",
    "c(3, 7) &= a(3, 7) - b(3, 7) = -11\n",
    "\\end{split}\n",
    "$$\n",
    "\n",
    "* 通过程序描述如下"
   ]
  },
  {
   "cell_type": "code",
   "execution_count": 415,
   "metadata": {
    "Collapsed": "false"
   },
   "outputs": [
    {
     "data": {
      "text/plain": [
       "-11"
      ]
     },
     "execution_count": 415,
     "metadata": {},
     "output_type": "execute_result"
    }
   ],
   "source": [
    "def add(x, y):\n",
    "    return x + y\n",
    "   \n",
    "def multiply(x, y):\n",
    "    return x * y\n",
    "    \n",
    "def subtract(x, y):\n",
    "    return x - y\n",
    "    \n",
    "x = 3\n",
    "y = 7\n",
    "a = add(x, y)\n",
    "b = multiply(x, y)\n",
    "c = subtract(a, b)\n",
    "\n",
    "c"
   ]
  },
  {
   "cell_type": "markdown",
   "metadata": {
    "Collapsed": "false"
   },
   "source": [
    "数据的使用不是一次性的，在整个计算中可以多次重用：\n",
    "\n",
    "<img src=\"./img/03.png\" width=70%/>\n",
    "\n",
    "该图类似于先前的模型，但是现在我们通过在最后添加3来重用3这个输入。代码可能看起来像这样："
   ]
  },
  {
   "cell_type": "code",
   "execution_count": 416,
   "metadata": {
    "Collapsed": "false"
   },
   "outputs": [
    {
     "data": {
      "text/plain": [
       "-8"
      ]
     },
     "execution_count": 416,
     "metadata": {},
     "output_type": "execute_result"
    }
   ],
   "source": [
    "x = 3\n",
    "y = 7\n",
    "a = add(x, y)\n",
    "b = multiply(x, y)\n",
    "c = subtract(a, b)\n",
    "d = add(c, x)\n",
    "\n",
    "d"
   ]
  },
  {
   "cell_type": "code",
   "execution_count": 417,
   "metadata": {
    "Collapsed": "false"
   },
   "outputs": [],
   "source": [
    "node1 = tf.constant(3.0, tf.float32)\n",
    "node2 = tf.constant(4.0) # also tf.float32 implicitly\n",
    "node3 = tf.add(node1, node2)"
   ]
  },
  {
   "cell_type": "code",
   "execution_count": 418,
   "metadata": {
    "Collapsed": "false"
   },
   "outputs": [
    {
     "name": "stdout",
     "output_type": "stream",
     "text": [
      "node1: tf.Tensor(3.0, shape=(), dtype=float32) \n",
      " node2: tf.Tensor(4.0, shape=(), dtype=float32)\n",
      "node3:  tf.Tensor(7.0, shape=(), dtype=float32)\n"
     ]
    }
   ],
   "source": [
    "print(\"node1:\", node1, \"\\n\", \"node2:\", node2)\n",
    "print(\"node3: \", node3)"
   ]
  },
  {
   "cell_type": "markdown",
   "metadata": {
    "Collapsed": "false"
   },
   "source": [
    "![Graph](https://www.tensorflow.org/images/getting_started_adder.png)"
   ]
  },
  {
   "cell_type": "markdown",
   "metadata": {
    "heading_collapsed": "true"
   },
   "source": [
    "### [TensorFlow 2.0] 使用`GradientTape` 计算梯度\n",
    "> 常量需要使用`tape.watch()`来追踪，变量默认记录相关梯度"
   ]
  },
  {
   "cell_type": "code",
   "execution_count": 419,
   "metadata": {
    "Collapsed": "false",
    "scrolled": true
   },
   "outputs": [
    {
     "name": "stdout",
     "output_type": "stream",
     "text": [
      "tf.Tensor(\n",
      "[[ 0.28811598 -0.06045575]\n",
      " [ 0.7964895   0.22431341]], shape=(2, 2), dtype=float32)\n"
     ]
    }
   ],
   "source": [
    "a = tf.random.normal(shape=(2, 2))\n",
    "b = tf.random.normal(shape=(2, 2))\n",
    "\n",
    "with tf.GradientTape() as tape:\n",
    "  tape.watch(a)  # Start recording the history of operations applied to `a`\n",
    "  c = tf.sqrt(tf.square(a) + tf.square(b))  # Do some math using `a`\n",
    "  # What's the gradient of `c` with respect to `a`?\n",
    "  dc_da = tape.gradient(c, a)\n",
    "  print(dc_da)"
   ]
  },
  {
   "cell_type": "code",
   "execution_count": 420,
   "metadata": {
    "Collapsed": "false"
   },
   "outputs": [
    {
     "name": "stdout",
     "output_type": "stream",
     "text": [
      "tf.Tensor(\n",
      "[[ 0.28811598 -0.06045575]\n",
      " [ 0.7964895   0.22431341]], shape=(2, 2), dtype=float32)\n"
     ]
    }
   ],
   "source": [
    "a = tf.Variable(a)\n",
    "\n",
    "with tf.GradientTape() as tape:\n",
    "  c = tf.sqrt(tf.square(a) + tf.square(b))\n",
    "  dc_da = tape.gradient(c, a)\n",
    "  print(dc_da)"
   ]
  },
  {
   "cell_type": "code",
   "execution_count": null,
   "metadata": {
    "Collapsed": "false"
   },
   "outputs": [],
   "source": []
  },
  {
   "cell_type": "markdown",
   "metadata": {
    "tags": []
   },
   "source": [
    "## Lab01: 线性回归"
   ]
  },
  {
   "cell_type": "code",
   "execution_count": 421,
   "metadata": {
    "heading_collapsed": "false",
    "hidden": true
   },
   "outputs": [],
   "source": [
    "from __future__ import absolute_import, division, print_function\n",
    "import tensorflow as tf\n",
    "import numpy as np\n",
    "rng = np.random"
   ]
  },
  {
   "cell_type": "markdown",
   "metadata": {
    "heading_collapsed": "false",
    "hidden": true
   },
   "source": [
    "### 定义超参值"
   ]
  },
  {
   "cell_type": "code",
   "execution_count": 422,
   "metadata": {
    "heading_collapsed": "false",
    "hidden": true
   },
   "outputs": [],
   "source": [
    "# Parameters.\n",
    "learning_rate = 0.01\n",
    "training_steps = 1000\n",
    "display_step = 50"
   ]
  },
  {
   "cell_type": "markdown",
   "metadata": {
    "heading_collapsed": "false",
    "hidden": true
   },
   "source": [
    "### 训练数据"
   ]
  },
  {
   "cell_type": "code",
   "execution_count": 423,
   "metadata": {
    "heading_collapsed": "false",
    "hidden": true
   },
   "outputs": [],
   "source": [
    "# Training Data.\n",
    "X = np.array([3.3,4.4,5.5,6.71,6.93,4.168,9.779,6.182,7.59,2.167,\n",
    "              7.042,10.791,5.313,7.997,5.654,9.27,3.1])\n",
    "Y = np.array([1.7,2.76,2.09,3.19,1.694,1.573,3.366,2.596,2.53,1.221,\n",
    "              2.827,3.465,1.65,2.904,2.42,2.94,1.3])\n",
    "n_samples = X.shape[0]"
   ]
  },
  {
   "cell_type": "markdown",
   "metadata": {
    "heading_collapsed": "false",
    "hidden": true
   },
   "source": [
    "### 定义变量和函数"
   ]
  },
  {
   "cell_type": "code",
   "execution_count": 424,
   "metadata": {
    "heading_collapsed": "false",
    "hidden": true
   },
   "outputs": [],
   "source": [
    "\n",
    "# Weight and Bias, initialized randomly.\n",
    "W = tf.Variable(rng.randn(), name=\"weight\")\n",
    "b = tf.Variable(rng.randn(), name=\"bias\")\n",
    "\n",
    "# Linear regression (Wx + b).\n",
    "def linear_regression(x):\n",
    "    return W * x + b\n",
    "\n",
    "# Loss Function: Mean square error.\n",
    "def mean_square(y_pred, y_true):\n",
    "    #return tf.reduce_sum(tf.pow(y_pred-y_true, 2)) / (2 * n_samples)\n",
    "    return tf.reduce_mean(tf.square(y_pred - y_true))\n",
    "# Stochastic Gradient Descent Optimizer.\n",
    "optimizer = tf.optimizers.SGD(learning_rate)"
   ]
  },
  {
   "cell_type": "code",
   "execution_count": 425,
   "metadata": {
    "heading_collapsed": "false",
    "hidden": true
   },
   "outputs": [],
   "source": [
    "# Optimization process. \n",
    "def one_step():\n",
    "    # Wrap computation inside a GradientTape for automatic differentiation.\n",
    "    with tf.GradientTape() as g:\n",
    "        pred = linear_regression(X)\n",
    "        loss = mean_square(pred, Y)\n",
    "\n",
    "    # Compute gradients.\n",
    "    gradients = g.gradient(loss, [W, b])\n",
    "    \n",
    "    # Update W and b following gradients.\n",
    "    optimizer.apply_gradients(zip(gradients, [W, b]))"
   ]
  },
  {
   "cell_type": "code",
   "execution_count": 426,
   "metadata": {
    "heading_collapsed": "false",
    "hidden": true
   },
   "outputs": [
    {
     "name": "stdout",
     "output_type": "stream",
     "text": [
      "step: 50, loss: 0.266430, W: 0.386140, b: -0.154782\n",
      "step: 100, loss: 0.242139, W: 0.370748, b: -0.045658\n",
      "step: 150, loss: 0.223090, W: 0.357117, b: 0.050978\n",
      "step: 200, loss: 0.208152, W: 0.345046, b: 0.136556\n",
      "step: 250, loss: 0.196436, W: 0.334357, b: 0.212341\n",
      "step: 300, loss: 0.187249, W: 0.324890, b: 0.279453\n",
      "step: 350, loss: 0.180044, W: 0.316507, b: 0.338885\n",
      "step: 400, loss: 0.174393, W: 0.309084, b: 0.391516\n",
      "step: 450, loss: 0.169962, W: 0.302509, b: 0.438124\n",
      "step: 500, loss: 0.166487, W: 0.296688, b: 0.479398\n",
      "step: 550, loss: 0.163762, W: 0.291532, b: 0.515950\n",
      "step: 600, loss: 0.161625, W: 0.286966, b: 0.548318\n",
      "step: 650, loss: 0.159949, W: 0.282923, b: 0.576982\n",
      "step: 700, loss: 0.158635, W: 0.279343, b: 0.602367\n",
      "step: 750, loss: 0.157604, W: 0.276172, b: 0.624846\n",
      "step: 800, loss: 0.156796, W: 0.273364, b: 0.644753\n",
      "step: 850, loss: 0.156162, W: 0.270877, b: 0.662382\n",
      "step: 900, loss: 0.155664, W: 0.268675, b: 0.677993\n",
      "step: 950, loss: 0.155275, W: 0.266725, b: 0.691818\n",
      "step: 1000, loss: 0.154969, W: 0.264998, b: 0.704060\n",
      "Time per epoch: 0.060 s\n"
     ]
    }
   ],
   "source": [
    "import time\n",
    "t0 = time.time()\n",
    "# Run training for the given number of steps.\n",
    "for step in range(1, training_steps + 1):\n",
    "    # Run the optimization to update W and b values.\n",
    "    one_step()\n",
    "    \n",
    "    if step % display_step == 0:\n",
    "        pred = linear_regression(X)\n",
    "        loss = mean_square(pred, Y)\n",
    "        print(\"step: %i, loss: %f, W: %f, b: %f\" % (step, loss, W.numpy(), b.numpy()))\n",
    "t_end = time.time() - t0\n",
    "print('Time per epoch: %.3f s' % (t_end / 20,))"
   ]
  },
  {
   "cell_type": "markdown",
   "metadata": {
    "heading_collapsed": "false",
    "hidden": true
   },
   "source": [
    "使用修饰符`@tf.function` 变为静态图"
   ]
  },
  {
   "cell_type": "code",
   "execution_count": 427,
   "metadata": {
    "heading_collapsed": "false",
    "hidden": true
   },
   "outputs": [],
   "source": [
    "@tf.function\n",
    "# Optimization process. \n",
    "def one_step():\n",
    "    # Wrap computation inside a GradientTape for automatic differentiation.\n",
    "    with tf.GradientTape() as g:\n",
    "        pred = linear_regression(X)\n",
    "        loss = mean_square(pred, Y) \n",
    "    # Compute gradients.\n",
    "    gradients = g.gradient(loss, [W, b])\n",
    "    \n",
    "    # Update W and b following gradients.\n",
    "    optimizer.apply_gradients(zip(gradients, [W, b]))\n",
    "    \n",
    "# Weight and Bias, initialized randomly.\n",
    "W = tf.Variable(rng.randn(), name=\"weight\")\n",
    "b = tf.Variable(rng.randn(), name=\"bias\")"
   ]
  },
  {
   "cell_type": "code",
   "execution_count": 428,
   "metadata": {
    "heading_collapsed": "false",
    "hidden": true
   },
   "outputs": [
    {
     "name": "stdout",
     "output_type": "stream",
     "text": [
      "step: 50, loss: 0.306112, W: 0.408061, b: -0.310189\n",
      "step: 100, loss: 0.273259, W: 0.390160, b: -0.183281\n",
      "step: 150, loss: 0.247495, W: 0.374308, b: -0.070895\n",
      "step: 200, loss: 0.227290, W: 0.360270, b: 0.028629\n",
      "step: 250, loss: 0.211445, W: 0.347838, b: 0.116765\n",
      "step: 300, loss: 0.199019, W: 0.336829, b: 0.194814\n",
      "step: 350, loss: 0.189274, W: 0.327080, b: 0.263932\n",
      "step: 400, loss: 0.181632, W: 0.318446, b: 0.325140\n",
      "step: 450, loss: 0.175639, W: 0.310801, b: 0.379344\n",
      "step: 500, loss: 0.170939, W: 0.304030, b: 0.427345\n",
      "step: 550, loss: 0.167253, W: 0.298034, b: 0.469853\n",
      "step: 600, loss: 0.164363, W: 0.292724, b: 0.507496\n",
      "step: 650, loss: 0.162096, W: 0.288022, b: 0.540832\n",
      "step: 700, loss: 0.160319, W: 0.283858, b: 0.570353\n",
      "step: 750, loss: 0.158924, W: 0.280171, b: 0.596496\n",
      "step: 800, loss: 0.157831, W: 0.276905, b: 0.619647\n",
      "step: 850, loss: 0.156974, W: 0.274013, b: 0.640149\n",
      "step: 900, loss: 0.156301, W: 0.271452, b: 0.658304\n",
      "step: 950, loss: 0.155774, W: 0.269185, b: 0.674382\n",
      "step: 1000, loss: 0.155361, W: 0.267176, b: 0.688620\n",
      "Time per epoch: 0.010 s\n"
     ]
    }
   ],
   "source": [
    "# Variables for plotting cost function\n",
    "W_history = []\n",
    "cost_history = []\n",
    "\n",
    "import time\n",
    "t0 = time.time()\n",
    "# Run training for the given number of steps.\n",
    "for step in range(1, training_steps + 1):\n",
    "    # Run the optimization to update W and b values.\n",
    "    one_step()\n",
    "    \n",
    "    if step % display_step == 0:\n",
    "        pred = linear_regression(X)\n",
    "        loss = mean_square(pred, Y)\n",
    "        print(\"step: %i, loss: %f, W: %f, b: %f\" % (step, loss, W.numpy(), b.numpy()))\n",
    "        # Recorde W and b    \n",
    "        W_history.append(W.numpy())\n",
    "        cost_history.append(loss.numpy())   \n",
    "t_end = time.time() - t0\n",
    "print('Time per epoch: %.3f s' % (t_end / 20,))"
   ]
  },
  {
   "cell_type": "markdown",
   "metadata": {
    "heading_collapsed": "false",
    "hidden": true
   },
   "source": [
    "### 查看曲线拟合情况"
   ]
  },
  {
   "cell_type": "code",
   "execution_count": 429,
   "metadata": {
    "heading_collapsed": "false",
    "hidden": true
   },
   "outputs": [
    {
     "data": {
      "image/png": "[encoded data removed]",
      "text/plain": [
       "<Figure size 432x288 with 1 Axes>"
      ]
     },
     "metadata": {
      "needs_background": "light"
     },
     "output_type": "display_data"
    }
   ],
   "source": [
    "import matplotlib.pyplot as plt\n",
    "%matplotlib inline\n",
    "\n",
    "# Graphic display\n",
    "plt.plot(X, Y, 'ro', label='Original data')\n",
    "plt.plot(X, np.array(W * X + b), label='Fitted line')\n",
    "plt.legend()\n",
    "plt.show()"
   ]
  },
  {
   "cell_type": "markdown",
   "metadata": {
    "hidden": true,
    "tags": []
   },
   "source": [
    "### 了解参数W是如何被优化的"
   ]
  },
  {
   "cell_type": "code",
   "execution_count": 430,
   "metadata": {
    "heading_collapsed": "false",
    "hidden": true
   },
   "outputs": [
    {
     "data": {
      "image/png": "[encoded data removed]",
      "text/plain": [
       "<Figure size 432x288 with 1 Axes>"
      ]
     },
     "metadata": {
      "needs_background": "light"
     },
     "output_type": "display_data"
    }
   ],
   "source": [
    "# Show the cost function\n",
    "plt.plot(W_history,cost_history)\n",
    "plt.show()"
   ]
  },
  {
   "cell_type": "markdown",
   "metadata": {
    "heading_collapsed": "false",
    "hidden": true
   },
   "source": [
    "### 分析优化过程"
   ]
  },
  {
   "cell_type": "markdown",
   "metadata": {
    "heading_collapsed": "false",
    "hidden": true
   },
   "source": [
    "<详见单独的Notebook: **02.sgd-explain**>"
   ]
  },
  {
   "cell_type": "markdown",
   "metadata": {},
   "source": [
    "## Lab02：多元线性回归"
   ]
  },
  {
   "cell_type": "code",
   "execution_count": 431,
   "metadata": {
    "heading_collapsed": "false",
    "hidden": true
   },
   "outputs": [],
   "source": [
    "# Lab Multi-variable linear regression\n",
    "import tensorflow as tf\n",
    "\n",
    "X = tf.constant([[73., 80., 75.],\n",
    "          [93., 88., 93.],\n",
    "          [89., 91., 90.],\n",
    "          [96., 98., 100.],\n",
    "          [73., 66., 70.]])\n",
    "Y = tf.constant([[152.],\n",
    "          [185.],\n",
    "          [180.],\n",
    "          [196.],\n",
    "          [142.]])"
   ]
  },
  {
   "cell_type": "code",
   "execution_count": 432,
   "metadata": {
    "heading_collapsed": "false",
    "hidden": true
   },
   "outputs": [],
   "source": [
    "# Parameters.\n",
    "learning_rate = 1e-5\n",
    "training_steps = 1000\n",
    "display_step = 50\n",
    "\n",
    "N = X.shape[0]"
   ]
  },
  {
   "cell_type": "markdown",
   "metadata": {
    "heading_collapsed": "false",
    "hidden": true
   },
   "source": [
    "> **注意：**此处如果继续使用1e-2的学习率，容易出现意想不到的结果，思考一下为什么？"
   ]
  },
  {
   "cell_type": "code",
   "execution_count": 433,
   "metadata": {
    "heading_collapsed": "false",
    "hidden": true
   },
   "outputs": [],
   "source": [
    "W = tf.Variable(tf.random.uniform(shape=(3, 1)), name='weight')\n",
    "b = tf.Variable(tf.random.uniform(shape=(1,)), name='bias')"
   ]
  },
  {
   "cell_type": "code",
   "execution_count": 434,
   "metadata": {
    "heading_collapsed": "false",
    "hidden": true
   },
   "outputs": [],
   "source": [
    "# Linear regression (Wx + b).\n",
    "def multi_linear_regression(X):\n",
    "    return tf.matmul(X, W) + b\n",
    "\n",
    "# Mean square error.\n",
    "def mean_square(y_pred, y_true):\n",
    "    return tf.reduce_mean(tf.square(y_pred - y_true))\n",
    "\n",
    "# Stochastic Gradient Descent Optimizer.\n",
    "optimizer = tf.optimizers.SGD(learning_rate)"
   ]
  },
  {
   "cell_type": "code",
   "execution_count": 435,
   "metadata": {
    "heading_collapsed": "false",
    "hidden": true
   },
   "outputs": [],
   "source": [
    "# Optimization process. \n",
    "def run_optimization():\n",
    "    # Wrap computation inside a GradientTape for automatic differentiation.\n",
    "    with tf.GradientTape() as g:\n",
    "        pred = multi_linear_regression(X)\n",
    "        pred = tf.squeeze(pred,axis=1)\n",
    "        loss = mean_square(pred, Y)\n",
    "    # Compute gradients.\n",
    "    gradients = g.gradient(loss, [W, b])\n",
    "    \n",
    "    # Update W and b following gradients.\n",
    "    optimizer.apply_gradients(zip(gradients, [W, b]))"
   ]
  },
  {
   "cell_type": "code",
   "execution_count": 436,
   "metadata": {
    "heading_collapsed": "false",
    "hidden": true,
    "tags": []
   },
   "outputs": [
    {
     "name": "stdout",
     "output_type": "stream",
     "text": [
      "step: 50, loss: 14.107248\n",
      "step: 100, loss: 13.769302\n",
      "step: 150, loss: 13.443494\n",
      "step: 200, loss: 13.129648\n",
      "step: 250, loss: 12.827313\n",
      "step: 300, loss: 12.536352\n",
      "step: 350, loss: 12.256269\n",
      "step: 400, loss: 11.986787\n",
      "step: 450, loss: 11.727706\n",
      "step: 500, loss: 11.478773\n",
      "step: 550, loss: 11.239454\n",
      "step: 600, loss: 11.009799\n",
      "step: 650, loss: 10.789246\n",
      "step: 700, loss: 10.577768\n",
      "step: 750, loss: 10.375127\n",
      "step: 800, loss: 10.180838\n",
      "step: 850, loss: 9.994935\n",
      "step: 900, loss: 9.817021\n",
      "step: 950, loss: 9.646853\n",
      "step: 1000, loss: 9.484459\n"
     ]
    }
   ],
   "source": [
    "# Run training for the given number of steps.\n",
    "for step in range(1, training_steps + 1):\n",
    "    # Run the optimization to update W and b values.\n",
    "    run_optimization()\n",
    "    \n",
    "    if step % display_step == 0:\n",
    "        pred = multi_linear_regression(X)\n",
    "        loss = mean_square(pred, Y)\n",
    "        print(\"step: %i, loss: %f\" % (step, loss))"
   ]
  },
  {
   "cell_type": "code",
   "execution_count": null,
   "metadata": {
    "heading_collapsed": "false",
    "hidden": true
   },
   "outputs": [],
   "source": []
  },
  {
   "cell_type": "markdown",
   "metadata": {
    "tags": []
   },
   "source": [
    "## Lab03：逻辑回归（二分类）"
   ]
  },
  {
   "cell_type": "code",
   "execution_count": 498,
   "metadata": {
    "heading_collapsed": "false",
    "hidden": true
   },
   "outputs": [],
   "source": [
    "import pandas as pd\n",
    "import tensorflow as tf\n",
    "import numpy as np\n",
    "\n",
    "df = pd.read_csv('data/data-03-diabetes.csv', header=None, delimiter=',')"
   ]
  },
  {
   "cell_type": "code",
   "execution_count": 495,
   "metadata": {
    "heading_collapsed": "false",
    "hidden": true
   },
   "outputs": [
    {
     "data": {
      "text/html": [
       "<div>\n",
       "<style scoped>\n",
       "    .dataframe tbody tr th:only-of-type {\n",
       "        vertical-align: middle;\n",
       "    }\n",
       "\n",
       "    .dataframe tbody tr th {\n",
       "        vertical-align: top;\n",
       "    }\n",
       "\n",
       "    .dataframe thead th {\n",
       "        text-align: right;\n",
       "    }\n",
       "</style>\n",
       "<table border=\"1\" class=\"dataframe\">\n",
       "  <thead>\n",
       "    <tr style=\"text-align: right;\">\n",
       "      <th></th>\n",
       "      <th>0</th>\n",
       "      <th>1</th>\n",
       "      <th>2</th>\n",
       "      <th>3</th>\n",
       "      <th>4</th>\n",
       "      <th>5</th>\n",
       "      <th>6</th>\n",
       "      <th>7</th>\n",
       "      <th>8</th>\n",
       "    </tr>\n",
       "  </thead>\n",
       "  <tbody>\n",
       "    <tr>\n",
       "      <th>0</th>\n",
       "      <td>-0.294118</td>\n",
       "      <td>0.487437</td>\n",
       "      <td>0.180328</td>\n",
       "      <td>-0.292929</td>\n",
       "      <td>0.000000</td>\n",
       "      <td>0.001490</td>\n",
       "      <td>-0.531170</td>\n",
       "      <td>-0.033333</td>\n",
       "      <td>0</td>\n",
       "    </tr>\n",
       "    <tr>\n",
       "      <th>1</th>\n",
       "      <td>-0.882353</td>\n",
       "      <td>-0.145729</td>\n",
       "      <td>0.081967</td>\n",
       "      <td>-0.414141</td>\n",
       "      <td>0.000000</td>\n",
       "      <td>-0.207153</td>\n",
       "      <td>-0.766866</td>\n",
       "      <td>-0.666667</td>\n",
       "      <td>1</td>\n",
       "    </tr>\n",
       "    <tr>\n",
       "      <th>2</th>\n",
       "      <td>-0.058824</td>\n",
       "      <td>0.839196</td>\n",
       "      <td>0.049180</td>\n",
       "      <td>0.000000</td>\n",
       "      <td>0.000000</td>\n",
       "      <td>-0.305514</td>\n",
       "      <td>-0.492741</td>\n",
       "      <td>-0.633333</td>\n",
       "      <td>0</td>\n",
       "    </tr>\n",
       "    <tr>\n",
       "      <th>3</th>\n",
       "      <td>-0.882353</td>\n",
       "      <td>-0.105528</td>\n",
       "      <td>0.081967</td>\n",
       "      <td>-0.535354</td>\n",
       "      <td>-0.777778</td>\n",
       "      <td>-0.162444</td>\n",
       "      <td>-0.923997</td>\n",
       "      <td>0.000000</td>\n",
       "      <td>1</td>\n",
       "    </tr>\n",
       "    <tr>\n",
       "      <th>4</th>\n",
       "      <td>0.000000</td>\n",
       "      <td>0.376884</td>\n",
       "      <td>-0.344262</td>\n",
       "      <td>-0.292929</td>\n",
       "      <td>-0.602837</td>\n",
       "      <td>0.284650</td>\n",
       "      <td>0.887276</td>\n",
       "      <td>-0.600000</td>\n",
       "      <td>0</td>\n",
       "    </tr>\n",
       "  </tbody>\n",
       "</table>\n",
       "</div>"
      ],
      "text/plain": [
       "          0         1         2         3         4         5         6  \\\n",
       "0 -0.294118  0.487437  0.180328 -0.292929  0.000000  0.001490 -0.531170   \n",
       "1 -0.882353 -0.145729  0.081967 -0.414141  0.000000 -0.207153 -0.766866   \n",
       "2 -0.058824  0.839196  0.049180  0.000000  0.000000 -0.305514 -0.492741   \n",
       "3 -0.882353 -0.105528  0.081967 -0.535354 -0.777778 -0.162444 -0.923997   \n",
       "4  0.000000  0.376884 -0.344262 -0.292929 -0.602837  0.284650  0.887276   \n",
       "\n",
       "          7  8  \n",
       "0 -0.033333  0  \n",
       "1 -0.666667  1  \n",
       "2 -0.633333  0  \n",
       "3  0.000000  1  \n",
       "4 -0.600000  0  "
      ]
     },
     "execution_count": 495,
     "metadata": {},
     "output_type": "execute_result"
    }
   ],
   "source": [
    "df.head()"
   ]
  },
  {
   "cell_type": "code",
   "execution_count": 499,
   "metadata": {
    "heading_collapsed": "false",
    "hidden": true
   },
   "outputs": [],
   "source": [
    "X = df[[0,1,2,3,4,5,6,7]].values\n",
    "Y = df[8].values"
   ]
  },
  {
   "cell_type": "code",
   "execution_count": 500,
   "metadata": {
    "heading_collapsed": "false",
    "hidden": true
   },
   "outputs": [
    {
     "data": {
      "text/plain": [
       "((759, 8), (759,))"
      ]
     },
     "execution_count": 500,
     "metadata": {},
     "output_type": "execute_result"
    }
   ],
   "source": [
    "X.shape,Y.shape"
   ]
  },
  {
   "cell_type": "code",
   "execution_count": 501,
   "metadata": {
    "heading_collapsed": "false",
    "hidden": true
   },
   "outputs": [],
   "source": [
    "X = tf.constant(X,dtype='float32')\n",
    "Y = tf.constant(Y,dtype='float32')"
   ]
  },
  {
   "cell_type": "code",
   "execution_count": 502,
   "metadata": {
    "heading_collapsed": "false",
    "hidden": true
   },
   "outputs": [],
   "source": [
    "# Parameters.\n",
    "learning_rate = 1e-2\n",
    "training_steps = 10000\n",
    "display_step = 500\n",
    "\n",
    "N = X.shape[0]\n",
    "\n",
    "num_features = X.shape[1]\n",
    "num_classes = 1"
   ]
  },
  {
   "cell_type": "code",
   "execution_count": 503,
   "metadata": {
    "heading_collapsed": "false",
    "hidden": true
   },
   "outputs": [],
   "source": [
    "W = tf.Variable(tf.random.normal((num_features, num_classes)), name='weight')\n",
    "b = tf.Variable(tf.random.normal([num_classes]), name='bias')"
   ]
  },
  {
   "cell_type": "code",
   "execution_count": 514,
   "metadata": {
    "heading_collapsed": "false",
    "hidden": true
   },
   "outputs": [],
   "source": [
    "# Linear regression (Wx + b).\n",
    "def logits_regression(x):\n",
    "    return tf.sigmoid(tf.add(tf.matmul(x,W),b))\n",
    "\n",
    "# loss/error.\n",
    "def loss_f(y_pred, y_true):\n",
    "    return -tf.reduce_mean(y_true * tf.math.log(y_pred) + (1 - y_true) *\n",
    "                       tf.math.log(1 - y_pred))\n",
    "\n",
    "# Stochastic Gradient Descent Optimizer.\n",
    "optimizer = tf.optimizers.SGD(learning_rate)\n",
    "\n",
    "\n",
    "def accuracy(y_pred, y_true):\n",
    "    # Accuracy computation\n",
    "    # True if hypothesis>0.5 else False\n",
    "    predicted = tf.cast(y_pred > 0.5, dtype=tf.float32)\n",
    "    accuracy = tf.reduce_mean(tf.cast(tf.equal(predicted, y_true), dtype=tf.float32))\n",
    "    return accuracy"
   ]
  },
  {
   "cell_type": "code",
   "execution_count": 515,
   "metadata": {
    "heading_collapsed": "false",
    "hidden": true
   },
   "outputs": [],
   "source": [
    "# Optimization process. \n",
    "def run_optimization():\n",
    "    # Wrap computation inside a GradientTape for automatic differentiation.\n",
    "    with tf.GradientTape() as g:\n",
    "        pred = logits_regression(X)\n",
    "        pred = tf.squeeze(pred,axis=1)\n",
    "        loss = loss_f(pred, Y)\n",
    "    # Compute gradients.\n",
    "    gradients = g.gradient(loss, [W, b])\n",
    "    \n",
    "    # Update W and b following gradients.\n",
    "    optimizer.apply_gradients(zip(gradients, [W, b]))"
   ]
  },
  {
   "cell_type": "code",
   "execution_count": 516,
   "metadata": {
    "heading_collapsed": "false",
    "hidden": true
   },
   "outputs": [
    {
     "name": "stdout",
     "output_type": "stream",
     "text": [
      "step: 500, loss: 0.471938, accuracy: 0.769433\n",
      "step: 1000, loss: 0.471928, accuracy: 0.769433\n",
      "step: 1500, loss: 0.471918, accuracy: 0.769433\n",
      "step: 2000, loss: 0.471908, accuracy: 0.769433\n",
      "step: 2500, loss: 0.471899, accuracy: 0.769433\n",
      "step: 3000, loss: 0.471890, accuracy: 0.769433\n",
      "step: 3500, loss: 0.471882, accuracy: 0.769433\n",
      "step: 4000, loss: 0.471874, accuracy: 0.769433\n",
      "step: 4500, loss: 0.471866, accuracy: 0.768116\n",
      "step: 5000, loss: 0.471859, accuracy: 0.768116\n",
      "step: 5500, loss: 0.471851, accuracy: 0.768116\n",
      "step: 6000, loss: 0.471844, accuracy: 0.768116\n",
      "step: 6500, loss: 0.471838, accuracy: 0.768116\n",
      "step: 7000, loss: 0.471832, accuracy: 0.768116\n",
      "step: 7500, loss: 0.471826, accuracy: 0.768116\n",
      "step: 8000, loss: 0.471820, accuracy: 0.768116\n",
      "step: 8500, loss: 0.471814, accuracy: 0.768116\n",
      "step: 9000, loss: 0.471809, accuracy: 0.768116\n",
      "step: 9500, loss: 0.471804, accuracy: 0.768116\n",
      "step: 10000, loss: 0.471799, accuracy: 0.768116\n"
     ]
    }
   ],
   "source": [
    "# Run training for the given number of steps.\n",
    "for step in range(1, training_steps + 1):\n",
    "    # Run the optimization to update W and b values.\n",
    "    run_optimization()\n",
    "    \n",
    "    if step % display_step == 0:\n",
    "        pred =logits_regression(X)\n",
    "        pred = tf.squeeze(pred,axis=1)\n",
    "        loss = loss_f(pred, Y)\n",
    "        acc = accuracy(pred, Y)\n",
    "        print(\"step: %i, loss: %f, accuracy: %f\" % (step, loss, acc))"
   ]
  },
  {
   "cell_type": "code",
   "execution_count": null,
   "metadata": {
    "heading_collapsed": "false",
    "hidden": true
   },
   "outputs": [],
   "source": []
  },
  {
   "cell_type": "markdown",
   "metadata": {
    "tags": []
   },
   "source": [
    "## Lab04：多分类问题"
   ]
  },
  {
   "cell_type": "code",
   "execution_count": 519,
   "metadata": {
    "heading_collapsed": "false",
    "hidden": true
   },
   "outputs": [],
   "source": [
    "import pandas as pd\n",
    "import tensorflow as tf\n",
    "import numpy as np\n",
    "\n",
    "df = pd.read_csv('data/data-04-zoo.csv', header=None, delimiter=',', \n",
    "                 skiprows=19,dtype=np.float32)"
   ]
  },
  {
   "cell_type": "markdown",
   "metadata": {
    "heading_collapsed": "false",
    "hidden": true
   },
   "source": [
    "可以查看csv头文件了解数据属性"
   ]
  },
  {
   "cell_type": "code",
   "execution_count": 448,
   "metadata": {
    "heading_collapsed": "false",
    "hidden": true
   },
   "outputs": [
    {
     "data": {
      "text/html": [
       "<div>\n",
       "<style scoped>\n",
       "    .dataframe tbody tr th:only-of-type {\n",
       "        vertical-align: middle;\n",
       "    }\n",
       "\n",
       "    .dataframe tbody tr th {\n",
       "        vertical-align: top;\n",
       "    }\n",
       "\n",
       "    .dataframe thead th {\n",
       "        text-align: right;\n",
       "    }\n",
       "</style>\n",
       "<table border=\"1\" class=\"dataframe\">\n",
       "  <thead>\n",
       "    <tr style=\"text-align: right;\">\n",
       "      <th></th>\n",
       "      <th>0</th>\n",
       "      <th>1</th>\n",
       "      <th>2</th>\n",
       "      <th>3</th>\n",
       "      <th>4</th>\n",
       "      <th>5</th>\n",
       "      <th>6</th>\n",
       "      <th>7</th>\n",
       "      <th>8</th>\n",
       "      <th>9</th>\n",
       "      <th>10</th>\n",
       "      <th>11</th>\n",
       "      <th>12</th>\n",
       "      <th>13</th>\n",
       "      <th>14</th>\n",
       "      <th>15</th>\n",
       "      <th>16</th>\n",
       "    </tr>\n",
       "  </thead>\n",
       "  <tbody>\n",
       "    <tr>\n",
       "      <th>0</th>\n",
       "      <td>1.0</td>\n",
       "      <td>0.0</td>\n",
       "      <td>0.0</td>\n",
       "      <td>1.0</td>\n",
       "      <td>0.0</td>\n",
       "      <td>0.0</td>\n",
       "      <td>1.0</td>\n",
       "      <td>1.0</td>\n",
       "      <td>1.0</td>\n",
       "      <td>1.0</td>\n",
       "      <td>0.0</td>\n",
       "      <td>0.0</td>\n",
       "      <td>4.0</td>\n",
       "      <td>0.0</td>\n",
       "      <td>0.0</td>\n",
       "      <td>1.0</td>\n",
       "      <td>0.0</td>\n",
       "    </tr>\n",
       "    <tr>\n",
       "      <th>1</th>\n",
       "      <td>1.0</td>\n",
       "      <td>0.0</td>\n",
       "      <td>0.0</td>\n",
       "      <td>1.0</td>\n",
       "      <td>0.0</td>\n",
       "      <td>0.0</td>\n",
       "      <td>0.0</td>\n",
       "      <td>1.0</td>\n",
       "      <td>1.0</td>\n",
       "      <td>1.0</td>\n",
       "      <td>0.0</td>\n",
       "      <td>0.0</td>\n",
       "      <td>4.0</td>\n",
       "      <td>1.0</td>\n",
       "      <td>0.0</td>\n",
       "      <td>1.0</td>\n",
       "      <td>0.0</td>\n",
       "    </tr>\n",
       "    <tr>\n",
       "      <th>2</th>\n",
       "      <td>0.0</td>\n",
       "      <td>0.0</td>\n",
       "      <td>1.0</td>\n",
       "      <td>0.0</td>\n",
       "      <td>0.0</td>\n",
       "      <td>1.0</td>\n",
       "      <td>1.0</td>\n",
       "      <td>1.0</td>\n",
       "      <td>1.0</td>\n",
       "      <td>0.0</td>\n",
       "      <td>0.0</td>\n",
       "      <td>1.0</td>\n",
       "      <td>0.0</td>\n",
       "      <td>1.0</td>\n",
       "      <td>0.0</td>\n",
       "      <td>0.0</td>\n",
       "      <td>3.0</td>\n",
       "    </tr>\n",
       "    <tr>\n",
       "      <th>3</th>\n",
       "      <td>1.0</td>\n",
       "      <td>0.0</td>\n",
       "      <td>0.0</td>\n",
       "      <td>1.0</td>\n",
       "      <td>0.0</td>\n",
       "      <td>0.0</td>\n",
       "      <td>1.0</td>\n",
       "      <td>1.0</td>\n",
       "      <td>1.0</td>\n",
       "      <td>1.0</td>\n",
       "      <td>0.0</td>\n",
       "      <td>0.0</td>\n",
       "      <td>4.0</td>\n",
       "      <td>0.0</td>\n",
       "      <td>0.0</td>\n",
       "      <td>1.0</td>\n",
       "      <td>0.0</td>\n",
       "    </tr>\n",
       "    <tr>\n",
       "      <th>4</th>\n",
       "      <td>1.0</td>\n",
       "      <td>0.0</td>\n",
       "      <td>0.0</td>\n",
       "      <td>1.0</td>\n",
       "      <td>0.0</td>\n",
       "      <td>0.0</td>\n",
       "      <td>1.0</td>\n",
       "      <td>1.0</td>\n",
       "      <td>1.0</td>\n",
       "      <td>1.0</td>\n",
       "      <td>0.0</td>\n",
       "      <td>0.0</td>\n",
       "      <td>4.0</td>\n",
       "      <td>1.0</td>\n",
       "      <td>0.0</td>\n",
       "      <td>1.0</td>\n",
       "      <td>0.0</td>\n",
       "    </tr>\n",
       "  </tbody>\n",
       "</table>\n",
       "</div>"
      ],
      "text/plain": [
       "    0    1    2    3    4    5    6    7    8    9    10   11   12   13   14  \\\n",
       "0  1.0  0.0  0.0  1.0  0.0  0.0  1.0  1.0  1.0  1.0  0.0  0.0  4.0  0.0  0.0   \n",
       "1  1.0  0.0  0.0  1.0  0.0  0.0  0.0  1.0  1.0  1.0  0.0  0.0  4.0  1.0  0.0   \n",
       "2  0.0  0.0  1.0  0.0  0.0  1.0  1.0  1.0  1.0  0.0  0.0  1.0  0.0  1.0  0.0   \n",
       "3  1.0  0.0  0.0  1.0  0.0  0.0  1.0  1.0  1.0  1.0  0.0  0.0  4.0  0.0  0.0   \n",
       "4  1.0  0.0  0.0  1.0  0.0  0.0  1.0  1.0  1.0  1.0  0.0  0.0  4.0  1.0  0.0   \n",
       "\n",
       "    15   16  \n",
       "0  1.0  0.0  \n",
       "1  1.0  0.0  \n",
       "2  0.0  3.0  \n",
       "3  1.0  0.0  \n",
       "4  1.0  0.0  "
      ]
     },
     "execution_count": 448,
     "metadata": {},
     "output_type": "execute_result"
    }
   ],
   "source": [
    "df.head()"
   ]
  },
  {
   "cell_type": "code",
   "execution_count": 520,
   "metadata": {
    "heading_collapsed": "false",
    "hidden": true
   },
   "outputs": [],
   "source": [
    "X = df[[0,1,2,3,4,5,6,7,8,9,10,11,12,13,14,15]].values\n",
    "Y = df[16].values"
   ]
  },
  {
   "cell_type": "code",
   "execution_count": 521,
   "metadata": {
    "heading_collapsed": "false",
    "hidden": true
   },
   "outputs": [],
   "source": [
    "Y = tf.constant(Y,dtype='int32')"
   ]
  },
  {
   "cell_type": "code",
   "execution_count": 522,
   "metadata": {
    "heading_collapsed": "false",
    "hidden": true
   },
   "outputs": [
    {
     "data": {
      "text/plain": [
       "((101, 16), TensorShape([101]))"
      ]
     },
     "execution_count": 522,
     "metadata": {},
     "output_type": "execute_result"
    }
   ],
   "source": [
    "X.shape, Y.shape"
   ]
  },
  {
   "cell_type": "code",
   "execution_count": 523,
   "metadata": {
    "heading_collapsed": "false",
    "hidden": true
   },
   "outputs": [],
   "source": [
    "# Parameters.\n",
    "learning_rate = 1e-3\n",
    "training_steps = 1000\n",
    "display_step = 50\n",
    "\n",
    "N = X.shape[0]\n",
    "\n",
    "num_features = X.shape[1]\n",
    "num_classes = 7 # 0-6"
   ]
  },
  {
   "cell_type": "code",
   "execution_count": 524,
   "metadata": {
    "heading_collapsed": "false",
    "hidden": true
   },
   "outputs": [],
   "source": [
    "W = tf.Variable(tf.random.normal((num_features, num_classes)), name='weight')\n",
    "b = tf.Variable(tf.random.normal([num_classes]), name='bias')"
   ]
  },
  {
   "cell_type": "code",
   "execution_count": 535,
   "metadata": {
    "heading_collapsed": "false",
    "hidden": true
   },
   "outputs": [],
   "source": [
    "# Logistic regression (Wx + b).\n",
    "def logistic_regression(x):\n",
    "    # Apply softmax to normalize the logits to a probability distribution.\n",
    "    return tf.nn.softmax(tf.matmul(x, W) + b)\n",
    "\n",
    "# Cross-Entropy loss function.\n",
    "def cross_entropy(y_pred, y_true):\n",
    "    # Encode label to a one hot vector.\n",
    "    y_true = tf.one_hot(y_true, depth=num_classes,dtype='float32')\n",
    "    # Clip prediction values to avoid log(0) error.\n",
    "    y_pred = tf.clip_by_value(y_pred, 1e-9, 1.)\n",
    "    # Compute cross-entropy.\n",
    "    return tf.reduce_mean(-tf.reduce_sum(y_true * tf.math.log(y_pred)))\n",
    "\n",
    "# Accuracy metric.\n",
    "def accuracy(y_pred, y_true):\n",
    "    # Predicted class is the index of highest score in prediction vector (i.e. argmax).\n",
    "    correct_prediction = tf.equal(tf.argmax(y_pred, 1), tf.cast(y_true, tf.int64))\n",
    "    return tf.reduce_mean(tf.cast(correct_prediction, tf.float32))\n",
    "\n",
    "# Stochastic gradient descent optimizer.\n",
    "optimizer = tf.optimizers.SGD(learning_rate)"
   ]
  },
  {
   "cell_type": "code",
   "execution_count": 536,
   "metadata": {
    "heading_collapsed": "false",
    "hidden": true
   },
   "outputs": [],
   "source": [
    "# Optimization process. \n",
    "def run_optimization(x, y):\n",
    "    # Wrap computation inside a GradientTape for automatic differentiation.\n",
    "    with tf.GradientTape() as g:\n",
    "        pred = logistic_regression(x)\n",
    "        loss = cross_entropy(pred, y)\n",
    "\n",
    "    # Compute gradients.\n",
    "    gradients = g.gradient(loss, [W, b])\n",
    "    \n",
    "    # Update W and b following gradients.\n",
    "    optimizer.apply_gradients(zip(gradients, [W, b]))"
   ]
  },
  {
   "cell_type": "code",
   "execution_count": 537,
   "metadata": {
    "heading_collapsed": "false",
    "hidden": true
   },
   "outputs": [
    {
     "name": "stdout",
     "output_type": "stream",
     "text": [
      "step: 50, loss: 3.669946, accuracy: 1.000000\n",
      "step: 100, loss: 3.612689, accuracy: 1.000000\n",
      "step: 150, loss: 3.557250, accuracy: 1.000000\n",
      "step: 200, loss: 3.503543, accuracy: 1.000000\n",
      "step: 250, loss: 3.451489, accuracy: 1.000000\n",
      "step: 300, loss: 3.401008, accuracy: 1.000000\n",
      "step: 350, loss: 3.352032, accuracy: 1.000000\n",
      "step: 400, loss: 3.304497, accuracy: 1.000000\n",
      "step: 450, loss: 3.258330, accuracy: 1.000000\n",
      "step: 500, loss: 3.213479, accuracy: 1.000000\n",
      "step: 550, loss: 3.169891, accuracy: 1.000000\n",
      "step: 600, loss: 3.127503, accuracy: 1.000000\n",
      "step: 650, loss: 3.086274, accuracy: 1.000000\n",
      "step: 700, loss: 3.046155, accuracy: 1.000000\n",
      "step: 750, loss: 3.007096, accuracy: 1.000000\n",
      "step: 800, loss: 2.969064, accuracy: 1.000000\n",
      "step: 850, loss: 2.932007, accuracy: 1.000000\n",
      "step: 900, loss: 2.895896, accuracy: 1.000000\n",
      "step: 950, loss: 2.860691, accuracy: 1.000000\n",
      "step: 1000, loss: 2.826364, accuracy: 1.000000\n"
     ]
    }
   ],
   "source": [
    "# Run training for the given number of steps.\n",
    "for step in range(1, training_steps + 1):\n",
    "    # Run the optimization to update W and b values.\n",
    "    run_optimization(X, Y)\n",
    "    \n",
    "    if step % display_step == 0:\n",
    "        pred = logistic_regression(X)\n",
    "        loss = cross_entropy(pred, Y)\n",
    "        acc = accuracy(pred, Y)\n",
    "        print(\"step: %i, loss: %f, accuracy: %f\" % (step, loss, acc))"
   ]
  },
  {
   "cell_type": "markdown",
   "metadata": {},
   "source": [
    "## Lab05 神经网络初探"
   ]
  },
  {
   "cell_type": "code",
   "execution_count": 457,
   "metadata": {
    "heading_collapsed": "false",
    "hidden": true
   },
   "outputs": [],
   "source": [
    "import tensorflow as tf\n",
    "import matplotlib.pyplot as plt\n",
    "import random"
   ]
  },
  {
   "cell_type": "markdown",
   "metadata": {
    "heading_collapsed": "false",
    "hidden": true
   },
   "source": [
    "### Softmax 多分类实现"
   ]
  },
  {
   "cell_type": "code",
   "execution_count": 538,
   "metadata": {
    "heading_collapsed": "false",
    "hidden": true
   },
   "outputs": [],
   "source": [
    "from __future__ import absolute_import, division, print_function\n",
    "\n",
    "import tensorflow as tf\n",
    "import numpy as np"
   ]
  },
  {
   "cell_type": "code",
   "execution_count": 539,
   "metadata": {
    "heading_collapsed": "false",
    "hidden": true
   },
   "outputs": [],
   "source": [
    "# MNIST dataset parameters.\n",
    "num_classes = 10 # 0 to 9 digits\n",
    "num_features = 784 # 28*28\n",
    "\n",
    "# Training parameters.\n",
    "learning_rate = 0.01\n",
    "training_steps = 1000\n",
    "batch_size = 256\n",
    "display_step = 50"
   ]
  },
  {
   "cell_type": "code",
   "execution_count": 540,
   "metadata": {
    "heading_collapsed": "false",
    "hidden": true
   },
   "outputs": [],
   "source": [
    "# Prepare MNIST data.\n",
    "from tensorflow.keras.datasets import mnist\n",
    "(x_train, y_train), (x_test, y_test) = mnist.load_data()\n",
    "# Convert to float32.\n",
    "x_train, x_test = np.array(x_train, np.float32), np.array(x_test, np.float32)\n",
    "# Flatten images to 1-D vector of 784 features (28*28).\n",
    "x_train, x_test = x_train.reshape([-1, num_features]), x_test.reshape([-1, num_features])\n",
    "# Normalize images value from [0, 255] to [0, 1].\n",
    "x_train, x_test = x_train / 255., x_test / 255."
   ]
  },
  {
   "cell_type": "code",
   "execution_count": 541,
   "metadata": {
    "heading_collapsed": "false",
    "hidden": true
   },
   "outputs": [],
   "source": [
    "# Use tf.data API to shuffle and batch data.\n",
    "train_data = tf.data.Dataset.from_tensor_slices((x_train, y_train))\n",
    "train_data = train_data.repeat().shuffle(5000).batch(batch_size).prefetch(1)"
   ]
  },
  {
   "cell_type": "code",
   "execution_count": 542,
   "metadata": {
    "heading_collapsed": "false",
    "hidden": true
   },
   "outputs": [],
   "source": [
    "# Weight of shape [784, 10], the 28*28 image features, and total number of classes.\n",
    "W = tf.Variable(tf.ones([num_features, num_classes]), name=\"weight\")\n",
    "# Bias of shape [10], the total number of classes.\n",
    "b = tf.Variable(tf.zeros([num_classes]), name=\"bias\")\n",
    "\n",
    "# Logistic regression (Wx + b).\n",
    "def logistic_regression(x):\n",
    "    # Apply softmax to normalize the logits to a probability distribution.\n",
    "    return tf.nn.softmax(tf.matmul(x, W) + b)\n",
    "\n",
    "# Cross-Entropy loss function.\n",
    "def cross_entropy(y_pred, y_true):\n",
    "    # Encode label to a one hot vector.\n",
    "    y_true = tf.one_hot(y_true, depth=num_classes)\n",
    "    # Clip prediction values to avoid log(0) error.\n",
    "    y_pred = tf.clip_by_value(y_pred, 1e-9, 1.)\n",
    "    # Compute cross-entropy.\n",
    "    return tf.reduce_mean(-tf.reduce_sum(y_true * tf.math.log(y_pred)))\n",
    "\n",
    "# Accuracy metric.\n",
    "def accuracy(y_pred, y_true):\n",
    "    # Predicted class is the index of highest score in prediction vector (i.e. argmax).\n",
    "    correct_prediction = tf.equal(tf.argmax(y_pred, 1), tf.cast(y_true, tf.int64))\n",
    "    return tf.reduce_mean(tf.cast(correct_prediction, tf.float32))\n",
    "\n",
    "# Stochastic gradient descent optimizer.\n",
    "optimizer = tf.optimizers.SGD(learning_rate)"
   ]
  },
  {
   "cell_type": "code",
   "execution_count": 543,
   "metadata": {
    "heading_collapsed": "false",
    "hidden": true
   },
   "outputs": [],
   "source": [
    "# Optimization process. \n",
    "def run_optimization(x, y):\n",
    "    # Wrap computation inside a GradientTape for automatic differentiation.\n",
    "    with tf.GradientTape() as g:\n",
    "        pred = logistic_regression(x)\n",
    "        loss = cross_entropy(pred, y)\n",
    "\n",
    "    # Compute gradients.\n",
    "    gradients = g.gradient(loss, [W, b])\n",
    "    \n",
    "    # Update W and b following gradients.\n",
    "    optimizer.apply_gradients(zip(gradients, [W, b]))"
   ]
  },
  {
   "cell_type": "code",
   "execution_count": 544,
   "metadata": {
    "heading_collapsed": "false",
    "hidden": true
   },
   "outputs": [
    {
     "name": "stdout",
     "output_type": "stream",
     "text": [
      "step: 50, loss: 175.516266, accuracy: 0.839844\n",
      "step: 100, loss: 329.632080, accuracy: 0.734375\n",
      "step: 150, loss: 193.185516, accuracy: 0.820312\n",
      "step: 200, loss: 282.279419, accuracy: 0.843750\n",
      "step: 250, loss: 67.335419, accuracy: 0.929688\n",
      "step: 300, loss: 92.849976, accuracy: 0.878906\n",
      "step: 350, loss: 64.147430, accuracy: 0.917969\n",
      "step: 400, loss: 89.086899, accuracy: 0.898438\n",
      "step: 450, loss: 58.361408, accuracy: 0.941406\n",
      "step: 500, loss: 598.984009, accuracy: 0.722656\n",
      "step: 550, loss: 86.792137, accuracy: 0.910156\n",
      "step: 600, loss: 53.748035, accuracy: 0.933594\n",
      "step: 650, loss: 68.953552, accuracy: 0.917969\n",
      "step: 700, loss: 61.866737, accuracy: 0.937500\n",
      "step: 750, loss: 55.100296, accuracy: 0.925781\n",
      "step: 800, loss: 93.162651, accuracy: 0.917969\n",
      "step: 850, loss: 56.120010, accuracy: 0.949219\n",
      "step: 900, loss: 116.392166, accuracy: 0.898438\n",
      "step: 950, loss: 64.177849, accuracy: 0.949219\n",
      "step: 1000, loss: 201.373642, accuracy: 0.847656\n"
     ]
    }
   ],
   "source": [
    "# Run training for the given number of steps.\n",
    "for step, (batch_x, batch_y) in enumerate(train_data.take(training_steps), 1):\n",
    "    # Run the optimization to update W and b values.\n",
    "    run_optimization(batch_x, batch_y)\n",
    "    \n",
    "    if step % display_step == 0:\n",
    "        pred = logistic_regression(batch_x)\n",
    "        loss = cross_entropy(pred, batch_y)\n",
    "        acc = accuracy(pred, batch_y)\n",
    "        print(\"step: %i, loss: %f, accuracy: %f\" % (step, loss, acc))"
   ]
  },
  {
   "cell_type": "code",
   "execution_count": 545,
   "metadata": {
    "heading_collapsed": "false",
    "hidden": true
   },
   "outputs": [
    {
     "name": "stdout",
     "output_type": "stream",
     "text": [
      "Test Accuracy: 0.829900\n"
     ]
    }
   ],
   "source": [
    "# Test model on validation set.\n",
    "pred = logistic_regression(x_test)\n",
    "print(\"Test Accuracy: %f\" % accuracy(pred, y_test))"
   ]
  },
  {
   "cell_type": "code",
   "execution_count": 547,
   "metadata": {
    "heading_collapsed": "false",
    "hidden": true
   },
   "outputs": [],
   "source": [
    "# Visualize predictions.\n",
    "import matplotlib.pyplot as plt"
   ]
  },
  {
   "cell_type": "code",
   "execution_count": 550,
   "metadata": {
    "heading_collapsed": "false",
    "hidden": true,
    "scrolled": true
   },
   "outputs": [
    {
     "data": {
      "image/png": "[encoded data removed]",
      "text/plain": [
       "<Figure size 432x288 with 1 Axes>"
      ]
     },
     "metadata": {
      "needs_background": "light"
     },
     "output_type": "display_data"
    },
    {
     "name": "stdout",
     "output_type": "stream",
     "text": [
      "Model prediction: 7\n"
     ]
    },
    {
     "data": {
      "image/png": "[encoded data removed]",
      "text/plain": [
       "<Figure size 432x288 with 1 Axes>"
      ]
     },
     "metadata": {
      "needs_background": "light"
     },
     "output_type": "display_data"
    },
    {
     "name": "stdout",
     "output_type": "stream",
     "text": [
      "Model prediction: 2\n"
     ]
    },
    {
     "data": {
      "image/png": "[encoded data removed]",
      "text/plain": [
       "<Figure size 432x288 with 1 Axes>"
      ]
     },
     "metadata": {
      "needs_background": "light"
     },
     "output_type": "display_data"
    },
    {
     "name": "stdout",
     "output_type": "stream",
     "text": [
      "Model prediction: 1\n"
     ]
    },
    {
     "data": {
      "image/png": "[encoded data removed]",
      "text/plain": [
       "<Figure size 432x288 with 1 Axes>"
      ]
     },
     "metadata": {
      "needs_background": "light"
     },
     "output_type": "display_data"
    },
    {
     "name": "stdout",
     "output_type": "stream",
     "text": [
      "Model prediction: 0\n"
     ]
    },
    {
     "data": {
      "image/png": "[encoded data removed]",
      "text/plain": [
       "<Figure size 432x288 with 1 Axes>"
      ]
     },
     "metadata": {
      "needs_background": "light"
     },
     "output_type": "display_data"
    },
    {
     "name": "stdout",
     "output_type": "stream",
     "text": [
      "Model prediction: 4\n"
     ]
    }
   ],
   "source": [
    "# Predict 5 images from validation set.\n",
    "n_images = 5\n",
    "test_images = x_test[:n_images]\n",
    "predictions = logistic_regression(test_images)\n",
    "\n",
    "# Display image and model prediction.\n",
    "for i in range(n_images):\n",
    "    plt.imshow(np.reshape(test_images[i], [28, 28]), cmap='gray')\n",
    "    plt.show()\n",
    "    print(\"Model prediction: %i\" % np.argmax(predictions.numpy()[i]))"
   ]
  },
  {
   "cell_type": "markdown",
   "metadata": {
    "heading_collapsed": "false",
    "hidden": true
   },
   "source": [
    "### 多层神经网络"
   ]
  },
  {
   "cell_type": "code",
   "execution_count": 551,
   "metadata": {
    "heading_collapsed": "false",
    "hidden": true
   },
   "outputs": [],
   "source": [
    "from __future__ import absolute_import, division, print_function\n",
    "\n",
    "import tensorflow as tf\n",
    "import numpy as np"
   ]
  },
  {
   "cell_type": "code",
   "execution_count": 552,
   "metadata": {
    "heading_collapsed": "false",
    "hidden": true
   },
   "outputs": [],
   "source": [
    "# MNIST dataset parameters.\n",
    "num_classes = 10 # total classes (0-9 digits).\n",
    "num_features = 784 # data features (img shape: 28*28).\n",
    "\n",
    "# Training parameters.\n",
    "learning_rate = 0.001\n",
    "training_steps = 3000\n",
    "batch_size = 256\n",
    "display_step = 100\n",
    "\n",
    "# Network parameters.\n",
    "n_hidden_1 = 128 # 1st layer number of neurons.\n",
    "n_hidden_2 = 256 # 2nd layer number of neurons."
   ]
  },
  {
   "cell_type": "code",
   "execution_count": 553,
   "metadata": {
    "heading_collapsed": "false",
    "hidden": true
   },
   "outputs": [],
   "source": [
    "# Prepare MNIST data.\n",
    "from tensorflow.keras.datasets import mnist\n",
    "(x_train, y_train), (x_test, y_test) = mnist.load_data()\n",
    "# Convert to float32.\n",
    "x_train, x_test = np.array(x_train, np.float32), np.array(x_test, np.float32)\n",
    "# Flatten images to 1-D vector of 784 features (28*28).\n",
    "x_train, x_test = x_train.reshape([-1, num_features]), x_test.reshape([-1, num_features])\n",
    "# Normalize images value from [0, 255] to [0, 1].\n",
    "x_train, x_test = x_train / 255., x_test / 255."
   ]
  },
  {
   "cell_type": "code",
   "execution_count": 554,
   "metadata": {
    "heading_collapsed": "false",
    "hidden": true
   },
   "outputs": [],
   "source": [
    "# Use tf.data API to shuffle and batch data.\n",
    "train_data = tf.data.Dataset.from_tensor_slices((x_train, y_train))\n",
    "train_data = train_data.repeat().shuffle(5000).batch(batch_size).prefetch(1)"
   ]
  },
  {
   "cell_type": "code",
   "execution_count": 555,
   "metadata": {
    "heading_collapsed": "false",
    "hidden": true
   },
   "outputs": [],
   "source": [
    "# Store layers weight & bias\n",
    "\n",
    "# A random value generator to initialize weights.\n",
    "random_normal = tf.initializers.RandomNormal()\n",
    "\n",
    "weights = {\n",
    "    'h1': tf.Variable(random_normal([num_features, n_hidden_1])),\n",
    "    'h2': tf.Variable(random_normal([n_hidden_1, n_hidden_2])),\n",
    "    'out': tf.Variable(random_normal([n_hidden_2, num_classes]))\n",
    "}\n",
    "biases = {\n",
    "    'b1': tf.Variable(tf.zeros([n_hidden_1])),\n",
    "    'b2': tf.Variable(tf.zeros([n_hidden_2])),\n",
    "    'out': tf.Variable(tf.zeros([num_classes]))\n",
    "}"
   ]
  },
  {
   "cell_type": "code",
   "execution_count": 556,
   "metadata": {
    "heading_collapsed": "false",
    "hidden": true
   },
   "outputs": [],
   "source": [
    "# Create model.\n",
    "def neural_net(x):\n",
    "    # Hidden fully connected layer with 128 neurons.\n",
    "    layer_1 = tf.add(tf.matmul(x, weights['h1']), biases['b1'])\n",
    "    # Apply sigmoid to layer_1 output for non-linearity.\n",
    "    layer_1 = tf.nn.sigmoid(layer_1)\n",
    "    \n",
    "    # Hidden fully connected layer with 256 neurons.\n",
    "    layer_2 = tf.add(tf.matmul(layer_1, weights['h2']), biases['b2'])\n",
    "    # Apply sigmoid to layer_2 output for non-linearity.\n",
    "    layer_2 = tf.nn.sigmoid(layer_2)\n",
    "    \n",
    "    # Output fully connected layer with a neuron for each class.\n",
    "    out_layer = tf.matmul(layer_2, weights['out']) + biases['out']\n",
    "    # Apply softmax to normalize the logits to a probability distribution.\n",
    "    return tf.nn.softmax(out_layer)"
   ]
  },
  {
   "cell_type": "code",
   "execution_count": 557,
   "metadata": {
    "heading_collapsed": "false",
    "hidden": true
   },
   "outputs": [],
   "source": [
    "# Cross-Entropy loss function.\n",
    "def cross_entropy(y_pred, y_true):\n",
    "    # Encode label to a one hot vector.\n",
    "    y_true = tf.one_hot(y_true, depth=num_classes)\n",
    "    # Clip prediction values to avoid log(0) error.\n",
    "    y_pred = tf.clip_by_value(y_pred, 1e-9, 1.)\n",
    "    # Compute cross-entropy.\n",
    "    return tf.reduce_mean(-tf.reduce_sum(y_true * tf.math.log(y_pred)))\n",
    "\n",
    "# Accuracy metric.\n",
    "def accuracy(y_pred, y_true):\n",
    "    # Predicted class is the index of highest score in prediction vector (i.e. argmax).\n",
    "    correct_prediction = tf.equal(tf.argmax(y_pred, 1), tf.cast(y_true, tf.int64))\n",
    "    return tf.reduce_mean(tf.cast(correct_prediction, tf.float32), axis=-1)\n",
    "\n",
    "# Stochastic gradient descent optimizer.\n",
    "optimizer = tf.optimizers.SGD(learning_rate)"
   ]
  },
  {
   "cell_type": "code",
   "execution_count": 558,
   "metadata": {
    "heading_collapsed": "false",
    "hidden": true
   },
   "outputs": [],
   "source": [
    "# Optimization process. \n",
    "def run_optimization(x, y):\n",
    "    # Wrap computation inside a GradientTape for automatic differentiation.\n",
    "    with tf.GradientTape() as g:\n",
    "        pred = neural_net(x)\n",
    "        loss = cross_entropy(pred, y)\n",
    "        \n",
    "    # Variables to update, i.e. trainable variables.\n",
    "    trainable_variables = list(weights.values()) + list(biases.values())\n",
    "\n",
    "    # Compute gradients.\n",
    "    gradients = g.gradient(loss, trainable_variables)\n",
    "    \n",
    "    # Update W and b following gradients.\n",
    "    optimizer.apply_gradients(zip(gradients, trainable_variables))"
   ]
  },
  {
   "cell_type": "code",
   "execution_count": 559,
   "metadata": {
    "heading_collapsed": "false",
    "hidden": true
   },
   "outputs": [
    {
     "data": {
      "text/plain": [
       "builtin_function_or_method"
      ]
     },
     "execution_count": 559,
     "metadata": {},
     "output_type": "execute_result"
    }
   ],
   "source": [
    "type(weights.values)"
   ]
  },
  {
   "cell_type": "code",
   "execution_count": 560,
   "metadata": {
    "heading_collapsed": "false",
    "hidden": true
   },
   "outputs": [
    {
     "name": "stdout",
     "output_type": "stream",
     "text": [
      "step: 100, loss: 564.621826, accuracy: 0.328125\n",
      "step: 200, loss: 411.792175, accuracy: 0.542969\n",
      "step: 300, loss: 238.023102, accuracy: 0.730469\n",
      "step: 400, loss: 173.811157, accuracy: 0.757812\n",
      "step: 500, loss: 136.418762, accuracy: 0.855469\n",
      "step: 600, loss: 120.511459, accuracy: 0.875000\n",
      "step: 700, loss: 92.020378, accuracy: 0.906250\n",
      "step: 800, loss: 125.642944, accuracy: 0.863281\n",
      "step: 900, loss: 97.789757, accuracy: 0.875000\n",
      "step: 1000, loss: 93.471008, accuracy: 0.882812\n",
      "step: 1100, loss: 77.724579, accuracy: 0.925781\n",
      "step: 1200, loss: 63.782349, accuracy: 0.929688\n",
      "step: 1300, loss: 54.923962, accuracy: 0.945312\n",
      "step: 1400, loss: 54.222561, accuracy: 0.949219\n",
      "step: 1500, loss: 69.963196, accuracy: 0.898438\n",
      "step: 1600, loss: 81.706818, accuracy: 0.917969\n",
      "step: 1700, loss: 90.534058, accuracy: 0.902344\n",
      "step: 1800, loss: 80.867470, accuracy: 0.906250\n",
      "step: 1900, loss: 44.310356, accuracy: 0.949219\n",
      "step: 2000, loss: 84.589333, accuracy: 0.894531\n",
      "step: 2100, loss: 51.568794, accuracy: 0.933594\n",
      "step: 2200, loss: 85.721848, accuracy: 0.914062\n",
      "step: 2300, loss: 85.848076, accuracy: 0.906250\n",
      "step: 2400, loss: 76.548279, accuracy: 0.933594\n",
      "step: 2500, loss: 45.496830, accuracy: 0.957031\n",
      "step: 2600, loss: 48.437599, accuracy: 0.933594\n",
      "step: 2700, loss: 51.954185, accuracy: 0.945312\n",
      "step: 2800, loss: 42.037014, accuracy: 0.949219\n",
      "step: 2900, loss: 46.780285, accuracy: 0.941406\n",
      "step: 3000, loss: 46.162796, accuracy: 0.957031\n"
     ]
    }
   ],
   "source": [
    "# Run training for the given number of steps.\n",
    "for step, (batch_x, batch_y) in enumerate(train_data.take(training_steps), 1):\n",
    "    # Run the optimization to update W and b values.\n",
    "    run_optimization(batch_x, batch_y)\n",
    "    \n",
    "    if step % display_step == 0:\n",
    "        pred = neural_net(batch_x)\n",
    "        loss = cross_entropy(pred, batch_y)\n",
    "        acc = accuracy(pred, batch_y)\n",
    "        print(\"step: %i, loss: %f, accuracy: %f\" % (step, loss, acc))"
   ]
  },
  {
   "cell_type": "code",
   "execution_count": 561,
   "metadata": {
    "heading_collapsed": "false",
    "hidden": true
   },
   "outputs": [
    {
     "name": "stdout",
     "output_type": "stream",
     "text": [
      "Test Accuracy: 0.939600\n"
     ]
    }
   ],
   "source": [
    "# Test model on validation set.\n",
    "pred = neural_net(x_test)\n",
    "print(\"Test Accuracy: %f\" % accuracy(pred, y_test))"
   ]
  },
  {
   "cell_type": "code",
   "execution_count": 562,
   "metadata": {
    "heading_collapsed": "false",
    "hidden": true
   },
   "outputs": [
    {
     "data": {
      "image/png": "[encoded data removed]",
      "text/plain": [
       "<Figure size 432x288 with 1 Axes>"
      ]
     },
     "metadata": {
      "needs_background": "light"
     },
     "output_type": "display_data"
    },
    {
     "name": "stdout",
     "output_type": "stream",
     "text": [
      "Model prediction: 7\n"
     ]
    },
    {
     "data": {
      "image/png": "[encoded data removed]",
      "text/plain": [
       "<Figure size 432x288 with 1 Axes>"
      ]
     },
     "metadata": {
      "needs_background": "light"
     },
     "output_type": "display_data"
    },
    {
     "name": "stdout",
     "output_type": "stream",
     "text": [
      "Model prediction: 2\n"
     ]
    },
    {
     "data": {
      "image/png": "[encoded data removed]",
      "text/plain": [
       "<Figure size 432x288 with 1 Axes>"
      ]
     },
     "metadata": {
      "needs_background": "light"
     },
     "output_type": "display_data"
    },
    {
     "name": "stdout",
     "output_type": "stream",
     "text": [
      "Model prediction: 1\n"
     ]
    },
    {
     "data": {
      "image/png": "[encoded data removed]",
      "text/plain": [
       "<Figure size 432x288 with 1 Axes>"
      ]
     },
     "metadata": {
      "needs_background": "light"
     },
     "output_type": "display_data"
    },
    {
     "name": "stdout",
     "output_type": "stream",
     "text": [
      "Model prediction: 0\n"
     ]
    },
    {
     "data": {
      "image/png": "[encoded data removed]",
      "text/plain": [
       "<Figure size 432x288 with 1 Axes>"
      ]
     },
     "metadata": {
      "needs_background": "light"
     },
     "output_type": "display_data"
    },
    {
     "name": "stdout",
     "output_type": "stream",
     "text": [
      "Model prediction: 4\n"
     ]
    }
   ],
   "source": [
    "# Visualize predictions.\n",
    "import matplotlib.pyplot as plt\n",
    "\n",
    "# Predict 5 images from validation set.\n",
    "n_images = 5\n",
    "test_images = x_test[:n_images]\n",
    "predictions = neural_net(test_images)\n",
    "\n",
    "# Display image and model prediction.\n",
    "for i in range(n_images):\n",
    "    plt.imshow(np.reshape(test_images[i], [28, 28]), cmap='gray')\n",
    "    plt.show()\n",
    "    print(\"Model prediction: %i\" % np.argmax(predictions.numpy()[i]))"
   ]
  },
  {
   "cell_type": "code",
   "execution_count": null,
   "metadata": {
    "heading_collapsed": "false",
    "hidden": true
   },
   "outputs": [],
   "source": []
  },
  {
   "cell_type": "markdown",
   "metadata": {
    "heading_collapsed": "false",
    "hidden": true
   },
   "source": [
    "### Keras实现"
   ]
  },
  {
   "cell_type": "code",
   "execution_count": 564,
   "metadata": {
    "heading_collapsed": "false",
    "hidden": true
   },
   "outputs": [],
   "source": [
    "from tensorflow import keras\n",
    "from tensorflow.keras.datasets import mnist\n",
    "from tensorflow.keras.models import Sequential\n",
    "from tensorflow.keras.layers import Dense, Dropout"
   ]
  },
  {
   "cell_type": "code",
   "execution_count": 565,
   "metadata": {
    "heading_collapsed": "false",
    "hidden": true
   },
   "outputs": [],
   "source": [
    "batch_size = 128\n",
    "num_classes = 10\n",
    "epochs = 12"
   ]
  },
  {
   "cell_type": "code",
   "execution_count": 566,
   "metadata": {
    "heading_collapsed": "false",
    "hidden": true
   },
   "outputs": [
    {
     "name": "stdout",
     "output_type": "stream",
     "text": [
      "60000 train samples\n",
      "10000 test samples\n"
     ]
    }
   ],
   "source": [
    "# ==============================================================================\n",
    "# prepare data\n",
    "(X_train, y_train), (X_test, y_test) = mnist.load_data()\n",
    "\n",
    "X_train = X_train.reshape(60000, 784)\n",
    "X_test = X_test.reshape(10000, 784)\n",
    "X_train = X_train.astype('float32')\n",
    "X_test = X_test.astype('float32')\n",
    "X_train /= 255\n",
    "X_test /= 255\n",
    "print(X_train.shape[0], 'train samples')\n",
    "print(X_test.shape[0], 'test samples')\n",
    "\n",
    "y_train = keras.utils.to_categorical(y_train, num_classes)\n",
    "y_test = keras.utils.to_categorical(y_test, num_classes)"
   ]
  },
  {
   "cell_type": "code",
   "execution_count": 567,
   "metadata": {
    "heading_collapsed": "false",
    "hidden": true
   },
   "outputs": [
    {
     "data": {
      "text/plain": [
       "(60000, 784)"
      ]
     },
     "execution_count": 567,
     "metadata": {},
     "output_type": "execute_result"
    }
   ],
   "source": [
    "X_train.shape"
   ]
  },
  {
   "cell_type": "code",
   "execution_count": 568,
   "metadata": {
    "heading_collapsed": "false",
    "hidden": true
   },
   "outputs": [
    {
     "name": "stdout",
     "output_type": "stream",
     "text": [
      "Epoch 1/12\n",
      "469/469 [==============================] - 1s 1ms/step - loss: 0.6230 - accuracy: 0.8326\n",
      "Epoch 2/12\n",
      "469/469 [==============================] - 1s 1ms/step - loss: 0.1703 - accuracy: 0.9525\n",
      "Epoch 3/12\n",
      "469/469 [==============================] - 1s 1ms/step - loss: 0.1199 - accuracy: 0.9648\n",
      "Epoch 4/12\n",
      "469/469 [==============================] - 1s 1ms/step - loss: 0.0898 - accuracy: 0.9748\n",
      "Epoch 5/12\n",
      "469/469 [==============================] - 1s 1ms/step - loss: 0.0688 - accuracy: 0.9808\n",
      "Epoch 6/12\n",
      "469/469 [==============================] - 1s 1ms/step - loss: 0.0610 - accuracy: 0.9822\n",
      "Epoch 7/12\n",
      "469/469 [==============================] - 1s 1ms/step - loss: 0.0477 - accuracy: 0.9867\n",
      "Epoch 8/12\n",
      "469/469 [==============================] - 1s 1ms/step - loss: 0.0408 - accuracy: 0.9889\n",
      "Epoch 9/12\n",
      "469/469 [==============================] - 1s 1ms/step - loss: 0.0336 - accuracy: 0.9908\n",
      "Epoch 10/12\n",
      "469/469 [==============================] - 1s 1ms/step - loss: 0.0267 - accuracy: 0.9934\n",
      "Epoch 11/12\n",
      "469/469 [==============================] - 1s 1ms/step - loss: 0.0250 - accuracy: 0.9936\n",
      "Epoch 12/12\n",
      "469/469 [==============================] - 1s 1ms/step - loss: 0.0210 - accuracy: 0.9952\n"
     ]
    }
   ],
   "source": [
    "# ==============================================================================\n",
    "# build model\n",
    "model = keras.Sequential([\n",
    "    keras.layers.Dense(128, activation='relu',input_shape=(28*28,)),\n",
    "    keras.layers.Dense(num_classes, activation='softmax')\n",
    "])\n",
    "\n",
    "model.compile(loss='categorical_crossentropy',\n",
    "              optimizer='adam', metrics=['accuracy'])\n",
    "\n",
    "history = model.fit(X_train, y_train,\n",
    "                    batch_size=batch_size,\n",
    "                    epochs=epochs,\n",
    "                    verbose=1)"
   ]
  },
  {
   "cell_type": "code",
   "execution_count": 569,
   "metadata": {
    "heading_collapsed": "false",
    "hidden": true
   },
   "outputs": [
    {
     "name": "stdout",
     "output_type": "stream",
     "text": [
      "79/79 [==============================] - 0s 856us/step - loss: 0.0709 - accuracy: 0.9781\n",
      "\n",
      "Test loss: 0.07088800519704819\n",
      "Test accuracy: 0.9781000018119812\n"
     ]
    }
   ],
   "source": [
    "# ==============================================================================\n",
    "# predict\n",
    "score = model.evaluate(X_test, y_test, batch_size=batch_size)\n",
    "print('\\nTest loss:', score[0])\n",
    "print('Test accuracy:', score[1])"
   ]
  },
  {
   "cell_type": "markdown",
   "metadata": {
    "hidden": true,
    "tags": []
   },
   "source": [
    "## 我们针对逻辑回归和神经网路的两种算法，准确率做比较可以看出：\n",
    "多层神经网络的准确率大于逻辑回归准确率"
   ]
  }
 ],
 "metadata": {
  "kernelspec": {
   "display_name": "Python 3",
   "language": "python",
   "name": "python3"
  },
  "language_info": {
   "codemirror_mode": {
    "name": "ipython",
    "version": 3
   },
   "file_extension": ".py",
   "mimetype": "text/x-python",
   "name": "python",
   "nbconvert_exporter": "python",
   "pygments_lexer": "ipython3",
   "version": "3.9.2"
  }
 },
 "nbformat": 4,
 "nbformat_minor": 4
}
