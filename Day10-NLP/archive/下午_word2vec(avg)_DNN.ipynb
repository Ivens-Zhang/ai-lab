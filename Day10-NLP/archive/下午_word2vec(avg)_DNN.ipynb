{
 "cells": [
  {
   "cell_type": "markdown",
   "metadata": {},
   "source": [
    "# word2vec(avg)+DNN\n",
    "\n",
    "\n",
    "## 1.导入工具包"
   ]
  },
  {
   "cell_type": "code",
   "execution_count": 12,
   "metadata": {},
   "outputs": [
    {
     "name": "stdout",
     "output_type": "stream",
     "text": [
      "--2021-06-03 05:23:49--  https://github.com/alicelmx/jianshu_nlp/blob/master/JianShuJiaoYou-All-Data.csv\n",
      "Resolving github.com (github.com)... 13.229.188.59\n",
      "Connecting to github.com (github.com)|13.229.188.59|:443... connected.\n",
      "HTTP request sent, awaiting response... ^C\n"
     ]
    }
   ],
   "source": [
    "!wget https://github.com/alicelmx/jianshu_nlp/blob/master/JianShuJiaoYou-All-Data.csv"
   ]
  },
  {
   "cell_type": "code",
   "execution_count": 6,
   "metadata": {},
   "outputs": [
    {
     "ename": "NameError",
     "evalue": "name 'df' is not defined",
     "output_type": "error",
     "traceback": [
      "\u001b[0;31m\u001b[0m",
      "\u001b[0;31mNameError\u001b[0mTraceback (most recent call last)",
      "\u001b[0;32m<ipython-input-6-05133bde1043>\u001b[0m in \u001b[0;36m<module>\u001b[0;34m\u001b[0m\n\u001b[1;32m      3\u001b[0m \u001b[0mwarnings\u001b[0m\u001b[0;34m.\u001b[0m\u001b[0mfilterwarnings\u001b[0m\u001b[0;34m(\u001b[0m\u001b[0;34m'ignore'\u001b[0m\u001b[0;34m)\u001b[0m\u001b[0;34m\u001b[0m\u001b[0;34m\u001b[0m\u001b[0m\n\u001b[1;32m      4\u001b[0m \u001b[0;34m\u001b[0m\u001b[0m\n\u001b[0;32m----> 5\u001b[0;31m \u001b[0mcontent\u001b[0m \u001b[0;34m=\u001b[0m \u001b[0mdf\u001b[0m\u001b[0;34m[\u001b[0m\u001b[0;34m'Artical_Content'\u001b[0m\u001b[0;34m]\u001b[0m\u001b[0;34m.\u001b[0m\u001b[0mtolist\u001b[0m\u001b[0;34m(\u001b[0m\u001b[0;34m)\u001b[0m\u001b[0;34m\u001b[0m\u001b[0;34m\u001b[0m\u001b[0m\n\u001b[0m\u001b[1;32m      6\u001b[0m \u001b[0;34m\u001b[0m\u001b[0m\n\u001b[1;32m      7\u001b[0m \u001b[0;31m# 载入停用词\u001b[0m\u001b[0;34m\u001b[0m\u001b[0;34m\u001b[0m\u001b[0;34m\u001b[0m\u001b[0m\n",
      "\u001b[0;31mNameError\u001b[0m: name 'df' is not defined"
     ]
    }
   ],
   "source": [
    "import warnings\n",
    "# 忽略警告\n",
    "warnings.filterwarnings('ignore')\n",
    "\n",
    "content = df['Artical_Content'].tolist()\n",
    "\n",
    "# 载入停用词\n",
    "# quoting : int or csv.QUOTE_* instance, default 0\n",
    "# 控制csv中的引号常量。可选 QUOTE_MINIMAL (0), QUOTE_ALL (1), QUOTE_NONNUMERIC (2) or QUOTE_NONE (3) \n",
    "stopwords = pd.read_csv('./chinesestopword.txt',sep='\\n',encoding='utf-8',names=['stopwords'],header=None,quoting=3)\n",
    "\n",
    "# 结巴分词\n",
    "import re\n",
    "import jieba\n",
    "from collections import Counter\n",
    "\n",
    "pattern = re.compile('\\d+')\n",
    "\n",
    "# 存放词语和词频\n",
    "wordsCounter = Counter()\n",
    "\n",
    "for line in content:\n",
    "    segs = jieba.lcut(line)\n",
    "    for seg in segs:\n",
    "        if len(seg)>1 and seg != '\\r\\n' and re.search(pattern,seg)==None:\n",
    "            wordsCounter[seg] += 1\n",
    "\n",
    "# 将Counter的键提取出来做list\n",
    "segment = list(wordsCounter)\n",
    "\n",
    "# 将分好的词列表转化为词典\n",
    "words = pd.DataFrame({'segment':segment})\n",
    "\n",
    "# 剔除停用词\n",
    "words = words[~words['segment'].isin(stopwords['stopwords'])]\n",
    "\n",
    "# 绘制词云\n",
    "from pyecharts import WordCloud\n",
    "\n",
    "def counter2list(_counter):\n",
    "    wordslist,nums = [],[]\n",
    "    for item in _counter:\n",
    "        wordslist.append(item[0])\n",
    "        nums.append(item[1])\n",
    "    return wordslist,nums\n",
    "\n",
    "outputFile = './result/文章关键词词云图.html'\n",
    "\n",
    "# 这个关键词抽取方法不唯一\n",
    "wordslist,nums = counter2list(wordsCounter.most_common(1000))\n",
    "\n",
    "cloud = WordCloud('文章关键词词云', width=1200, height=600, title_pos='center')\n",
    "cloud.add(\n",
    "    ' ',wordslist,nums,\n",
    "    shape='circle',\n",
    "    background_color='white',\n",
    "    max_words=1000 \n",
    ")\n",
    "cloud.render(outputFile)\n"
   ]
  },
  {
   "cell_type": "code",
   "execution_count": null,
   "metadata": {},
   "outputs": [],
   "source": []
  }
 ],
 "metadata": {
  "kernelspec": {
   "display_name": "Python 3",
   "language": "python",
   "name": "python3"
  },
  "language_info": {
   "codemirror_mode": {
    "name": "ipython",
    "version": 3
   },
   "file_extension": ".py",
   "mimetype": "text/x-python",
   "name": "python",
   "nbconvert_exporter": "python",
   "pygments_lexer": "ipython3",
   "version": "3.9.2"
  }
 },
 "nbformat": 4,
 "nbformat_minor": 2
}
