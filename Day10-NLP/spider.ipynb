{
 "cells": [
  {
   "cell_type": "code",
   "execution_count": 2,
   "metadata": {
    "scrolled": true
   },
   "outputs": [
    {
     "name": "stdout",
     "output_type": "stream",
     "text": [
      "{'id': 1137059900, 'nickName': '爱李不理李', 'cityName': '亳州', 'content': '不错这个电影', 'score': 5.0, 'startTime': '2021-06-04 13:13:04'}\n",
      "{'id': 1137064071, 'nickName': 'FdK115888991', 'cityName': '郑州', 'content': '因为你我相信真爱，因为你我相信永远', 'score': 3.5, 'startTime': '2021-06-04 13:03:30'}\n",
      "{'id': 1137063175, 'nickName': '郑晓丹521', 'cityName': '南阳', 'content': '很不错的，爱国', 'score': 5.0, 'startTime': '2021-06-04 13:02:45'}\n",
      "{'id': 1137060457, 'nickName': '朵宝宝0720', 'cityName': '昆明', 'content': '特别好看，，', 'score': 5.0, 'startTime': '2021-06-04 13:01:13'}\n",
      "{'id': 1137058857, 'nickName': '保俊平安', 'cityName': '深圳', 'content': '扣扣扣同一时间用了', 'score': 4.0, 'startTime': '2021-06-04 12:31:05'}\n",
      "{'id': 1137059599, 'nickName': 'nDQ777446289', 'cityName': '上海', 'content': '好看，喜欢东东小可爱', 'score': 4.5, 'startTime': '2021-06-04 12:31:01'}\n",
      "{'id': 1137057951, 'nickName': 'roi434462279', 'cityName': '武汉', 'content': '超级好看！！', 'score': 5.0, 'startTime': '2021-06-04 12:27:57'}\n",
      "{'id': 1137054853, 'nickName': 'S光子', 'cityName': '忻州', 'content': '演员演的好。', 'score': 4.0, 'startTime': '2021-06-04 12:17:47'}\n",
      "{'id': 1137054764, 'nickName': 'xEB548246149', 'cityName': '日照', 'content': '很好看的电影', 'score': 5.0, 'startTime': '2021-06-04 12:03:14'}\n",
      "{'id': 1137054651, 'nickName': 'sWT497570513', 'cityName': '长春', 'content': '喜欢，感动，骄傲', 'score': 5.0, 'startTime': '2021-06-04 11:43:48'}\n",
      "{'id': 1137055440, 'nickName': 'sOC393972279', 'cityName': '济南', 'content': '好电影值得看', 'score': 4.0, 'startTime': '2021-06-04 11:28:52'}\n",
      "{'id': 1137054337, 'nickName': '追远', 'cityName': '南通', 'content': '必须十分，都快忘记了是前年看的了，真的很有感觉，情怀这个东西不是只能存在在记忆里的，用合适的灯光和场景展现每一个应该被国人铭记的历史性时刻，小到围坐一起看电视，大到北京奥运会，每一幕都那样的纯粹。', 'score': 5.0, 'startTime': '2021-06-04 10:43:15'}\n",
      "{'id': 1137057077, 'nickName': 'muzi750810', 'cityName': '濮阳', 'content': '挺好，不错，再来看', 'score': 5.0, 'startTime': '2021-06-04 10:25:48'}\n",
      "{'id': 1137053480, 'nickName': 'TPZ680318818', 'cityName': '无为市', 'content': '很好看，明星太多了', 'score': 4.0, 'startTime': '2021-06-04 09:46:11'}\n",
      "{'id': 1137053150, 'nickName': '林漂亮_', 'cityName': '焦作', 'content': '好看 挺不错的', 'score': 3.5, 'startTime': '2021-06-04 07:34:50'}\n",
      "[{'id': 1137059900, 'nickName': '爱李不理李', 'cityName': '亳州', 'content': '不错这个电影', 'score': 5.0, 'startTime': '2021-06-04 13:13:04'}, {'id': 1137064071, 'nickName': 'FdK115888991', 'cityName': '郑州', 'content': '因为你我相信真爱，因为你我相信永远', 'score': 3.5, 'startTime': '2021-06-04 13:03:30'}, {'id': 1137063175, 'nickName': '郑晓丹521', 'cityName': '南阳', 'content': '很不错的，爱国', 'score': 5.0, 'startTime': '2021-06-04 13:02:45'}, {'id': 1137060457, 'nickName': '朵宝宝0720', 'cityName': '昆明', 'content': '特别好看，，', 'score': 5.0, 'startTime': '2021-06-04 13:01:13'}, {'id': 1137058857, 'nickName': '保俊平安', 'cityName': '深圳', 'content': '扣扣扣同一时间用了', 'score': 4.0, 'startTime': '2021-06-04 12:31:05'}, {'id': 1137059599, 'nickName': 'nDQ777446289', 'cityName': '上海', 'content': '好看，喜欢东东小可爱', 'score': 4.5, 'startTime': '2021-06-04 12:31:01'}, {'id': 1137057951, 'nickName': 'roi434462279', 'cityName': '武汉', 'content': '超级好看！！', 'score': 5.0, 'startTime': '2021-06-04 12:27:57'}, {'id': 1137054853, 'nickName': 'S光子', 'cityName': '忻州', 'content': '演员演的好。', 'score': 4.0, 'startTime': '2021-06-04 12:17:47'}, {'id': 1137054764, 'nickName': 'xEB548246149', 'cityName': '日照', 'content': '很好看的电影', 'score': 5.0, 'startTime': '2021-06-04 12:03:14'}, {'id': 1137054651, 'nickName': 'sWT497570513', 'cityName': '长春', 'content': '喜欢，感动，骄傲', 'score': 5.0, 'startTime': '2021-06-04 11:43:48'}, {'id': 1137055440, 'nickName': 'sOC393972279', 'cityName': '济南', 'content': '好电影值得看', 'score': 4.0, 'startTime': '2021-06-04 11:28:52'}, {'id': 1137054337, 'nickName': '追远', 'cityName': '南通', 'content': '必须十分，都快忘记了是前年看的了，真的很有感觉，情怀这个东西不是只能存在在记忆里的，用合适的灯光和场景展现每一个应该被国人铭记的历史性时刻，小到围坐一起看电视，大到北京奥运会，每一幕都那样的纯粹。', 'score': 5.0, 'startTime': '2021-06-04 10:43:15'}, {'id': 1137057077, 'nickName': 'muzi750810', 'cityName': '濮阳', 'content': '挺好，不错，再来看', 'score': 5.0, 'startTime': '2021-06-04 10:25:48'}, {'id': 1137053480, 'nickName': 'TPZ680318818', 'cityName': '无为市', 'content': '很好看，明星太多了', 'score': 4.0, 'startTime': '2021-06-04 09:46:11'}, {'id': 1137053150, 'nickName': '林漂亮_', 'cityName': '焦作', 'content': '好看 挺不错的', 'score': 3.5, 'startTime': '2021-06-04 07:34:50'}]\n",
      "2021-06-04 06:21:01\n"
     ]
    },
    {
     "ename": "JSONDecodeError",
     "evalue": "Expecting value: line 1 column 1 (char 0)",
     "output_type": "error",
     "traceback": [
      "\u001b[0;31m\u001b[0m",
      "\u001b[0;31mJSONDecodeError\u001b[0mTraceback (most recent call last)",
      "\u001b[0;32m<ipython-input-2-4e2735db68c4>\u001b[0m in \u001b[0;36m<module>\u001b[0;34m\u001b[0m\n\u001b[1;32m     72\u001b[0m     \u001b[0mcomments\u001b[0m \u001b[0;34m=\u001b[0m \u001b[0mparse_data\u001b[0m\u001b[0;34m(\u001b[0m\u001b[0mhtml\u001b[0m\u001b[0;34m)\u001b[0m\u001b[0;34m\u001b[0m\u001b[0;34m\u001b[0m\u001b[0m\n\u001b[1;32m     73\u001b[0m     \u001b[0mprint\u001b[0m\u001b[0;34m(\u001b[0m\u001b[0mcomments\u001b[0m\u001b[0;34m)\u001b[0m\u001b[0;34m\u001b[0m\u001b[0;34m\u001b[0m\u001b[0m\n\u001b[0;32m---> 74\u001b[0;31m     \u001b[0msave_to_txt\u001b[0m\u001b[0;34m(\u001b[0m\u001b[0;34m)\u001b[0m\u001b[0;34m\u001b[0m\u001b[0;34m\u001b[0m\u001b[0m\n\u001b[0m",
      "\u001b[0;32m<ipython-input-2-4e2735db68c4>\u001b[0m in \u001b[0;36msave_to_txt\u001b[0;34m()\u001b[0m\n\u001b[1;32m     54\u001b[0m         \u001b[0;32melse\u001b[0m\u001b[0;34m:\u001b[0m\u001b[0;34m\u001b[0m\u001b[0;34m\u001b[0m\u001b[0m\n\u001b[1;32m     55\u001b[0m             \u001b[0mtime\u001b[0m\u001b[0;34m.\u001b[0m\u001b[0msleep\u001b[0m\u001b[0;34m(\u001b[0m\u001b[0;36m0.1\u001b[0m\u001b[0;34m)\u001b[0m\u001b[0;34m\u001b[0m\u001b[0;34m\u001b[0m\u001b[0m\n\u001b[0;32m---> 56\u001b[0;31m         \u001b[0mcomments\u001b[0m \u001b[0;34m=\u001b[0m \u001b[0mparse_data\u001b[0m\u001b[0;34m(\u001b[0m\u001b[0mhtml\u001b[0m\u001b[0;34m)\u001b[0m\u001b[0;34m\u001b[0m\u001b[0;34m\u001b[0m\u001b[0m\n\u001b[0m\u001b[1;32m     57\u001b[0m         \u001b[0mstart_time\u001b[0m \u001b[0;34m=\u001b[0m \u001b[0mcomments\u001b[0m\u001b[0;34m[\u001b[0m\u001b[0;36m14\u001b[0m\u001b[0;34m]\u001b[0m\u001b[0;34m[\u001b[0m\u001b[0;34m'startTime'\u001b[0m\u001b[0;34m]\u001b[0m\u001b[0;34m\u001b[0m\u001b[0;34m\u001b[0m\u001b[0m\n\u001b[1;32m     58\u001b[0m         \u001b[0mstart_time\u001b[0m \u001b[0;34m=\u001b[0m \u001b[0mdatetime\u001b[0m\u001b[0;34m.\u001b[0m\u001b[0mstrptime\u001b[0m\u001b[0;34m(\u001b[0m\u001b[0mstart_time\u001b[0m\u001b[0;34m,\u001b[0m\u001b[0;34m'%Y-%m-%d %H:%M:%S'\u001b[0m\u001b[0;34m)\u001b[0m \u001b[0;34m+\u001b[0m \u001b[0mtimedelta\u001b[0m\u001b[0;34m(\u001b[0m\u001b[0mseconds\u001b[0m\u001b[0;34m=\u001b[0m\u001b[0;34m-\u001b[0m\u001b[0;36m1\u001b[0m\u001b[0;34m)\u001b[0m \u001b[0;31m#转换为datetime类型，减1秒，避免获取到重复数据\u001b[0m\u001b[0;34m\u001b[0m\u001b[0;34m\u001b[0m\u001b[0m\n",
      "\u001b[0;32m<ipython-input-2-4e2735db68c4>\u001b[0m in \u001b[0;36mparse_data\u001b[0;34m(html)\u001b[0m\n\u001b[1;32m     18\u001b[0m \u001b[0;34m\u001b[0m\u001b[0m\n\u001b[1;32m     19\u001b[0m \u001b[0;32mdef\u001b[0m \u001b[0mparse_data\u001b[0m\u001b[0;34m(\u001b[0m\u001b[0mhtml\u001b[0m\u001b[0;34m)\u001b[0m\u001b[0;34m:\u001b[0m\u001b[0;34m\u001b[0m\u001b[0;34m\u001b[0m\u001b[0m\n\u001b[0;32m---> 20\u001b[0;31m     \u001b[0mdata\u001b[0m \u001b[0;34m=\u001b[0m \u001b[0mjson\u001b[0m\u001b[0;34m.\u001b[0m\u001b[0mloads\u001b[0m\u001b[0;34m(\u001b[0m\u001b[0mhtml\u001b[0m\u001b[0;34m)\u001b[0m\u001b[0;34m[\u001b[0m\u001b[0;34m'cmts'\u001b[0m\u001b[0;34m]\u001b[0m\u001b[0;34m\u001b[0m\u001b[0;34m\u001b[0m\u001b[0m\n\u001b[0m\u001b[1;32m     21\u001b[0m     \u001b[0mcomments\u001b[0m \u001b[0;34m=\u001b[0m \u001b[0;34m[\u001b[0m\u001b[0;34m]\u001b[0m\u001b[0;34m\u001b[0m\u001b[0;34m\u001b[0m\u001b[0m\n\u001b[1;32m     22\u001b[0m     \u001b[0;32mfor\u001b[0m \u001b[0mitem\u001b[0m \u001b[0;32min\u001b[0m \u001b[0mdata\u001b[0m\u001b[0;34m:\u001b[0m\u001b[0;34m\u001b[0m\u001b[0;34m\u001b[0m\u001b[0m\n",
      "\u001b[0;32m/opt/conda/lib/python3.9/json/__init__.py\u001b[0m in \u001b[0;36mloads\u001b[0;34m(s, cls, object_hook, parse_float, parse_int, parse_constant, object_pairs_hook, **kw)\u001b[0m\n\u001b[1;32m    344\u001b[0m             \u001b[0mparse_int\u001b[0m \u001b[0;32mis\u001b[0m \u001b[0;32mNone\u001b[0m \u001b[0;32mand\u001b[0m \u001b[0mparse_float\u001b[0m \u001b[0;32mis\u001b[0m \u001b[0;32mNone\u001b[0m \u001b[0;32mand\u001b[0m\u001b[0;34m\u001b[0m\u001b[0;34m\u001b[0m\u001b[0m\n\u001b[1;32m    345\u001b[0m             parse_constant is None and object_pairs_hook is None and not kw):\n\u001b[0;32m--> 346\u001b[0;31m         \u001b[0;32mreturn\u001b[0m \u001b[0m_default_decoder\u001b[0m\u001b[0;34m.\u001b[0m\u001b[0mdecode\u001b[0m\u001b[0;34m(\u001b[0m\u001b[0ms\u001b[0m\u001b[0;34m)\u001b[0m\u001b[0;34m\u001b[0m\u001b[0;34m\u001b[0m\u001b[0m\n\u001b[0m\u001b[1;32m    347\u001b[0m     \u001b[0;32mif\u001b[0m \u001b[0mcls\u001b[0m \u001b[0;32mis\u001b[0m \u001b[0;32mNone\u001b[0m\u001b[0;34m:\u001b[0m\u001b[0;34m\u001b[0m\u001b[0;34m\u001b[0m\u001b[0m\n\u001b[1;32m    348\u001b[0m         \u001b[0mcls\u001b[0m \u001b[0;34m=\u001b[0m \u001b[0mJSONDecoder\u001b[0m\u001b[0;34m\u001b[0m\u001b[0;34m\u001b[0m\u001b[0m\n",
      "\u001b[0;32m/opt/conda/lib/python3.9/json/decoder.py\u001b[0m in \u001b[0;36mdecode\u001b[0;34m(self, s, _w)\u001b[0m\n\u001b[1;32m    335\u001b[0m \u001b[0;34m\u001b[0m\u001b[0m\n\u001b[1;32m    336\u001b[0m         \"\"\"\n\u001b[0;32m--> 337\u001b[0;31m         \u001b[0mobj\u001b[0m\u001b[0;34m,\u001b[0m \u001b[0mend\u001b[0m \u001b[0;34m=\u001b[0m \u001b[0mself\u001b[0m\u001b[0;34m.\u001b[0m\u001b[0mraw_decode\u001b[0m\u001b[0;34m(\u001b[0m\u001b[0ms\u001b[0m\u001b[0;34m,\u001b[0m \u001b[0midx\u001b[0m\u001b[0;34m=\u001b[0m\u001b[0m_w\u001b[0m\u001b[0;34m(\u001b[0m\u001b[0ms\u001b[0m\u001b[0;34m,\u001b[0m \u001b[0;36m0\u001b[0m\u001b[0;34m)\u001b[0m\u001b[0;34m.\u001b[0m\u001b[0mend\u001b[0m\u001b[0;34m(\u001b[0m\u001b[0;34m)\u001b[0m\u001b[0;34m)\u001b[0m\u001b[0;34m\u001b[0m\u001b[0;34m\u001b[0m\u001b[0m\n\u001b[0m\u001b[1;32m    338\u001b[0m         \u001b[0mend\u001b[0m \u001b[0;34m=\u001b[0m \u001b[0m_w\u001b[0m\u001b[0;34m(\u001b[0m\u001b[0ms\u001b[0m\u001b[0;34m,\u001b[0m \u001b[0mend\u001b[0m\u001b[0;34m)\u001b[0m\u001b[0;34m.\u001b[0m\u001b[0mend\u001b[0m\u001b[0;34m(\u001b[0m\u001b[0;34m)\u001b[0m\u001b[0;34m\u001b[0m\u001b[0;34m\u001b[0m\u001b[0m\n\u001b[1;32m    339\u001b[0m         \u001b[0;32mif\u001b[0m \u001b[0mend\u001b[0m \u001b[0;34m!=\u001b[0m \u001b[0mlen\u001b[0m\u001b[0;34m(\u001b[0m\u001b[0ms\u001b[0m\u001b[0;34m)\u001b[0m\u001b[0;34m:\u001b[0m\u001b[0;34m\u001b[0m\u001b[0;34m\u001b[0m\u001b[0m\n",
      "\u001b[0;32m/opt/conda/lib/python3.9/json/decoder.py\u001b[0m in \u001b[0;36mraw_decode\u001b[0;34m(self, s, idx)\u001b[0m\n\u001b[1;32m    353\u001b[0m             \u001b[0mobj\u001b[0m\u001b[0;34m,\u001b[0m \u001b[0mend\u001b[0m \u001b[0;34m=\u001b[0m \u001b[0mself\u001b[0m\u001b[0;34m.\u001b[0m\u001b[0mscan_once\u001b[0m\u001b[0;34m(\u001b[0m\u001b[0ms\u001b[0m\u001b[0;34m,\u001b[0m \u001b[0midx\u001b[0m\u001b[0;34m)\u001b[0m\u001b[0;34m\u001b[0m\u001b[0;34m\u001b[0m\u001b[0m\n\u001b[1;32m    354\u001b[0m         \u001b[0;32mexcept\u001b[0m \u001b[0mStopIteration\u001b[0m \u001b[0;32mas\u001b[0m \u001b[0merr\u001b[0m\u001b[0;34m:\u001b[0m\u001b[0;34m\u001b[0m\u001b[0;34m\u001b[0m\u001b[0m\n\u001b[0;32m--> 355\u001b[0;31m             \u001b[0;32mraise\u001b[0m \u001b[0mJSONDecodeError\u001b[0m\u001b[0;34m(\u001b[0m\u001b[0;34m\"Expecting value\"\u001b[0m\u001b[0;34m,\u001b[0m \u001b[0ms\u001b[0m\u001b[0;34m,\u001b[0m \u001b[0merr\u001b[0m\u001b[0;34m.\u001b[0m\u001b[0mvalue\u001b[0m\u001b[0;34m)\u001b[0m \u001b[0;32mfrom\u001b[0m \u001b[0;32mNone\u001b[0m\u001b[0;34m\u001b[0m\u001b[0;34m\u001b[0m\u001b[0m\n\u001b[0m\u001b[1;32m    356\u001b[0m         \u001b[0;32mreturn\u001b[0m \u001b[0mobj\u001b[0m\u001b[0;34m,\u001b[0m \u001b[0mend\u001b[0m\u001b[0;34m\u001b[0m\u001b[0;34m\u001b[0m\u001b[0m\n",
      "\u001b[0;31mJSONDecodeError\u001b[0m: Expecting value: line 1 column 1 (char 0)"
     ]
    }
   ],
   "source": [
    "from urllib import request\n",
    "import json\n",
    "import time\n",
    "import csv\n",
    "import pandas as pd\n",
    "from datetime import datetime\n",
    "from datetime import timedelta\n",
    "\n",
    "def get_data(url):\n",
    "    headers = {\n",
    "        'User-Agent':'Mozilla/5.0 (Windows NT 6.1; WOW64) AppleWebKit/537.36 (KHTML, like Gecko) Chrome/53.0.2785.89 Safari/537.36'\n",
    "    }\n",
    "    req = request.Request(url,headers = headers)\n",
    "    response = request.urlopen(req)\n",
    "    if response.getcode() == 200:\n",
    "        return response.read()\n",
    "    return None\n",
    "\n",
    "def parse_data(html):\n",
    "    data = json.loads(html)['cmts']\n",
    "    comments = []\n",
    "    for item in data:\n",
    "        comment = {\n",
    "            'id':item['id'],\n",
    "            'nickName':item['nickName'],\n",
    "            'cityName':item['cityName'] if 'cityName' in item else'',#处理cityName不存在的情况\n",
    "            'content':item['content'].replace('\\n','',10), #处理评论内容的换情况\n",
    "            'score':item['score'],\n",
    "            'startTime':item['startTime']\n",
    "        }\n",
    "        print(comment)\n",
    "        comments.append(comment)\n",
    "    return comments\n",
    "\n",
    "\n",
    "def save_to_txt():\n",
    "    start_time = datetime.now().strftime('%Y-%m-%d %H:%M:%S')\n",
    "    print(start_time)\n",
    "    end_time = '2019-10-10 00:00:00'\n",
    "    df = pd.DataFrame(columns=['id','content','score'])\n",
    "    while start_time > end_time:\n",
    "        url = 'http://m.maoyan.com/mmdb/comments/movie/1277939.json?_v_==yes&offset=0&startTime=' + start_time.replace(' ','%20')\n",
    "        html = None\n",
    "        \"\"\"\n",
    "            问题：当请求过于频繁时，服务器会拒绝连接，实际上是服务器的反爬虫策略\n",
    "            解决：1.在每个请求增加延时0.1秒，尽量减少请求别拒绝\n",
    "                 2.如果被拒绝，则0.5秒后重试\n",
    "        \"\"\"\n",
    "        try:\n",
    "            html = get_data(url)\n",
    "        except Exception as e:\n",
    "            time.sleep(0.5)\n",
    "            html = get_data(url)\n",
    "        else:\n",
    "            time.sleep(0.1)      \n",
    "        comments = parse_data(html)            \n",
    "        start_time = comments[14]['startTime']\n",
    "        start_time = datetime.strptime(start_time,'%Y-%m-%d %H:%M:%S') + timedelta(seconds=-1) #转换为datetime类型，减1秒，避免获取到重复数据\n",
    "        start_time = datetime.strftime(start_time,'%Y-%m-%d %H:%M:%S') #转换为str     \n",
    "        for item in comments:\n",
    "            item_list = []\n",
    "            item_list.append(item['id'])\n",
    "            item_list.append(item['content'])\n",
    "            item_list.append(item['score'])\n",
    "            item_list.append(item['startTime'])\n",
    "            with open(\"comments.csv\", \"a\", newline='',encoding=\"utf_8_sig\") as file:\n",
    "                writer = csv.writer(file,delimiter=',')\n",
    "                writer.writerow(item_list)\n",
    "                \n",
    "if __name__ == \"__main__\":\n",
    "    html = get_data('http://m.maoyan.com/mmdb/comments/movie/1277939.json')\n",
    "    comments = parse_data(html)\n",
    "    print(comments)\n",
    "    save_to_txt()"
   ]
  },
  {
   "cell_type": "code",
   "execution_count": null,
   "metadata": {},
   "outputs": [],
   "source": []
  }
 ],
 "metadata": {
  "kernelspec": {
   "display_name": "Python 3",
   "language": "python",
   "name": "python3"
  },
  "language_info": {
   "codemirror_mode": {
    "name": "ipython",
    "version": 3
   },
   "file_extension": ".py",
   "mimetype": "text/x-python",
   "name": "python",
   "nbconvert_exporter": "python",
   "pygments_lexer": "ipython3",
   "version": "3.9.2"
  }
 },
 "nbformat": 4,
 "nbformat_minor": 2
}
