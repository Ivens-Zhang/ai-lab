{
 "cells": [
  {
   "cell_type": "code",
   "execution_count": null,
   "metadata": {},
   "outputs": [],
   "source": [
    "<br>\n",
    "<br>\n",
    "<center>\n",
    "    \n",
    "# 2016年美国总统大选数据分析\n",
    "\n",
    "</center>\n",
    "<br>"
   ]
  },
  {
   "cell_type": "markdown",
   "metadata": {},
   "source": [
    "![](img/trump.jpeg)"
   ]
  },
  {
   "cell_type": "markdown",
   "metadata": {},
   "source": [
    "### 对2016美国大选民意调查数据进行统计分析\n",
    "题目来源:[2016美国大选](https://www.kaggle.com/fivethirtyeight/2016-election-polls)"
   ]
  },
  {
   "cell_type": "markdown",
   "metadata": {},
   "source": [
    "### 我们在本次实践中，将会使用到的知识点如下：\n",
    "* 1. python的基本语法\n",
    "* 2. numpy的多维数组\n",
    "* 3. pandas的DataFrame结构\n",
    "* 4. matplotlib的scatter,bar图表\n"
   ]
  },
  {
   "cell_type": "markdown",
   "metadata": {},
   "source": [
    "## 1、分析问题\n",
    "#### 按照月份求两位候选人民调数据的和，用折线图反映两位候选人民调的走势\n",
    "\n",
    "* 对日期数据进行处理： mm/dd/yyyy -> yyyy-mm需要使用datetime模块\n",
    "* 对数据处理：判断候选人数据的有效性： -> 有空值 先做处理、数据格式做转换：由str类型转换为float浮点型并求和。\n",
    "* 数据分析可视化呈现：绘制折线图"
   ]
  },
  {
   "cell_type": "markdown",
   "metadata": {},
   "source": [
    "## 2、分析数据\n",
    "#### 从Kaggle官网下载presidential_polls.csv，这个数据集是人民的选举数据，在data目录下已经下载好数据\n",
    "加载csv数据，获取其中一些列的数据：民调结束的时间（enddate），希拉里的民调（adjpoll_clinton），特朗普民调数据（adjpoll_trump）"
   ]
  },
  {
   "cell_type": "code",
   "execution_count": 33,
   "metadata": {
    "ExecuteTime": {
     "end_time": "2019-11-19T09:10:54.595038Z",
     "start_time": "2019-11-19T09:10:54.577118Z"
    }
   },
   "outputs": [
    {
     "data": {
      "text/html": [
       "<div>\n",
       "<style scoped>\n",
       "    .dataframe tbody tr th:only-of-type {\n",
       "        vertical-align: middle;\n",
       "    }\n",
       "\n",
       "    .dataframe tbody tr th {\n",
       "        vertical-align: top;\n",
       "    }\n",
       "\n",
       "    .dataframe thead th {\n",
       "        text-align: right;\n",
       "    }\n",
       "</style>\n",
       "<table border=\"1\" class=\"dataframe\">\n",
       "  <thead>\n",
       "    <tr style=\"text-align: right;\">\n",
       "      <th></th>\n",
       "      <th>cycle</th>\n",
       "      <th>branch</th>\n",
       "      <th>type</th>\n",
       "      <th>matchup</th>\n",
       "      <th>forecastdate</th>\n",
       "      <th>state</th>\n",
       "      <th>startdate</th>\n",
       "      <th>enddate</th>\n",
       "      <th>pollster</th>\n",
       "      <th>grade</th>\n",
       "      <th>...</th>\n",
       "      <th>adjpoll_clinton</th>\n",
       "      <th>adjpoll_trump</th>\n",
       "      <th>adjpoll_johnson</th>\n",
       "      <th>adjpoll_mcmullin</th>\n",
       "      <th>multiversions</th>\n",
       "      <th>url</th>\n",
       "      <th>poll_id</th>\n",
       "      <th>question_id</th>\n",
       "      <th>createddate</th>\n",
       "      <th>timestamp</th>\n",
       "    </tr>\n",
       "  </thead>\n",
       "  <tbody>\n",
       "    <tr>\n",
       "      <th>0</th>\n",
       "      <td>2016</td>\n",
       "      <td>President</td>\n",
       "      <td>polls-plus</td>\n",
       "      <td>Clinton vs. Trump vs. Johnson</td>\n",
       "      <td>11/1/16</td>\n",
       "      <td>U.S.</td>\n",
       "      <td>10/25/2016</td>\n",
       "      <td>10/31/2016</td>\n",
       "      <td>Google Consumer Surveys</td>\n",
       "      <td>B</td>\n",
       "      <td>...</td>\n",
       "      <td>42.64140</td>\n",
       "      <td>40.86509</td>\n",
       "      <td>5.675099</td>\n",
       "      <td>NaN</td>\n",
       "      <td>NaN</td>\n",
       "      <td>https://datastudio.google.com/u/0/#/org//repor...</td>\n",
       "      <td>47940</td>\n",
       "      <td>74999</td>\n",
       "      <td>11/1/16</td>\n",
       "      <td>15:09:38  1 Nov 2016</td>\n",
       "    </tr>\n",
       "    <tr>\n",
       "      <th>1</th>\n",
       "      <td>2016</td>\n",
       "      <td>President</td>\n",
       "      <td>polls-plus</td>\n",
       "      <td>Clinton vs. Trump vs. Johnson</td>\n",
       "      <td>11/1/16</td>\n",
       "      <td>U.S.</td>\n",
       "      <td>10/27/2016</td>\n",
       "      <td>10/30/2016</td>\n",
       "      <td>ABC News/Washington Post</td>\n",
       "      <td>A+</td>\n",
       "      <td>...</td>\n",
       "      <td>43.29659</td>\n",
       "      <td>44.72984</td>\n",
       "      <td>3.401513</td>\n",
       "      <td>NaN</td>\n",
       "      <td>NaN</td>\n",
       "      <td>http://www.langerresearch.com/wp-content/uploa...</td>\n",
       "      <td>47881</td>\n",
       "      <td>74936</td>\n",
       "      <td>11/1/16</td>\n",
       "      <td>15:09:38  1 Nov 2016</td>\n",
       "    </tr>\n",
       "    <tr>\n",
       "      <th>2</th>\n",
       "      <td>2016</td>\n",
       "      <td>President</td>\n",
       "      <td>polls-plus</td>\n",
       "      <td>Clinton vs. Trump vs. Johnson</td>\n",
       "      <td>11/1/16</td>\n",
       "      <td>Virginia</td>\n",
       "      <td>10/27/2016</td>\n",
       "      <td>10/30/2016</td>\n",
       "      <td>ABC News/Washington Post</td>\n",
       "      <td>A+</td>\n",
       "      <td>...</td>\n",
       "      <td>46.29779</td>\n",
       "      <td>40.72604</td>\n",
       "      <td>6.401513</td>\n",
       "      <td>NaN</td>\n",
       "      <td>NaN</td>\n",
       "      <td>https://www.washingtonpost.com/local/virginia-...</td>\n",
       "      <td>47880</td>\n",
       "      <td>74934</td>\n",
       "      <td>11/1/16</td>\n",
       "      <td>15:09:38  1 Nov 2016</td>\n",
       "    </tr>\n",
       "    <tr>\n",
       "      <th>3</th>\n",
       "      <td>2016</td>\n",
       "      <td>President</td>\n",
       "      <td>polls-plus</td>\n",
       "      <td>Clinton vs. Trump vs. Johnson</td>\n",
       "      <td>11/1/16</td>\n",
       "      <td>Florida</td>\n",
       "      <td>10/20/2016</td>\n",
       "      <td>10/24/2016</td>\n",
       "      <td>SurveyUSA</td>\n",
       "      <td>A</td>\n",
       "      <td>...</td>\n",
       "      <td>46.35931</td>\n",
       "      <td>45.30585</td>\n",
       "      <td>1.777730</td>\n",
       "      <td>NaN</td>\n",
       "      <td>NaN</td>\n",
       "      <td>http://www.baynews9.com/content/news/baynews9/...</td>\n",
       "      <td>47465</td>\n",
       "      <td>74252</td>\n",
       "      <td>10/25/16</td>\n",
       "      <td>15:09:38  1 Nov 2016</td>\n",
       "    </tr>\n",
       "    <tr>\n",
       "      <th>4</th>\n",
       "      <td>2016</td>\n",
       "      <td>President</td>\n",
       "      <td>polls-plus</td>\n",
       "      <td>Clinton vs. Trump vs. Johnson</td>\n",
       "      <td>11/1/16</td>\n",
       "      <td>U.S.</td>\n",
       "      <td>10/20/2016</td>\n",
       "      <td>10/25/2016</td>\n",
       "      <td>Pew Research Center</td>\n",
       "      <td>B+</td>\n",
       "      <td>...</td>\n",
       "      <td>45.32744</td>\n",
       "      <td>42.20888</td>\n",
       "      <td>3.618320</td>\n",
       "      <td>NaN</td>\n",
       "      <td>NaN</td>\n",
       "      <td>http://www.people-press.org/2016/10/27/as-elec...</td>\n",
       "      <td>47616</td>\n",
       "      <td>74519</td>\n",
       "      <td>10/27/16</td>\n",
       "      <td>15:09:38  1 Nov 2016</td>\n",
       "    </tr>\n",
       "  </tbody>\n",
       "</table>\n",
       "<p>5 rows × 27 columns</p>\n",
       "</div>"
      ],
      "text/plain": [
       "   cycle     branch        type                        matchup forecastdate  \\\n",
       "0   2016  President  polls-plus  Clinton vs. Trump vs. Johnson      11/1/16   \n",
       "1   2016  President  polls-plus  Clinton vs. Trump vs. Johnson      11/1/16   \n",
       "2   2016  President  polls-plus  Clinton vs. Trump vs. Johnson      11/1/16   \n",
       "3   2016  President  polls-plus  Clinton vs. Trump vs. Johnson      11/1/16   \n",
       "4   2016  President  polls-plus  Clinton vs. Trump vs. Johnson      11/1/16   \n",
       "\n",
       "      state   startdate     enddate                  pollster grade  ...  \\\n",
       "0      U.S.  10/25/2016  10/31/2016   Google Consumer Surveys     B  ...   \n",
       "1      U.S.  10/27/2016  10/30/2016  ABC News/Washington Post    A+  ...   \n",
       "2  Virginia  10/27/2016  10/30/2016  ABC News/Washington Post    A+  ...   \n",
       "3   Florida  10/20/2016  10/24/2016                 SurveyUSA     A  ...   \n",
       "4      U.S.  10/20/2016  10/25/2016       Pew Research Center    B+  ...   \n",
       "\n",
       "   adjpoll_clinton adjpoll_trump  adjpoll_johnson  adjpoll_mcmullin  \\\n",
       "0         42.64140      40.86509         5.675099               NaN   \n",
       "1         43.29659      44.72984         3.401513               NaN   \n",
       "2         46.29779      40.72604         6.401513               NaN   \n",
       "3         46.35931      45.30585         1.777730               NaN   \n",
       "4         45.32744      42.20888         3.618320               NaN   \n",
       "\n",
       "   multiversions                                                url  poll_id  \\\n",
       "0            NaN  https://datastudio.google.com/u/0/#/org//repor...    47940   \n",
       "1            NaN  http://www.langerresearch.com/wp-content/uploa...    47881   \n",
       "2            NaN  https://www.washingtonpost.com/local/virginia-...    47880   \n",
       "3            NaN  http://www.baynews9.com/content/news/baynews9/...    47465   \n",
       "4            NaN  http://www.people-press.org/2016/10/27/as-elec...    47616   \n",
       "\n",
       "   question_id  createddate             timestamp  \n",
       "0        74999      11/1/16  15:09:38  1 Nov 2016  \n",
       "1        74936      11/1/16  15:09:38  1 Nov 2016  \n",
       "2        74934      11/1/16  15:09:38  1 Nov 2016  \n",
       "3        74252     10/25/16  15:09:38  1 Nov 2016  \n",
       "4        74519     10/27/16  15:09:38  1 Nov 2016  \n",
       "\n",
       "[5 rows x 27 columns]"
      ]
     },
     "execution_count": 33,
     "metadata": {},
     "output_type": "execute_result"
    }
   ],
   "source": [
    "#数据分析\n",
    "import pandas as pd \n",
    "#科学计算\n",
    "import numpy as np \n",
    "#读取训练数据\n",
    "data_poll = pd.read_csv('./data/presidential_polls.csv',encoding='UTF-8')\n",
    "#查看训练数据\n",
    "data_train.head()"
   ]
  },
  {
   "cell_type": "markdown",
   "metadata": {},
   "source": [
    "#### 我们看到，该数据集包含了2015年11月至2016年11月期间对于2016美国大选的选票数据，共27列数据。包括按州，日期，民意调查和民意调查评分得出的原始和加权民意调查结果的数据。\n"
   ]
  },
  {
   "cell_type": "code",
   "execution_count": 25,
   "metadata": {
    "ExecuteTime": {
     "end_time": "2019-11-19T09:10:54.799794Z",
     "start_time": "2019-11-19T09:10:54.791538Z"
    }
   },
   "outputs": [
    {
     "data": {
      "text/html": [
       "<div>\n",
       "<style scoped>\n",
       "    .dataframe tbody tr th:only-of-type {\n",
       "        vertical-align: middle;\n",
       "    }\n",
       "\n",
       "    .dataframe tbody tr th {\n",
       "        vertical-align: top;\n",
       "    }\n",
       "\n",
       "    .dataframe thead th {\n",
       "        text-align: right;\n",
       "    }\n",
       "</style>\n",
       "<table border=\"1\" class=\"dataframe\">\n",
       "  <thead>\n",
       "    <tr style=\"text-align: right;\">\n",
       "      <th></th>\n",
       "      <th>cycle</th>\n",
       "      <th>samplesize</th>\n",
       "      <th>poll_wt</th>\n",
       "      <th>rawpoll_clinton</th>\n",
       "      <th>rawpoll_trump</th>\n",
       "      <th>rawpoll_johnson</th>\n",
       "      <th>rawpoll_mcmullin</th>\n",
       "      <th>adjpoll_clinton</th>\n",
       "      <th>adjpoll_trump</th>\n",
       "      <th>adjpoll_johnson</th>\n",
       "      <th>adjpoll_mcmullin</th>\n",
       "      <th>poll_id</th>\n",
       "      <th>question_id</th>\n",
       "    </tr>\n",
       "  </thead>\n",
       "  <tbody>\n",
       "    <tr>\n",
       "      <th>count</th>\n",
       "      <td>10236.0</td>\n",
       "      <td>10233.000000</td>\n",
       "      <td>10236.000000</td>\n",
       "      <td>10236.000000</td>\n",
       "      <td>10236.000000</td>\n",
       "      <td>6480.000000</td>\n",
       "      <td>51.000000</td>\n",
       "      <td>10236.000000</td>\n",
       "      <td>10236.000000</td>\n",
       "      <td>6480.000000</td>\n",
       "      <td>51.000000</td>\n",
       "      <td>10236.000000</td>\n",
       "      <td>10236.000000</td>\n",
       "    </tr>\n",
       "    <tr>\n",
       "      <th>mean</th>\n",
       "      <td>2016.0</td>\n",
       "      <td>1115.791557</td>\n",
       "      <td>0.221769</td>\n",
       "      <td>41.717579</td>\n",
       "      <td>39.227002</td>\n",
       "      <td>7.713394</td>\n",
       "      <td>23.235294</td>\n",
       "      <td>43.024900</td>\n",
       "      <td>42.048617</td>\n",
       "      <td>4.804207</td>\n",
       "      <td>24.877707</td>\n",
       "      <td>45317.883060</td>\n",
       "      <td>70588.462485</td>\n",
       "    </tr>\n",
       "    <tr>\n",
       "      <th>std</th>\n",
       "      <td>0.0</td>\n",
       "      <td>2159.610968</td>\n",
       "      <td>0.535846</td>\n",
       "      <td>7.482747</td>\n",
       "      <td>7.648679</td>\n",
       "      <td>2.948387</td>\n",
       "      <td>7.278979</td>\n",
       "      <td>6.732445</td>\n",
       "      <td>6.707382</td>\n",
       "      <td>2.492364</td>\n",
       "      <td>5.710113</td>\n",
       "      <td>2871.251404</td>\n",
       "      <td>4677.283414</td>\n",
       "    </tr>\n",
       "    <tr>\n",
       "      <th>min</th>\n",
       "      <td>2016.0</td>\n",
       "      <td>35.000000</td>\n",
       "      <td>0.000000</td>\n",
       "      <td>11.040000</td>\n",
       "      <td>4.000000</td>\n",
       "      <td>0.000000</td>\n",
       "      <td>9.000000</td>\n",
       "      <td>16.419590</td>\n",
       "      <td>3.233949</td>\n",
       "      <td>-3.372429</td>\n",
       "      <td>13.973230</td>\n",
       "      <td>35362.000000</td>\n",
       "      <td>47244.000000</td>\n",
       "    </tr>\n",
       "    <tr>\n",
       "      <th>25%</th>\n",
       "      <td>2016.0</td>\n",
       "      <td>440.000000</td>\n",
       "      <td>0.000444</td>\n",
       "      <td>38.000000</td>\n",
       "      <td>34.877500</td>\n",
       "      <td>6.000000</td>\n",
       "      <td>20.000000</td>\n",
       "      <td>40.151210</td>\n",
       "      <td>37.973375</td>\n",
       "      <td>3.321973</td>\n",
       "      <td>21.407520</td>\n",
       "      <td>44850.750000</td>\n",
       "      <td>68747.000000</td>\n",
       "    </tr>\n",
       "    <tr>\n",
       "      <th>50%</th>\n",
       "      <td>2016.0</td>\n",
       "      <td>772.000000</td>\n",
       "      <td>0.008206</td>\n",
       "      <td>43.000000</td>\n",
       "      <td>39.000000</td>\n",
       "      <td>7.250000</td>\n",
       "      <td>26.000000</td>\n",
       "      <td>43.732560</td>\n",
       "      <td>42.034530</td>\n",
       "      <td>4.502154</td>\n",
       "      <td>26.093830</td>\n",
       "      <td>45925.500000</td>\n",
       "      <td>71773.500000</td>\n",
       "    </tr>\n",
       "    <tr>\n",
       "      <th>75%</th>\n",
       "      <td>2016.0</td>\n",
       "      <td>1225.000000</td>\n",
       "      <td>0.101939</td>\n",
       "      <td>46.000000</td>\n",
       "      <td>44.000000</td>\n",
       "      <td>9.000000</td>\n",
       "      <td>29.000000</td>\n",
       "      <td>46.507035</td>\n",
       "      <td>45.373782</td>\n",
       "      <td>5.855422</td>\n",
       "      <td>29.672160</td>\n",
       "      <td>47008.250000</td>\n",
       "      <td>73497.750000</td>\n",
       "    </tr>\n",
       "    <tr>\n",
       "      <th>max</th>\n",
       "      <td>2016.0</td>\n",
       "      <td>40816.000000</td>\n",
       "      <td>7.591351</td>\n",
       "      <td>88.000000</td>\n",
       "      <td>68.000000</td>\n",
       "      <td>25.000000</td>\n",
       "      <td>31.000000</td>\n",
       "      <td>86.699620</td>\n",
       "      <td>71.864600</td>\n",
       "      <td>19.277800</td>\n",
       "      <td>31.982120</td>\n",
       "      <td>48000.000000</td>\n",
       "      <td>75067.000000</td>\n",
       "    </tr>\n",
       "  </tbody>\n",
       "</table>\n",
       "</div>"
      ],
      "text/plain": [
       "         cycle    samplesize       poll_wt  rawpoll_clinton  rawpoll_trump  \\\n",
       "count  10236.0  10233.000000  10236.000000     10236.000000   10236.000000   \n",
       "mean    2016.0   1115.791557      0.221769        41.717579      39.227002   \n",
       "std        0.0   2159.610968      0.535846         7.482747       7.648679   \n",
       "min     2016.0     35.000000      0.000000        11.040000       4.000000   \n",
       "25%     2016.0    440.000000      0.000444        38.000000      34.877500   \n",
       "50%     2016.0    772.000000      0.008206        43.000000      39.000000   \n",
       "75%     2016.0   1225.000000      0.101939        46.000000      44.000000   \n",
       "max     2016.0  40816.000000      7.591351        88.000000      68.000000   \n",
       "\n",
       "       rawpoll_johnson  rawpoll_mcmullin  adjpoll_clinton  adjpoll_trump  \\\n",
       "count      6480.000000         51.000000     10236.000000   10236.000000   \n",
       "mean          7.713394         23.235294        43.024900      42.048617   \n",
       "std           2.948387          7.278979         6.732445       6.707382   \n",
       "min           0.000000          9.000000        16.419590       3.233949   \n",
       "25%           6.000000         20.000000        40.151210      37.973375   \n",
       "50%           7.250000         26.000000        43.732560      42.034530   \n",
       "75%           9.000000         29.000000        46.507035      45.373782   \n",
       "max          25.000000         31.000000        86.699620      71.864600   \n",
       "\n",
       "       adjpoll_johnson  adjpoll_mcmullin       poll_id   question_id  \n",
       "count      6480.000000         51.000000  10236.000000  10236.000000  \n",
       "mean          4.804207         24.877707  45317.883060  70588.462485  \n",
       "std           2.492364          5.710113   2871.251404   4677.283414  \n",
       "min          -3.372429         13.973230  35362.000000  47244.000000  \n",
       "25%           3.321973         21.407520  44850.750000  68747.000000  \n",
       "50%           4.502154         26.093830  45925.500000  71773.500000  \n",
       "75%           5.855422         29.672160  47008.250000  73497.750000  \n",
       "max          19.277800         31.982120  48000.000000  75067.000000  "
      ]
     },
     "execution_count": 25,
     "metadata": {},
     "output_type": "execute_result"
    }
   ],
   "source": [
    "# 数据统计\n",
    "data_poll.describe()"
   ]
  },
  {
   "cell_type": "code",
   "execution_count": 35,
   "metadata": {},
   "outputs": [
    {
     "data": {
      "text/plain": [
       "0        40.86509\n",
       "1        44.72984\n",
       "2        40.72604\n",
       "3        45.30585\n",
       "4        42.20888\n",
       "           ...   \n",
       "10231    54.76821\n",
       "10232    39.41588\n",
       "10233    39.97518\n",
       "10234    46.66175\n",
       "10235    44.65947\n",
       "Name: adjpoll_trump, Length: 10236, dtype: float64"
      ]
     },
     "execution_count": 35,
     "metadata": {},
     "output_type": "execute_result"
    }
   ],
   "source": [
    "import datetime as dt\n",
    "#将日期数据进行处理   mm/dd/yyyy -> yyyy-mm \n",
    "dates = [dt.datetime.strptime(date,'%m/%d/%Y') for date in data_poll.enddate.values]\n",
    "update_dates = [i.strftime('%Y-%m') for i in dates]\n",
    "data_poll.enddate = update_dates\n",
    "\n",
    "# #先把两个候选人的数据提取出来(有空值，把空值置0)\n",
    "# #得到两组浮点类型数据，方便计算求和\n",
    "pd.notnull(data_poll[\"adjpoll_clinton\"])\n",
    "\n",
    "# 缺失值填充\n",
    "data_poll.adjpoll_trump.replace(to_replace='', value=0)\n",
    "data_poll.adjpoll_clinton.replace(to_replace='', value=0)\n",
    "# 类型转换\n",
    "data_poll.adjpoll_clinton.astype(np.float64)\n",
    "data_poll.adjpoll_trump.astype(np.float64)\n"
   ]
  },
  {
   "cell_type": "code",
   "execution_count": 36,
   "metadata": {},
   "outputs": [
    {
     "name": "stdout",
     "output_type": "stream",
     "text": [
      "enddate\n",
      "2015-11      1937.329010\n",
      "2015-12      4088.921900\n",
      "2016-01      6248.367790\n",
      "2016-02      7657.118140\n",
      "2016-03     10013.503040\n",
      "2016-04      9838.136360\n",
      "2016-05     12180.809890\n",
      "2016-06     18158.140370\n",
      "2016-07     22697.655450\n",
      "2016-08     66327.648580\n",
      "2016-09    106092.927230\n",
      "2016-10    165169.090509\n",
      "Name: adjpoll_trump, dtype: float64\n"
     ]
    }
   ],
   "source": [
    "# 特朗普每个月的民调数据和如下\n",
    "sum_data_trump = data_poll['adjpoll_trump'].groupby(data_poll['enddate']).sum()\n",
    "print(sum_data_trump)"
   ]
  },
  {
   "cell_type": "code",
   "execution_count": 38,
   "metadata": {},
   "outputs": [
    {
     "name": "stdout",
     "output_type": "stream",
     "text": [
      "enddate\n",
      "2015-11      1916.69806\n",
      "2015-12      4637.25688\n",
      "2016-01      6707.36657\n",
      "2016-02      8081.37200\n",
      "2016-03     11279.98650\n",
      "2016-04     11870.62212\n",
      "2016-05     12738.31554\n",
      "2016-06     20255.68739\n",
      "2016-07     23645.84188\n",
      "2016-08     68610.18878\n",
      "2016-09    103729.44540\n",
      "2016-10    166930.09514\n",
      "Name: adjpoll_clinton, dtype: float64\n"
     ]
    },
    {
     "data": {
      "text/plain": [
       "pandas.core.series.Series"
      ]
     },
     "execution_count": 38,
     "metadata": {},
     "output_type": "execute_result"
    }
   ],
   "source": [
    "# 希拉里每个月的民调数据和如下\n",
    "sum_data_clinton = data_poll['adjpoll_clinton'].groupby(data_poll['enddate']).sum()\n",
    "print(sum_data_clinton)\n",
    "type(sum_data_clinton)"
   ]
  },
  {
   "cell_type": "code",
   "execution_count": 71,
   "metadata": {},
   "outputs": [
    {
     "data": {
      "image/png": "[encoded data removed]",
      "text/plain": [
       "<Figure size 1000x600 with 1 Axes>"
      ]
     },
     "metadata": {
      "needs_background": "light"
     },
     "output_type": "display_data"
    }
   ],
   "source": [
    "import matplotlib.pyplot as plt\n",
    "#折线图反映两位候选人民调的走势\n",
    "\n",
    "# 创建画布\n",
    "plt.figure(figsize=(10,6), dpi=100)\n",
    "\n",
    "# x轴数据\n",
    "months = ['15-11','15-12','16-1','16-2','16-3','16-4','16-5','16-6','16-7','16-8','16-9','16-10']\n",
    "\n",
    "plt.plot(months,sum_data_clinton.values,'b',alpha=0.5,label='Trump')\n",
    "plt.plot(months,sum_data_trump.values,'r',alpha=0.5,label='Clinton')\n",
    "\n",
    "plt.xlabel('month')\n",
    "plt.ylabel('sum')\n",
    "plt.title('clinton vs trump')\n",
    "\n",
    "# 设置中文字体（可选）\n",
    "# plt.rcParams['font.sans-serif'] = ['SimHei']\n",
    "\n",
    "# 设置背景网格（虚线）\n",
    "plt.xticks(rotation=30)\n",
    "plt.grid(linestyle='--') \n",
    "# 自动在最合适的位置\n",
    "plt.legend(loc='best') # 自动在最合适的位置\n",
    "plt.show()\n"
   ]
  },
  {
   "cell_type": "markdown",
   "metadata": {},
   "source": [
    "#### 我们在图上可以看出来，\n",
    "* trump和cliton的选票走势一致\n"
   ]
  },
  {
   "cell_type": "code",
   "execution_count": 77,
   "metadata": {},
   "outputs": [
    {
     "data": {
      "image/png": "[encoded data removed]",
      "text/plain": [
       "<Figure size 1000x600 with 1 Axes>"
      ]
     },
     "metadata": {
      "needs_background": "light"
     },
     "output_type": "display_data"
    }
   ],
   "source": [
    "import matplotlib.pyplot as plt\n",
    "# 柱状图反映两位候选人民调的对比\n",
    "\n",
    "# 创建画布\n",
    "plt.figure(figsize=(10,6), dpi=100)\n",
    "\n",
    "# x轴数据\n",
    "x = np.arange(12)\n",
    "months = ['15-11','15-12','16-1','16-2','16-3','16-4','16-5','16-6','16-7','16-8','16-9','16-10']\n",
    "bar_width = 0.5\n",
    "\n",
    "plt.bar(x,sum_data_clinton.values,width=bar_width,label='Clinton',color='b')\n",
    "plt.bar(x + bar_width,sum_data_trump.values,width=bar_width,label='Trump',color='r')\n",
    "\n",
    "plt.xlabel('month')\n",
    "plt.ylabel('sum')\n",
    "plt.title('clinton vs trump')\n",
    "\n",
    "plt.rcParams['font.sans-serif'] = ['SimHei']\n",
    "\n",
    "# 设置背景网格（虚线）\n",
    "plt.xticks(x + bar_width/2,months)\n",
    "plt.grid(linestyle='--') \n",
    "# 自动在最合适的位置\n",
    "plt.legend(loc='best') # 自动在最合适的位置\n",
    "plt.show()"
   ]
  },
  {
   "cell_type": "code",
   "execution_count": null,
   "metadata": {},
   "outputs": [],
   "source": [
    "#### 我们在图上可以看出来，\n",
    "* trump和cliton的选票十分接近"
   ]
  },
  {
   "cell_type": "code",
   "execution_count": 76,
   "metadata": {},
   "outputs": [
    {
     "name": "stdout",
     "output_type": "stream",
     "text": [
      "clinton: 440402.87625999993\n",
      "trump: 430409.648269\n"
     ]
    }
   ],
   "source": [
    "# 我们从累计票数来对比\n",
    "print(\"clinton:\",data_poll['adjpoll_clinton'].sum())\n",
    "print(\"trump:\",data_poll['adjpoll_trump'].sum())"
   ]
  }
 ],
 "metadata": {
  "kernelspec": {
   "display_name": "Python 3",
   "language": "python",
   "name": "python3"
  },
  "language_info": {
   "codemirror_mode": {
    "name": "ipython",
    "version": 3
   },
   "file_extension": ".py",
   "mimetype": "text/x-python",
   "name": "python",
   "nbconvert_exporter": "python",
   "pygments_lexer": "ipython3",
   "version": "3.9.2"
  }
 },
 "nbformat": 4,
 "nbformat_minor": 4
}
