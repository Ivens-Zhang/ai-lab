{
 "cells": [
  {
   "cell_type": "markdown",
   "metadata": {},
   "source": [
    "# Numpy课堂作业"
   ]
  },
  {
   "cell_type": "markdown",
   "metadata": {},
   "source": [
    "### 2016年美国总统大选民意调查数据统计：\n",
    "\n",
    "数据来源：https://www.kaggle.com/fivethirtyeight/2016-election-polls       \n",
    "该数据集包含了2015年11月至2016年11月期间对于2016美国大选的选票数据，共27列数据。包括按州，日期，民意调查和民意调查评分得出的原始和加权民意调查结果的数据。"
   ]
  },
  {
   "cell_type": "markdown",
   "metadata": {},
   "source": [
    "       \n",
    "题目：分析随时间推移的民意调查趋势，提取特朗普/克林顿的选票比率。"
   ]
  },
  {
   "cell_type": "code",
   "execution_count": 3,
   "metadata": {
    "ExecuteTime": {
     "end_time": "2019-11-19T09:46:14.463818Z",
     "start_time": "2019-11-19T09:46:14.359570Z"
    }
   },
   "outputs": [
    {
     "name": "stdout",
     "output_type": "stream",
     "text": [
      "[['enddate' 'rawpoll_clinton' 'rawpoll_trump' 'adjpoll_clinton'\n",
      "  'adjpoll_trump']\n",
      " ['10/31/2016' '37.69' '35.07' '42.6414' '40.86509']\n",
      " ['10/30/2016' '45' '46' '43.29659' '44.72984']\n",
      " ...\n",
      " ['9/22/2016' '46.54' '40.04' '45.9713' '39.97518']\n",
      " ['6/21/2016' '43' '43' '45.2939' '46.66175']\n",
      " ['8/18/2016' '32.54' '43.61' '31.62721' '44.65947']] (10237, 5)\n"
     ]
    }
   ],
   "source": [
    "# genfromtxt\n",
    "import numpy as np\n",
    "# 读取列名，即第一行数据\n",
    "filename = './data/presidential_polls.csv'\n",
    "with open(filename, 'r') as f:\n",
    "    col_names_str = f.readline()[:-1] # [:-1]表示不读取末尾的换行符'\\n'\n",
    "# 将字符串拆分，并组成列表\n",
    "col_name_lst = col_names_str.split(',')\n",
    "\n",
    "# 使用的列名：结束时间，克林顿原始票数，川普原始票数，克林顿调整后票数，川普调整后票数\n",
    "use_col_name_lst = ['enddate', 'rawpoll_clinton', 'rawpoll_trump','adjpoll_clinton', 'adjpoll_trump']\n",
    "\n",
    "# 获取相应列名的索引号\n",
    "use_col_index_lst = [col_name_lst.index(use_col_name) for use_col_name in use_col_name_lst]\n",
    "\n",
    "# 通过genfromtxt()读取本地csv文件，\n",
    "data_array = np.genfromtxt(filename,      # 文件名\n",
    "                        delimiter=',', # csv文件的分隔符\n",
    "                        #skiprows=1,    # 跳过第一行，即跳过列名\n",
    "                        dtype=str,     # 数据类型，数据不再是Unicode字符串\n",
    "                        usecols=use_col_index_lst)# 指定读取的列索引号\n",
    "print(data_array, data_array.shape)"
   ]
  },
  {
   "cell_type": "code",
   "execution_count": null,
   "metadata": {},
   "outputs": [],
   "source": []
  }
 ],
 "metadata": {
  "kernelspec": {
   "display_name": "Python 3",
   "language": "python",
   "name": "python3"
  },
  "language_info": {
   "codemirror_mode": {
    "name": "ipython",
    "version": 3
   },
   "file_extension": ".py",
   "mimetype": "text/x-python",
   "name": "python",
   "nbconvert_exporter": "python",
   "pygments_lexer": "ipython3",
   "version": "3.7.1"
  }
 },
 "nbformat": 4,
 "nbformat_minor": 2
}
