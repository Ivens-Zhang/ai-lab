{
 "cells": [
  {
   "cell_type": "code",
   "execution_count": null,
   "metadata": {
    "collapsed": true,
    "deletable": true,
    "editable": true
   },
   "outputs": [],
   "source": [
    "# *-* coding:utf-8 *-*\n",
    "\n",
    "#定义参数\n",
    "\n",
    "class Config(object):\n",
    "    \"\"\"\n",
    "    poetry_file: 诗词数据存放位置\n",
    "    weight_file: 生成模型的存放位置\n",
    "    max_len：根据前六个字预测第七个字\n",
    "    batch_size：批量处理个数\n",
    "    learning_rate：学习率\n",
    "    \"\"\"\n",
    "\n",
    "    poetry_file = '../../../data/day10-nlp-data/poetry.txt'\n",
    "    weight_file = 'model/poetry_model.h5'\n",
    "    max_len = 6\n",
    "    batch_size = 600\n",
    "    learning_rate = 0.001\n"
   ]
  }
 ],
 "metadata": {
  "kernelspec": {
   "display_name": "Python 3",
   "language": "python",
   "name": "python3"
  },
  "language_info": {
   "codemirror_mode": {
    "name": "ipython",
    "version": 3
   },
   "file_extension": ".py",
   "mimetype": "text/x-python",
   "name": "python",
   "nbconvert_exporter": "python",
   "pygments_lexer": "ipython3",
   "version": "3.5.2"
  }
 },
 "nbformat": 4,
 "nbformat_minor": 2
}
